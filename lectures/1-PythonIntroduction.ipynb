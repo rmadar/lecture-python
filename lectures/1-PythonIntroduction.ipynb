{
 "cells": [
  {
   "cell_type": "markdown",
   "metadata": {},
   "source": [
    "# Practical introduction to Python"
   ]
  },
  {
   "cell_type": "markdown",
   "metadata": {},
   "source": [
    "> **Skills to take away**\n",
    ">\n",
    "> - *Basic*: int/float/str, list/dictionary, indexing/slicing, loops, functions, reading/writing files, use a class (attributes, methods), write simplified python code, as defined in the end of this chapter.\n",
    "> - *Medium*: docstring, comprehension, zip()/enumerate(), sorting dictionary, understand an existing class (search for possible attributes, etc ...)\n",
    "> - *Expert*: packing/unpacking, parsing file with correct casting, basic plotting, create a new class"
   ]
  },
  {
   "cell_type": "markdown",
   "metadata": {},
   "source": [
    "## General Information\n",
    "\n",
    "Python can be installed using [Anaconda](https://www.anaconda.com/). [Jupyter Notebook](https://jupyter.org/) (also included with Anaconda) is probably the easiest way to follow this lecture and make your own notes. The goal of this first chapter is to provide a very quick introduction to the basics, but practice is mandatory to get comfortable with Python objects and syntax. You can practice using a web browser only at [LearnPython.org](https://www.learnpython.org). A more complete tutorial (though not interactive) can be found at [W3Schools Python Tutorials](https://www.w3schools.com/python). I recommend following the last tutorial up to the \"Arrays\" section.\n",
    "\n",
    "In Python, there is one instruction per line. Variable assignment is done with `=`, and indentation is used to group instructions together under a loop or a condition block; there are no brackets as in C++. Comments (uninterpreted text) start with `#`. Importation of external modules or functions can be done in three different ways: `import module`, `import module as m`, or `from module import this_function`.\n",
    "\n",
    "In the following example, the result of the command will be printed so that people can check that the computer is doing what is expected. The instruction `print(x)` will print the content of `x`. If several variables are printed, it is convenient to use the `print('x={} and y={}'.format(x, y))` syntax, which will print `x` and `y` in bracket fields with one command, even if they have different types.\n",
    "\n",
    "**Note**: For Python versions greater than 3.6, we can also use *f-strings* which simplify the print commands. This works as follows:\n",
    "```python\n",
    "print(f'x={x} and y={y}')\n",
    "``` \n",
    "where the `x` and `y` in brackets are actual Python variables."
   ]
  },
  {
   "cell_type": "markdown",
   "metadata": {},
   "source": [
    "## Object types\n",
    "\n",
    "**Numbers:** There are three types of numbers: int, float, and complex. The usual operations (`+`, `-`, `*`, `/`) are available. In addition, there is also `a**b` (which means $a^b$), `a // b`, and `a % b` (which are the results of integer divisions - see example below)."
   ]
  },
  {
   "cell_type": "code",
   "execution_count": 1,
   "metadata": {},
   "outputs": [
    {
     "name": "stdout",
     "output_type": "stream",
     "text": [
      "5.140000000000001\n",
      "8.815240927012887\n"
     ]
    }
   ],
   "source": [
    "# Basic numbers and operations\n",
    "a = 2\n",
    "b = 3.14\n",
    "print(a+b)\n",
    "print(a**b)"
   ]
  },
  {
   "cell_type": "code",
   "execution_count": 2,
   "metadata": {},
   "outputs": [
    {
     "data": {
      "text/plain": [
       "(-1+0j)"
      ]
     },
     "execution_count": 2,
     "metadata": {},
     "output_type": "execute_result"
    }
   ],
   "source": [
    "# Complex numbers and power\n",
    "a = 1j\n",
    "a**2"
   ]
  },
  {
   "cell_type": "code",
   "execution_count": 3,
   "metadata": {},
   "outputs": [
    {
     "name": "stdout",
     "output_type": "stream",
     "text": [
      "10 = 2x4 + 2\n"
     ]
    }
   ],
   "source": [
    "# Integer division example (// and % operators)\n",
    "a , b = 10, 4\n",
    "divisor, rest = a//b, a%b\n",
    "print('{} = {}x{} + {}'.format(a, divisor, b, rest))"
   ]
  },
  {
   "cell_type": "markdown",
   "metadata": {},
   "source": [
    "**Strings:** Strings allow for the manipulation of words, sentences, or even text with specific methods. Strings are also Python lists, and list methods work with them as well (see below). Common and useful string manipulations include counting the number of letters with `len(word)` or manipulating a collection of words using `sentence.split(' ')`. Many methods exist, which can be explored by typing `help(str)` in a Python terminal or a Jupyter Notebook."
   ]
  },
  {
   "cell_type": "code",
   "execution_count": 4,
   "metadata": {},
   "outputs": [
    {
     "name": "stdout",
     "output_type": "stream",
     "text": [
      "hello 5 l\n"
     ]
    }
   ],
   "source": [
    "w1 = 'hello'\n",
    "print(w1, len(w1), w1[3])"
   ]
  },
  {
   "cell_type": "code",
   "execution_count": 5,
   "metadata": {},
   "outputs": [
    {
     "name": "stdout",
     "output_type": "stream",
     "text": [
      "hello world\n"
     ]
    }
   ],
   "source": [
    "# Summing two strings is possible (all other operators don't work)\n",
    "blank, w2 = ' ', 'world'\n",
    "sentence = w1 + blank + w2\n",
    "print(sentence)"
   ]
  },
  {
   "cell_type": "code",
   "execution_count": 6,
   "metadata": {},
   "outputs": [
    {
     "name": "stdout",
     "output_type": "stream",
     "text": [
      "hello worldhello worldhello world\n"
     ]
    }
   ],
   "source": [
    "# Multiplying a string by an integer is also possible\n",
    "repetition = sentence*3\n",
    "print(repetition)"
   ]
  },
  {
   "cell_type": "code",
   "execution_count": 7,
   "metadata": {},
   "outputs": [
    {
     "name": "stdout",
     "output_type": "stream",
     "text": [
      "['It', 'is', 'rainy', 'today']\n"
     ]
    }
   ],
   "source": [
    "# Get a list of words from a sentence (cf. below for list objects)\n",
    "s = 'It is rainy today'\n",
    "list_words = s.split(' ')\n",
    "print(list_words)"
   ]
  },
  {
   "cell_type": "code",
   "execution_count": 8,
   "metadata": {},
   "outputs": [
    {
     "name": "stdout",
     "output_type": "stream",
     "text": [
      "It 2\n",
      "is 2\n",
      "rainy 5\n",
      "today 5\n"
     ]
    }
   ],
   "source": [
    "# Loop over the words and get the number of letters\n",
    "for w in s.split(' '):\n",
    "    print(w, len(w))"
   ]
  },
  {
   "cell_type": "markdown",
   "metadata": {},
   "source": [
    "## Object Collections\n",
    "\n",
    "There are four types of collections in Python, each with its own characteristics:\n",
    "\n",
    "- **List**\n",
    "- **Dictionary**\n",
    "- **Tuple**\n",
    "- **Set**\n",
    "\n",
    "The most commonly used collections are lists and dictionaries. Sets are unordered, and tuples cannot be modified. Common methods for collections include:\n",
    "\n",
    "- Number of items: `len(x)`\n",
    "- Loop over items with `for element in x:`\n",
    "- Check if an item is in the collection: `element in x`\n",
    "\n",
    "**Lists:** Lists are one of the most frequently used collection objects in Python because they are the next-to-simplest level after individual variables. A Python list is a list of objects with possibly different types. You can search, loop, and count with lists. You can also add two lists or multiply a list by an integer, which performs concatenation or duplication (these concepts will be important for NumPy arrays). Indexing elements is a convenient way to access specific information. You can access the $i^{\\text{th}}$ element with `my_list[i]` or retrieve a sub-list with `my_list[i:j]`. You can also take only one element every `n` with `my_list[i:j:n]` (more precisely, this takes elements of index $i+p\\times n$ until $j$, with $p=0, 1, 2, ...$). With this syntax, reversing the order of the list is easy: `reverted_list = my_list[::-1]`, where empty variables are default values (namely `0` and `len(my_list)`)."
   ]
  },
  {
   "cell_type": "code",
   "execution_count": 9,
   "metadata": {},
   "outputs": [
    {
     "name": "stdout",
     "output_type": "stream",
     "text": [
      "Second element is 3\n",
      "Number of elements: 4\n",
      "Is 'banana' in the list? True\n"
     ]
    }
   ],
   "source": [
    "# Defining a list and access basic information\n",
    "my_list1 = [1, 3, 4, 'banana']\n",
    "print('Second element is {}'.format(my_list1[1]))\n",
    "print('Number of elements: {}'.format(len(my_list1)))\n",
    "print('Is \\'banana\\' in the list? {}'.format('banana' in my_list1))"
   ]
  },
  {
   "cell_type": "code",
   "execution_count": 10,
   "metadata": {},
   "outputs": [
    {
     "name": "stdout",
     "output_type": "stream",
     "text": [
      "[1, 3, 4, 'banana', 'string', (1+3j), [100, 1000]]\n"
     ]
    }
   ],
   "source": [
    "# Sum of two lists\n",
    "my_list2 = ['string', 1+3j, [100, 1000]]\n",
    "my_list = my_list1 + my_list2\n",
    "print(my_list)"
   ]
  },
  {
   "cell_type": "code",
   "execution_count": 11,
   "metadata": {},
   "outputs": [
    {
     "name": "stdout",
     "output_type": "stream",
     "text": [
      "[1, 3, 4, 'banana', 'string', (1+3j), [100, 1000], 1, 3, 4, 'banana', 'string', (1+3j), [100, 1000]]\n"
     ]
    }
   ],
   "source": [
    "# List multiplied by an integer\n",
    "my_list = my_list*2\n",
    "print(my_list)"
   ]
  },
  {
   "cell_type": "code",
   "execution_count": 12,
   "metadata": {},
   "outputs": [
    {
     "name": "stdout",
     "output_type": "stream",
     "text": [
      "[100, 1000] is <class 'list'>\n",
      "(1+3j) is <class 'complex'>\n",
      "string is <class 'str'>\n",
      "banana is <class 'str'>\n",
      "4 is <class 'int'>\n",
      "3 is <class 'int'>\n"
     ]
    }
   ],
   "source": [
    "# Looping over list element and print the type of seven first elements in the reversed order.\n",
    "for element in my_list[6:0:-1]:\n",
    "    print('{} is {}'.format(element, type(element)))"
   ]
  },
  {
   "cell_type": "markdown",
   "metadata": {},
   "source": [
    "**Sets and Tuples**\n",
    "\n",
    "Tuples and sets are modified versions of Python lists. Tuples are ordered but cannot be modified (no assignment, no addition), while sets are not ordered but can be modified. In this context, \"order\" means indexing (so `x[i:j:n]` syntax, among others). Searching or looping over elements works in the same way as for lists."
   ]
  },
  {
   "cell_type": "code",
   "execution_count": 13,
   "metadata": {},
   "outputs": [
    {
     "name": "stdout",
     "output_type": "stream",
     "text": [
      "(1, 3, 7)\n",
      "7\n",
      "Impossible to change the value of a tuple\n"
     ]
    }
   ],
   "source": [
    "# Tuple\n",
    "t = (1, 3, 7)\n",
    "print(t)\n",
    "\n",
    "# Access the third element\n",
    "print(t[2])\n",
    "\n",
    "# Try to modify the second element - using the 'try - except' synthax\n",
    "try: \n",
    "    t[1] = 'hello'\n",
    "except TypeError:\n",
    "    print('Impossible to change the value of a tuple')"
   ]
  },
  {
   "cell_type": "markdown",
   "metadata": {},
   "source": [
    "Sets can be modified with methods like `s.add(x)` or `s.update([x, y])`."
   ]
  },
  {
   "cell_type": "code",
   "execution_count": 14,
   "metadata": {},
   "outputs": [
    {
     "name": "stdout",
     "output_type": "stream",
     "text": [
      "{'orange', 'banana', 'apple'}\n",
      "{'pineapple', 'orange', 'banana', 'apple'}\n",
      "{'orange', 'pineapple', 'apple', 'pear', 'prune', 'banana'}\n"
     ]
    }
   ],
   "source": [
    "# Set\n",
    "s = {'apple', 'banana', 'orange'}\n",
    "print(s)\n",
    "\n",
    "# Add one element\n",
    "s.add('pineapple')\n",
    "print(s)\n",
    "\n",
    "# Add a list\n",
    "s.update(['pear', 'prune'])\n",
    "print(s)"
   ]
  },
  {
   "cell_type": "code",
   "execution_count": 15,
   "metadata": {},
   "outputs": [
    {
     "name": "stdout",
     "output_type": "stream",
     "text": [
      "Impossible to access element via indexing\n"
     ]
    }
   ],
   "source": [
    "# Try to access the second element - using the 'try - except' synthax\n",
    "try: \n",
    "    print(s[1])\n",
    "except TypeError:\n",
    "    print('Impossible to access element via indexing')"
   ]
  },
  {
   "cell_type": "markdown",
   "metadata": {},
   "source": [
    "**Dictionaries:** Various object types are important for manipulating and organizing data. The most common one is the dictionary, which works with pairs of (`key`, `value`). The `key` must be a non-modifiable object, typically a string or an integer, but it cannot be a list. This is a powerful concept for storing different types of information within the same object. One can easily loop, search, modify a given key's value, or even add a new key quite easily."
   ]
  },
  {
   "cell_type": "code",
   "execution_count": 16,
   "metadata": {},
   "outputs": [
    {
     "name": "stdout",
     "output_type": "stream",
     "text": [
      "{'name': 'Charles', 'age': 78, 'size': 173, 'gender': 'M'}\n"
     ]
    }
   ],
   "source": [
    "# dictionary\n",
    "person = {'name': 'Charles', 'age': 78, 'size': 173, 'gender': 'M'}\n",
    "print(person)"
   ]
  },
  {
   "cell_type": "code",
   "execution_count": 17,
   "metadata": {},
   "outputs": [
    {
     "name": "stdout",
     "output_type": "stream",
     "text": [
      "Charles (M) is 78 years old and is 173 cm\n"
     ]
    }
   ],
   "source": [
    "# Accessing value using the key\n",
    "template = '{} ({}) is {} years old and is {} cm'\n",
    "print(template.format(person['name'], person['gender'], person['age'], person['size']))"
   ]
  },
  {
   "cell_type": "code",
   "execution_count": 18,
   "metadata": {},
   "outputs": [
    {
     "name": "stdout",
     "output_type": "stream",
     "text": [
      "{'name': 'Charles', 'age': 78, 'size': 173, 'gender': 'M', 'eyes': 'blue'}\n"
     ]
    }
   ],
   "source": [
    "# Adding a key and its value\n",
    "person['eyes'] = 'blue'\n",
    "print(person)"
   ]
  },
  {
   "cell_type": "code",
   "execution_count": 19,
   "metadata": {},
   "outputs": [
    {
     "name": "stdout",
     "output_type": "stream",
     "text": [
      "True\n",
      "False\n"
     ]
    }
   ],
   "source": [
    "# Test if a key is present\n",
    "print('name' in person)\n",
    "print('brand' in person)"
   ]
  },
  {
   "cell_type": "markdown",
   "metadata": {},
   "source": [
    "## Loops\n",
    "\n",
    "Loops are at the core of programming, especially for data analysis-oriented tasks. There are two ways of repeating an instruction several times: the `for` loop and the `while` loop. Several instructions are common to both loops, such as `continue` (skip the instruction after and switch to the next element) or `break` (stop the loop), but the use cases for these two ways are different.\n",
    "\n",
    "**For Loops:** For data analysis, these are among the most commonly used loops. However, as we will see in the introduction to NumPy, for loops should not be used for heavy computations in Python. For loops are relevant for small (~1000) data samples (and computations). We'll come back to this point in the lecture. Below, a few examples are provided."
   ]
  },
  {
   "cell_type": "code",
   "execution_count": 20,
   "metadata": {},
   "outputs": [
    {
     "name": "stdout",
     "output_type": "stream",
     "text": [
      "285\n"
     ]
    }
   ],
   "source": [
    "# Compute sum(i^2) for i from 0 to 9\n",
    "x = 0\n",
    "for i in range(0, 10):\n",
    "    x += i**2\n",
    "print(x)"
   ]
  },
  {
   "cell_type": "code",
   "execution_count": 21,
   "metadata": {},
   "outputs": [
    {
     "name": "stdout",
     "output_type": "stream",
     "text": [
      "pineapple\n",
      "apple\n",
      "pear\n",
      "prune\n"
     ]
    }
   ],
   "source": [
    "# Loop over fruit via a set and print only ones with a 'p'\n",
    "for fruit in s:\n",
    "    if 'p' in fruit:\n",
    "        print(fruit)"
   ]
  },
  {
   "cell_type": "markdown",
   "metadata": {},
   "source": [
    "There are several ways to loop over dictionaries, depending on how you want to access the information. You can access information by keys, values, or both. Below, examples of each are provided."
   ]
  },
  {
   "cell_type": "code",
   "execution_count": 22,
   "metadata": {},
   "outputs": [
    {
     "name": "stdout",
     "output_type": "stream",
     "text": [
      "name: Charles\n",
      "age: 78\n",
      "size: 173\n",
      "gender: M\n",
      "eyes: blue\n"
     ]
    }
   ],
   "source": [
    "# Loop over keys for a dictionary and access the value of each\n",
    "for properties in person:\n",
    "    value = person[properties]\n",
    "    print('{}: {}'.format(properties, value))"
   ]
  },
  {
   "cell_type": "code",
   "execution_count": 23,
   "metadata": {},
   "outputs": [
    {
     "name": "stdout",
     "output_type": "stream",
     "text": [
      "Charles\n",
      "78\n",
      "173\n",
      "M\n",
      "blue\n"
     ]
    }
   ],
   "source": [
    "# Loop over dictionary values only\n",
    "for v in person.values():\n",
    "    print(v)"
   ]
  },
  {
   "cell_type": "code",
   "execution_count": 24,
   "metadata": {},
   "outputs": [
    {
     "name": "stdout",
     "output_type": "stream",
     "text": [
      "name: Charles\n",
      "age: 78\n",
      "size: 173\n",
      "gender: M\n",
      "eyes: blue\n"
     ]
    }
   ],
   "source": [
    "# Loop over both keys and values directly\n",
    "for key, value in person.items():\n",
    "    print('{}: {}'.format(key, value))"
   ]
  },
  {
   "cell_type": "markdown",
   "metadata": {},
   "source": [
    "*Tip: How to Sort a Dictionary?*\n",
    "\n",
    "It can be noted that dictionaries are natively *not ordered*. This means that you cannot access an item with its index since there is no index. However, it can be convenient to sort dictionary keys according to their values using the general Python function `sorted(collection, key=function)` and a type of object called `OrderedDict` from the `collections` module, as explained below."
   ]
  },
  {
   "cell_type": "code",
   "execution_count": 25,
   "metadata": {},
   "outputs": [
    {
     "name": "stdout",
     "output_type": "stream",
     "text": [
      "Jean 12\n",
      "Chloe 17\n",
      "Olivier 8\n",
      "Helene 10\n"
     ]
    }
   ],
   "source": [
    "# Define a dictionary\n",
    "students_marks = {\n",
    "    'Jean': 12,\n",
    "    'Chloe': 17,\n",
    "    'Olivier': 8,\n",
    "    'Helene': 10\n",
    "    }\n",
    "\n",
    "# Print the key, values items\n",
    "for name, mark in students_marks.items():\n",
    "    print(name, mark)"
   ]
  },
  {
   "cell_type": "markdown",
   "metadata": {},
   "source": [
    "The `sorted()` function works on any type of collection that can be looped over (called an *iterable*). It requires the collection and a function that returns a key on which to sort for each object in the collection. This key can be, for example, a letter or a number. Let's try both by defining a function that retrieves either the mark or the first letter of the name from a dictionary item `(name, mark)`."
   ]
  },
  {
   "cell_type": "code",
   "execution_count": 26,
   "metadata": {},
   "outputs": [
    {
     "name": "stdout",
     "output_type": "stream",
     "text": [
      "('Jacques', 12) has a mark of 12 and J as 1st letter\n"
     ]
    }
   ],
   "source": [
    "# Order it by increasing marks\n",
    "def get_mark(item):\n",
    "    return item[1]\n",
    "\n",
    "# Or by the first letter of the name\n",
    "def get_name(item):\n",
    "    return item[0][0]\n",
    "\n",
    "# Testing with an item\n",
    "item_test = ('Jacques', 12)\n",
    "print('{} has a mark of {} and {} as 1st letter'.format(item_test, get_mark(item_test), get_name(item_test)))"
   ]
  },
  {
   "cell_type": "markdown",
   "metadata": {},
   "source": [
    "We can now apply the `sorted()` function to the collection of items in the initial dictionary. This will return a collection of sorted items that can later be converted into a dictionary. The last step depends on the Python version. In Python 2.5, one has to use `OrderedDict` from the `collections` module, while it's not needed in Python 3. The version of Python can be dynamically checked with `sys.version_info` from the `sys` module."
   ]
  },
  {
   "cell_type": "code",
   "execution_count": 27,
   "metadata": {},
   "outputs": [],
   "source": [
    "# Get all items and sort them by increasing mark\n",
    "all_items = students_marks.items()\n",
    "items_sorted_by_marks = sorted(all_items, key=get_mark)\n",
    "items_sorted_by_names = sorted(all_items, key=get_name)"
   ]
  },
  {
   "cell_type": "code",
   "execution_count": 28,
   "metadata": {},
   "outputs": [],
   "source": [
    "# Check the version of python\n",
    "import sys\n",
    "version = sys.version_info[0]\n",
    "isPython2 = version == 2"
   ]
  },
  {
   "cell_type": "code",
   "execution_count": 29,
   "metadata": {},
   "outputs": [],
   "source": [
    "# Final conversion of collection of items into a dictionary\n",
    "if isPython2:\n",
    "    from collections import OrderedDict\n",
    "    marks_sorted_dict = OrderedDict(items_sorted_by_marks)\n",
    "    names_sorted_dict = OrderedDict(items_sorted_by_names)\n",
    "    \n",
    "else:\n",
    "    marks_sorted_dict = {k: v for k, v in items_sorted_by_marks}\n",
    "    names_sorted_dict = {k: v for k, v in items_sorted_by_names}"
   ]
  },
  {
   "cell_type": "code",
   "execution_count": 30,
   "metadata": {},
   "outputs": [
    {
     "name": "stdout",
     "output_type": "stream",
     "text": [
      "Olivier 8\n",
      "Helene 10\n",
      "Jean 12\n",
      "Chloe 17\n"
     ]
    }
   ],
   "source": [
    "# Check the mark sorted results:\n",
    "for k, v in marks_sorted_dict.items():\n",
    "    print(k, v)"
   ]
  },
  {
   "cell_type": "code",
   "execution_count": 31,
   "metadata": {},
   "outputs": [
    {
     "name": "stdout",
     "output_type": "stream",
     "text": [
      "Chloe 17\n",
      "Helene 10\n",
      "Jean 12\n",
      "Olivier 8\n"
     ]
    }
   ],
   "source": [
    "# Check the name sorted results:\n",
    "for k, v in names_sorted_dict.items():\n",
    "    print(k, v)"
   ]
  },
  {
   "cell_type": "markdown",
   "metadata": {},
   "source": [
    "**While Loops**\n",
    "\n",
    "While loops are a bit less commonly used in practice, but they are described here for completeness. The idea behind a while loop is to repeat a given instruction until a certain condition is met."
   ]
  },
  {
   "cell_type": "code",
   "execution_count": 32,
   "metadata": {},
   "outputs": [
    {
     "name": "stdout",
     "output_type": "stream",
     "text": [
      "['orange', 'pineapple', 'apple', 'pear', 'prune']\n",
      "['orange', 'pineapple', 'apple', 'pear']\n",
      "['orange', 'pineapple', 'apple']\n",
      "['orange', 'pineapple']\n",
      "['orange']\n",
      "[]\n"
     ]
    }
   ],
   "source": [
    "# Cast (ie change type) the set s into a list\n",
    "my_list = list(s)\n",
    "\n",
    "# Remove item one by one until there are no items left.\n",
    "while len(my_list)>0:\n",
    "    my_list.pop()\n",
    "    print(my_list)"
   ]
  },
  {
   "cell_type": "markdown",
   "metadata": {},
   "source": [
    "## Few Python synthax tips"
   ]
  },
  {
   "cell_type": "markdown",
   "metadata": {},
   "source": [
    "**Comprehension:** This is the action of building a collection with one line of code. The comprehension syntax works for all collections, with conditions, or even nested loops (loops within loops). Below, a few examples are provided."
   ]
  },
  {
   "cell_type": "code",
   "execution_count": 33,
   "metadata": {},
   "outputs": [
    {
     "name": "stdout",
     "output_type": "stream",
     "text": [
      "[1, 4, 9, 16, 25, 36, 49, 64, 81]\n",
      "{1: 1, 4: 16, 9: 81, 16: 256, 25: 625}\n"
     ]
    }
   ],
   "source": [
    "# List\n",
    "list_squares = [i**2 for i in range(1, 10)]\n",
    "print(list_squares)\n",
    "\n",
    "# dictionary\n",
    "dict_squares = {i:i**2 for i in list_squares[0:5]}\n",
    "print(dict_squares)"
   ]
  },
  {
   "cell_type": "code",
   "execution_count": 34,
   "metadata": {},
   "outputs": [
    {
     "name": "stdout",
     "output_type": "stream",
     "text": [
      "[0, 2, 4, 6, 8]\n"
     ]
    }
   ],
   "source": [
    "# Comprehension list with a condition (e.g. keep only even numbers)\n",
    "list_even = [i for i in range(0, 10) if i%2==0]\n",
    "print(list_even)"
   ]
  },
  {
   "cell_type": "code",
   "execution_count": 35,
   "metadata": {},
   "outputs": [
    {
     "name": "stdout",
     "output_type": "stream",
     "text": [
      "[0, 1, 2, 3, 4, 10, 11, 12, 13, 14, 20, 21, 22, 23, 24, 30, 31, 32, 33, 34, 40, 41, 42, 43, 44]\n"
     ]
    }
   ],
   "source": [
    "# Comprehension with nested loops\n",
    "sum_integers = [i*10+j for i in range(0,5) for j in range(0, 5)]\n",
    "print(sum_integers)"
   ]
  },
  {
   "cell_type": "markdown",
   "metadata": {},
   "source": [
    "**Looping with `enumerate` and `zip`:**\n",
    "\n",
    "The keyword `enumerate` returns a counter together with the element in the loop. This is useful if you need to count the number of iterations of the loop. You can achieve this without `enumerate`, but you would need to add two lines (initialization of the counter and incrementation)."
   ]
  },
  {
   "cell_type": "code",
   "execution_count": 36,
   "metadata": {},
   "outputs": [
    {
     "name": "stdout",
     "output_type": "stream",
     "text": [
      "I         :  0\n",
      "would     :  1\n",
      "like      :  2\n",
      "to        :  3\n",
      "analyse   :  4\n",
      "this      :  5\n",
      "sentence  :  6\n",
      "in        :  7\n",
      "term      :  8\n",
      "of        :  9\n",
      "word      :  10\n",
      "position  :  11\n"
     ]
    }
   ],
   "source": [
    "# Position of each word in a sentence\n",
    "sentence = 'I would like to analyse this sentence in term of word position'\n",
    "words = sentence.split(' ')\n",
    "for i, w in enumerate(words):\n",
    "    print(w.ljust(10) + ':  ' + str(i))"
   ]
  },
  {
   "cell_type": "markdown",
   "metadata": {},
   "source": [
    "The `zip(list1, list2)` syntax allows you to form pairs using elements from each list at the *same position*. This is convenient for associating objects stored in different collections in a quick and readable way. If `list1` and `list2` do not have the same size, the minimum of the two lengths is taken. Furthermore, the `zip()` command can take more than two collections and return a group of elements with a size equal to the number of collections."
   ]
  },
  {
   "cell_type": "code",
   "execution_count": 37,
   "metadata": {},
   "outputs": [
    {
     "name": "stdout",
     "output_type": "stream",
     "text": [
      "banana is yellow\n",
      "orange is orange\n",
      "pineapple is brown\n",
      "pear is green\n",
      "prune is purple\n"
     ]
    }
   ],
   "source": [
    "# Associate fruits and colors\n",
    "fruits = ['banana', 'orange', 'pineapple', 'pear', 'prune']\n",
    "colors = ['yellow', 'orange', 'brown', 'green', 'purple']\n",
    "for f, c in zip(fruits, colors):\n",
    "    print('{} is {}'.format(f, c))"
   ]
  },
  {
   "cell_type": "code",
   "execution_count": 38,
   "metadata": {},
   "outputs": [
    {
     "name": "stdout",
     "output_type": "stream",
     "text": [
      "0 0 0 0\n",
      "1 10 100 111\n",
      "2 20 200 222\n",
      "3 30 300 333\n",
      "4 40 400 444\n",
      "5 50 500 555\n",
      "6 60 600 666\n",
      "7 70 700 777\n",
      "8 80 800 888\n",
      "9 90 900 999\n"
     ]
    }
   ],
   "source": [
    "# Using zip() with three lists\n",
    "l1, l2, l3 = range(0, 10), range(0, 100, 10), range(0, 1000, 100)\n",
    "for i, j, k in zip(l1, l2, l3):\n",
    "    print(i, j, k, i+j+k)"
   ]
  },
  {
   "cell_type": "markdown",
   "metadata": {},
   "source": [
    "## Functions\n",
    "\n",
    "Functions are defined as a set of instructions encapsulated into one object. This is particularly convenient when one has to perform the same list of instructions several times. A good guideline to know when to write a function could be:\n",
    "\n",
    "> If you copy-paste the same piece of code more than two times, then make a function.\n",
    "\n",
    "**Definition:** A function takes some arguments, performs some instructions, and returns a result. The syntax to define and call a function is shown below. In Python, a function must be defined *before* being used (unlike C++ where it can be different, as soon as the function is declared). This makes the concept of a *package* quite relevant to wrap up several functions into a Python file that can be imported into the main code."
   ]
  },
  {
   "cell_type": "code",
   "execution_count": 39,
   "metadata": {},
   "outputs": [
    {
     "data": {
      "text/plain": [
       "6"
      ]
     },
     "execution_count": 39,
     "metadata": {},
     "output_type": "execute_result"
    }
   ],
   "source": [
    "# Definition syntax\n",
    "def function(argument):\n",
    "    result = argument * 3\n",
    "    return result\n",
    "\n",
    "# Call syntax\n",
    "function(2)"
   ]
  },
  {
   "cell_type": "markdown",
   "metadata": {},
   "source": [
    "The type of the argument is not fixed (since it is a general feature of Python), so the same instruction will be interpreted differently depending on the type. The following example demonstrates the different results of the function above for two argument types."
   ]
  },
  {
   "cell_type": "code",
   "execution_count": 40,
   "metadata": {},
   "outputs": [
    {
     "name": "stdout",
     "output_type": "stream",
     "text": [
      "function(10) = 30\n",
      "function('ouh') = ouhouhouh\n"
     ]
    }
   ],
   "source": [
    "# Print the result for two types of arguements\n",
    "print('function(10) = {}'.format(function(10)))\n",
    "print('function(\\'ouh\\') = {}'.format(function('ouh')))"
   ]
  },
  {
   "cell_type": "code",
   "execution_count": 41,
   "metadata": {},
   "outputs": [],
   "source": [
    "def person_printer(p):\n",
    "    template = '{} ({}) is {} years old and is {} cm'\n",
    "    print(template.format(p['name'], p['gender'], p['age'], p['size']))\n",
    "    return\n",
    "\n",
    "\n",
    "def grow_old(p, n_years):\n",
    "    \n",
    "    # 1. copy the dictionary person (otherwise p *will* be modified)\n",
    "    res = p.copy()\n",
    "    \n",
    "    # 2. Compute the new age and size\n",
    "    new_age = res['age'] + n_years\n",
    "    new_size = res['size'] - n_years*0.13\n",
    "    \n",
    "    # 3. Assign the new age/size to the result\n",
    "    res['age'] = new_age\n",
    "    res['size'] = new_size\n",
    "    \n",
    "    # 4. Return the result\n",
    "    return res"
   ]
  },
  {
   "cell_type": "code",
   "execution_count": 42,
   "metadata": {},
   "outputs": [
    {
     "name": "stdout",
     "output_type": "stream",
     "text": [
      "Charles (M) is 78 years old and is 173 cm\n",
      "Charles (M) is 88 years old and is 171.7 cm\n"
     ]
    }
   ],
   "source": [
    "# Print before growing old\n",
    "person_printer(person)\n",
    "\n",
    "# Growing old\n",
    "old_guy = grow_old(person, 10)\n",
    "\n",
    "# Print after growing old\n",
    "person_printer(old_guy)"
   ]
  },
  {
   "cell_type": "markdown",
   "metadata": {},
   "source": [
    "**Docstring:**\n",
    "\n",
    "A docstring offers the possibility to document your code in a proper way, which is quite useful for others (and for you when you will reuse code after several years). It is then a good practice to do so, even if it takes time. This documentation can be accessed using the command `help(function)` or by using the keyboard shortcut `Shift+Tab` in Jupyter Notebook (when the cursor is after the opening parenthesis of the function). The syntax to add a docstring is `'''My documentation'''` at the very beginning of the function."
   ]
  },
  {
   "cell_type": "code",
   "execution_count": 43,
   "metadata": {},
   "outputs": [],
   "source": [
    "def grow_old(p, n_years):\n",
    "    '''\n",
    "    Take a person dictionary and update the age and the size to make the person older.\n",
    "\n",
    "    Parameters\n",
    "    ----------\n",
    "    p: dictionary\n",
    "        Person object as defined earlier in the code, with at least 'age' (year) \n",
    "        and 'size' (cm) keys, to get older.\n",
    "    n_years: integer\n",
    "        Number of years to be added to the age of the person.\n",
    "\n",
    "    Returns\n",
    "    -------\n",
    "    person: dictionary\n",
    "        Person object as defined earlier in the code with age and size updated as\n",
    "        age  -> age + n_years\n",
    "        size -> size - n_years * 0.13\n",
    "    '''\n",
    "    \n",
    "    # 1. copy the dictionary person (otherwise p will be modified, which might problematic)\n",
    "    res = p.copy()\n",
    "    \n",
    "    # 2. Compute the new age and size\n",
    "    new_age = res['age'] + n_years\n",
    "    new_size = res['size'] - n_years*0.13\n",
    "    \n",
    "    # 3. Assign the new age/size to the result\n",
    "    res['age'] = new_age\n",
    "    res['size'] = new_size\n",
    "    \n",
    "    # 4. Return the result\n",
    "    return res"
   ]
  },
  {
   "cell_type": "code",
   "execution_count": 44,
   "metadata": {},
   "outputs": [
    {
     "name": "stdout",
     "output_type": "stream",
     "text": [
      "Help on function grow_old in module __main__:\n",
      "\n",
      "grow_old(p, n_years)\n",
      "    Take a person dictionary and update the age and the size to make the person older.\n",
      "    \n",
      "    Parameters\n",
      "    ----------\n",
      "    p: dictionary \n",
      "        Person object as defined earlier in the code, with at least 'age' (year) \n",
      "        and 'size' (cm) keys, to get old.\n",
      "    n_years: integer\n",
      "        Number of years to be added to the age of the person.\n",
      "    \n",
      "    Return\n",
      "    ------\n",
      "    person: dictionary\n",
      "       Person object as defined earlier in the code with age and size updated as\n",
      "         age  -> age+n_years\n",
      "         size -> size-n_years*0.13\n",
      "\n"
     ]
    }
   ],
   "source": [
    "help(grow_old)"
   ]
  },
  {
   "cell_type": "markdown",
   "metadata": {},
   "source": [
    "There are several ways to organize the docstring, and the example above is based on the NumPy docstring style. Note that docstrings can also be added to a module (in practice, a Python file) to document the content, goal, and usage of that module."
   ]
  },
  {
   "cell_type": "markdown",
   "metadata": {},
   "source": [
    "**Arbitrary number of arguments: `*args` and `**kwargs`**\n",
    "\n",
    "The examples above are relatively simple, and generally, a function takes several arguments. Sometimes it is even convenient to have an unfixed number of arguments, so that the function is more flexible as the code grows. Python offers a nice way to define such a function thanks to the *packing* and *unpacking* notion, which is described right below."
   ]
  },
  {
   "cell_type": "markdown",
   "metadata": {},
   "source": [
    "*Aside: Packing and Unpacking*\n",
    "\n",
    "In short, this is the possibility to convert a list into a series of objects (unpacking) or vice versa (packing). This way of writing collections makes code development very concise and fast, especially when calling functions with several arguments in a nice way. This also allows you to define functions with an arbitrary number of arguments, as already mentioned. The following dummy function is used to illustrate the concept of packing/unpacking with both a list and a dictionary."
   ]
  },
  {
   "cell_type": "code",
   "execution_count": 45,
   "metadata": {},
   "outputs": [],
   "source": [
    "# Test function\n",
    "def mean(a, b, c):\n",
    "    return (a+b+c)/3."
   ]
  },
  {
   "cell_type": "markdown",
   "metadata": {},
   "source": [
    "It is possible to use a list of three numbers to specify the argument values of the `mean(a, b, c)` function, using the unpacking syntax for a list: `*list`. This is demonstrated below:"
   ]
  },
  {
   "cell_type": "code",
   "execution_count": 46,
   "metadata": {},
   "outputs": [
    {
     "data": {
      "text/plain": [
       "12.333333333333334"
      ]
     },
     "execution_count": 46,
     "metadata": {},
     "output_type": "execute_result"
    }
   ],
   "source": [
    "# Packing & unpacking with a list (or a tuple): *list\n",
    "my_numbers = [10, 12, 15]\n",
    "mean(*my_numbers)"
   ]
  },
  {
   "cell_type": "markdown",
   "metadata": {},
   "source": [
    "It is also sometimes convenient to call the arguments by their names (mostly to make the code more readable). These types of arguments are called *keyword arguments* and can be packed/unpacked into a dictionary. Each argument name is a key of this dictionary, and the value is the value passed to the function. The unpacking is done with `**dict`."
   ]
  },
  {
   "cell_type": "code",
   "execution_count": 47,
   "metadata": {},
   "outputs": [
    {
     "data": {
      "text/plain": [
       "12.333333333333334"
      ]
     },
     "execution_count": 47,
     "metadata": {},
     "output_type": "execute_result"
    }
   ],
   "source": [
    "# Packing & unpacking with a dictionary: **dict\n",
    "my_numbers = {'a': 10, 'b': 12, 'c': 15}\n",
    "mean(**my_numbers)"
   ]
  },
  {
   "cell_type": "markdown",
   "metadata": {},
   "source": [
    "Coming back to the initial motivation, i.e., having an arbitrary number of arguments, it is possible to define such a function as follows - which in this case just prints the number and the list of arguments:"
   ]
  },
  {
   "cell_type": "code",
   "execution_count": 48,
   "metadata": {},
   "outputs": [],
   "source": [
    "# Function definition with *args\n",
    "def test_function(*args):\n",
    "    print('There are {} arguments: '.format(len(args)))\n",
    "    for a in args:\n",
    "        print('  -> {}'.format(a))\n",
    "    print('')\n",
    "    return"
   ]
  },
  {
   "cell_type": "code",
   "execution_count": 49,
   "metadata": {},
   "outputs": [
    {
     "name": "stdout",
     "output_type": "stream",
     "text": [
      "There are 0 arguments: \n",
      "\n",
      "There are 1 arguments: \n",
      "  -> hoho\n",
      "\n",
      "There are 2 arguments: \n",
      "  -> hoho\n",
      "  -> 3\n",
      "\n",
      "There are 4 arguments: \n",
      "  -> hoho\n",
      "  -> 3\n",
      "  -> [1, 'banana']\n",
      "  -> {'mood': 'happy', 'state': 'holidays'}\n",
      "\n"
     ]
    }
   ],
   "source": [
    "# Test with different numbers/types of arguments\n",
    "test_function()\n",
    "test_function('hoho')\n",
    "test_function('hoho', 3)\n",
    "test_function('hoho', 3, [1,'banana'], {'mood': 'happy', 'state': 'holidays'})"
   ]
  },
  {
   "cell_type": "code",
   "execution_count": 50,
   "metadata": {},
   "outputs": [],
   "source": [
    "# Function definition with kwargs\n",
    "def test_function(**kwargs):\n",
    "    print('There are {} arguments: '.format(len(kwargs)))\n",
    "    for k, v in kwargs.items():\n",
    "        print(' {}={}'.format(k, v))\n",
    "    print('')\n",
    "    return"
   ]
  },
  {
   "cell_type": "code",
   "execution_count": 51,
   "metadata": {
    "scrolled": true
   },
   "outputs": [
    {
     "name": "stdout",
     "output_type": "stream",
     "text": [
      "There are 0 arguments: \n",
      "\n",
      "There are 1 arguments: \n",
      " x=hoho\n",
      "\n",
      "There are 2 arguments: \n",
      " word=hoho\n",
      " multiplicity=3\n",
      "\n",
      "There are 4 arguments: \n",
      " a=hoho\n",
      " N=3\n",
      " shopping=[1, 'banana']\n",
      " feeling={'mood': 'happy', 'state': 'holidays'}\n",
      "\n"
     ]
    }
   ],
   "source": [
    "test_function()\n",
    "test_function(x='hoho')\n",
    "test_function(word='hoho', multiplicity=3)\n",
    "test_function(a='hoho', N=3, shopping=[1,'banana'], feeling={'mood': 'happy', 'state': 'holidays'})"
   ]
  },
  {
   "cell_type": "markdown",
   "metadata": {},
   "source": [
    "This can be used to declare an argument in a very readable and concise way. This might be helpful for some cosmetic arguments of plots that can be common to several plots (but not all). We'll see some concrete examples later in the lecture. In the meanwhile, here is the equivalent of the last call from the code above:"
   ]
  },
  {
   "cell_type": "code",
   "execution_count": 52,
   "metadata": {},
   "outputs": [
    {
     "name": "stdout",
     "output_type": "stream",
     "text": [
      "There are 4 arguments: \n",
      " a=hoho\n",
      " N=3\n",
      " shopping=[1, 'banana']\n",
      " feeling={'mood': 'happy', 'state': 'holidays'}\n",
      "\n"
     ]
    }
   ],
   "source": [
    "# Pack all keyword arguments in a dictionary first\n",
    "my_args = {\n",
    "           'a': 'hoho', \n",
    "           'N': 3, \n",
    "           'shopping': [1,'banana'], \n",
    "           'feeling': {'mood': 'happy', 'state': 'holidays'}\n",
    "          }\n",
    "\n",
    "# Then call the function\n",
    "test_function(**my_args)"
   ]
  },
  {
   "cell_type": "markdown",
   "metadata": {},
   "source": [
    "## File manipulation\n",
    "\n",
    "File handling is quite important since it enables interaction between your code and input/output data (called I/O). There are several features related to file handling in Python, and this short section just gives a few basic practices."
   ]
  },
  {
   "cell_type": "markdown",
   "metadata": {},
   "source": [
    "**Open/close a file**\n",
    "\n",
    "Python has native methods to open and close files. While closing a file doesn't allow for many variations, the opening can be done in different modes, depending on whether we want to read, write, or append to the opened file. The basic syntax is:\n",
    "\n",
    "```python\n",
    "# Open\n",
    "f = open('my_file_name.txt', option)\n",
    "\n",
    "# Close\n",
    "f.close()\n",
    "```\n",
    "\n",
    "where `option` is a one-letter string that can be:\n",
    "- `r` (read, default): to just read the file\n",
    "- `a` (append): to add content at the end of an existing file\n",
    "- `w` (write): to write content to a file (it creates a new file)\n",
    "- `x` (create): to create a new file"
   ]
  },
  {
   "cell_type": "markdown",
   "metadata": {},
   "source": [
    "**Write a file.**"
   ]
  },
  {
   "cell_type": "code",
   "execution_count": 1,
   "metadata": {},
   "outputs": [],
   "source": [
    "# Text to be written (can be one line string 'my text' or multiple lines string - docstring)\n",
    "text = '''Gervaise avait attendu Lantier jusqu’à deux heures du matin. Puis,\n",
    "toute frissonnante d’être restée en camisole à l’air vif de la fenêtre,\n",
    "elle s’était assoupie, jetée en travers du lit, fiévreuse, les joues\n",
    "trempées de larmes.\n",
    "'''\n",
    "\n",
    "# Open in write mode\n",
    "f = open('test.txt', 'w')\n",
    "\n",
    "# Write string\n",
    "f.write(text)\n",
    "\n",
    "# Close\n",
    "f.close()"
   ]
  },
  {
   "cell_type": "markdown",
   "metadata": {},
   "source": [
    "**Read a File:** The following example loads the previous file and loops over each line to analyze its content. One can note several issues: first, one sentence can be on two lines, and second, each end of the line contains a `\\n` (which is an invisible character meaning \"go to the next line\"). There is a method to clean a line, called `line.strip()`, which removes all spaces and invisible characters, unless specified otherwise - see `help(str.strip)`."
   ]
  },
  {
   "cell_type": "code",
   "execution_count": 3,
   "metadata": {},
   "outputs": [
    {
     "name": "stdout",
     "output_type": "stream",
     "text": [
      "\n",
      "\n",
      "==================================================\n",
      "This line: Gervaise avait attendu Lantier jusqu’à deux heures du matin. Puis,\n",
      "\n",
      "This line has 2 sentences: \n",
      " - sentence 0: ['Gervaise', 'avait', 'attendu', 'Lantier', 'jusqu’à', 'deux', 'heures', 'du', 'matin']\n",
      " - sentence 1: ['Puis,']\n",
      "\n",
      "\n",
      "==================================================\n",
      "This line: toute frissonnante d’être restée en camisole à l’air vif de la fenêtre,\n",
      "\n",
      "This line has 1 sentences: \n",
      " - sentence 0: ['toute', 'frissonnante', 'd’être', 'restée', 'en', 'camisole', 'à', 'l’air', 'vif', 'de', 'la', 'fenêtre,']\n",
      "\n",
      "\n",
      "==================================================\n",
      "This line: elle s’était assoupie, jetée en travers du lit, fiévreuse, les joues\n",
      "\n",
      "This line has 1 sentences: \n",
      " - sentence 0: ['elle', 's’était', 'assoupie,', 'jetée', 'en', 'travers', 'du', 'lit,', 'fiévreuse,', 'les', 'joues']\n",
      "\n",
      "\n",
      "==================================================\n",
      "This line: trempées de larmes.\n",
      "\n",
      "This line has 2 sentences: \n",
      " - sentence 0: ['trempées', 'de', 'larmes']\n",
      " - sentence 1: ['']\n"
     ]
    }
   ],
   "source": [
    "# Open the file in read mode\n",
    "f = open('test.txt', 'r')\n",
    "\n",
    "# Loop over the lines\n",
    "for line in f:\n",
    "    \n",
    "    # Print a header to make the ouput clearer\n",
    "    print('\\n\\n{}'.format('='*50))\n",
    "    \n",
    "    # Print the line as it is given\n",
    "    print('This line: {}'.format(line))\n",
    "    \n",
    "    # Split by '.' to isolate sentence\n",
    "    sentences = line.split('.')\n",
    "    print('This line has {} sentences: '.format(len(sentences)))\n",
    "    \n",
    "    # Split each sentence by ' ' to isolate words\n",
    "    for i,s in enumerate(sentences):\n",
    "        sclean = s.strip()\n",
    "        words = sclean.split(' ')\n",
    "        print(' - sentence {}: {}'.format(i, words))\n",
    "\n",
    "f.close()"
   ]
  },
  {
   "cell_type": "markdown",
   "metadata": {},
   "source": [
    "**Rewrite a modified version of a file into a new file.** It can be quite convenient to modify an existing file to correct a systematic mistake automatically or simply perform more complex operations. The example below shows how to remove all the \"e\" characters from the text below and write it to a new file."
   ]
  },
  {
   "cell_type": "code",
   "execution_count": 4,
   "metadata": {},
   "outputs": [],
   "source": [
    "# Open the in/out files \n",
    "f_i = open('test.txt', 'r')\n",
    "f_o = open('test_without_e.txt', 'w')\n",
    "\n",
    "# Loop over line, remove all \"e\" for each, and write the result in the output file\n",
    "for line in f_i:\n",
    "    line_without_e = line.replace('e', '') # replace \"e\" by nothing\n",
    "    f_o.write(line_without_e)\n",
    "\n",
    "# Close all files\n",
    "f_i.close()\n",
    "f_o.close()"
   ]
  },
  {
   "cell_type": "code",
   "execution_count": 5,
   "metadata": {},
   "outputs": [
    {
     "name": "stdout",
     "output_type": "stream",
     "text": [
      "Grvais avait attndu Lantir jusqu’à dux hurs du matin. Puis,\n",
      "tout frissonnant d’êtr rsté n camisol à l’air vif d la fnêtr,\n",
      "ll s’était assoupi, jté n travrs du lit, fiévrus, ls jous\n",
      "trmpés d larms.\n",
      "\n"
     ]
    }
   ],
   "source": [
    "# Open in read mode and check the result\n",
    "f = open('test_without_e.txt', 'r')\n",
    "print(f.read())"
   ]
  },
  {
   "cell_type": "markdown",
   "metadata": {},
   "source": [
    "**Read a CSV File to Get Data:**\n",
    "\n",
    "This use case is quite important because it allows converting a file with data into variables accessible in the code (for some computations, plotting, etc.). One of the most basic formats to store data is called *CSV* (for comma-separated values), which can be imported/exported from any spreadsheet software (like Excel). This format is not necessarily appropriate for large datasets but is quite useful in a large number of situations, and one must be able to manipulate it easily, as shown in the example below.\n",
    "\n",
    "*Creation of a CSV File on the Fly Using a Docstring*"
   ]
  },
  {
   "cell_type": "code",
   "execution_count": 6,
   "metadata": {},
   "outputs": [],
   "source": [
    "# Data taken from kaggle: https://www.kaggle.com/jolasa/waves-measuring-buoys-data-mooloolaba\n",
    "data_csv_format = '''index,date,height,heightMax,period,energy,direction,temperature\n",
    "1,01/01/2017 00:00,-99.9,-99.9,-99.9,-99.9,-99.9,-99.9\n",
    "2,01/01/2017 00:30,0.875,1.39,4.421,4.506,-99.9,-99.9\n",
    "3,01/01/2017 01:00,0.763,1.15,4.52,5.513,49,25.65\n",
    "4,01/01/2017 01:30,0.77,1.41,4.582,5.647,75,25.5\n",
    "5,01/01/2017 02:00,0.747,1.16,4.515,5.083,91,25.45\n",
    "6,01/01/2017 02:30,0.718,1.61,4.614,6.181,68,25.45\n",
    "7,01/01/2017 03:00,0.707,1.34,4.568,4.705,73,25.5\n",
    "8,01/01/2017 03:30,0.729,1.21,4.786,4.484,63,25.5\n",
    "9,01/01/2017 04:00,0.733,1.2,4.897,5.042,68,25.5\n",
    "10,01/01/2017 04:30,0.711,1.29,5.019,8.439,66,25.5\n",
    "11,01/01/2017 05:00,0.698,1.11,4.867,4.584,64,25.55\n",
    "12,01/01/2017 05:30,0.686,1.14,4.755,5.211,56,25.55\n",
    "13,01/01/2017 06:00,0.721,1.12,4.843,5.813,67,25.5\n",
    "14,01/01/2017 06:30,0.679,1.22,4.948,4.71,81,25.45\n",
    "15,01/01/2017 07:00,0.66,1.08,5.068,5.353,90,25.45\n",
    "16,01/01/2017 07:30,0.662,1.18,5.263,7.436,67,25.4\n",
    "17,01/01/2017 08:00,0.653,1.21,5.007,6.001,90,25.45\n",
    "18,01/01/2017 08:30,0.665,1.17,4.952,6.414,90,25.55\n",
    "19,01/01/2017 09:00,0.684,1.55,5.022,6.691,88,25.6\n",
    "20,01/01/2017 09:30,0.679,1.09,4.926,6.804,88,25.65\n",
    "21,01/01/2017 10:00,0.667,1.12,4.928,6.641,122,25.75\n",
    "22,01/01/2017 10:30,0.688,1.13,4.808,5.958,91,25.7\n",
    "23,01/01/2017 11:00,0.644,0.99,4.559,6.691,92,25.9\n",
    "'''\n",
    "\n",
    "# Create csv file using these data\n",
    "f = open('wave_data.csv', 'w')\n",
    "f.write(data_csv_format)\n",
    "f.close()"
   ]
  },
  {
   "cell_type": "markdown",
   "metadata": {},
   "source": [
    "*Reading the CSV file and storing values in Python objects:*\n",
    "\n",
    "In this example, we'll see how to store all information about the wave in a list of dictionaries."
   ]
  },
  {
   "cell_type": "code",
   "execution_count": 7,
   "metadata": {},
   "outputs": [
    {
     "name": "stdout",
     "output_type": "stream",
     "text": [
      "['index', 'date', 'height', 'heightMax', 'period', 'energy', 'direction', 'temperature']\n"
     ]
    }
   ],
   "source": [
    "# Open the file in read mode\n",
    "f = open('wave_data.csv', 'r')\n",
    "\n",
    "# Get the first line (calling the readline() method once) to extract the feature names.\n",
    "features = f.readline().strip().split(',')\n",
    "print(features)\n",
    "\n",
    "# Loop over lines and store the information\n",
    "data = []\n",
    "for l in f:\n",
    "    values = l.strip().split(',')\n",
    "    data_single_wave = {var: val for var, val in zip(features, values)}\n",
    "    data.append(data_single_wave)"
   ]
  },
  {
   "cell_type": "code",
   "execution_count": 8,
   "metadata": {},
   "outputs": [
    {
     "name": "stdout",
     "output_type": "stream",
     "text": [
      "Wave 1 (01/01/2017 00:00) had a heigh of -99.9m with a temperature of -99.9 degree\n",
      "Wave 2 (01/01/2017 00:30) had a heigh of 0.875m with a temperature of -99.9 degree\n",
      "Wave 3 (01/01/2017 01:00) had a heigh of 0.763m with a temperature of 25.65 degree\n",
      "Wave 4 (01/01/2017 01:30) had a heigh of 0.77m with a temperature of 25.5 degree\n",
      "Wave 5 (01/01/2017 02:00) had a heigh of 0.747m with a temperature of 25.45 degree\n"
     ]
    }
   ],
   "source": [
    "# helper function for a nice printing\n",
    "def print_wave(w):\n",
    "    tmp = 'Wave {} ({}) had a heigh of {}m with a temperature of {} degree'\n",
    "    print(tmp.format(w['index'], w['date'], w['height'], w['temperature']))\n",
    "\n",
    "# Print the first 5 waves\n",
    "for wave in data[:5]:\n",
    "    print_wave(wave)"
   ]
  },
  {
   "cell_type": "markdown",
   "metadata": {},
   "source": [
    "At this stage, the problem is that the type of objects stored is a string and not numbers, so no computation can be made. Typically, the following code will crash because the division between strings is not defined:\n",
    "\n",
    "```python\n",
    "# Compute the average height\n",
    "heights = [w['height'] for w in data]\n",
    "average = sum(heights) / len(heights)\n",
    "```\n",
    "\n",
    "One has to cast (i.e., change the type) the objects stored in the dictionaries. They can all be cast as floats, but not the date. The index also makes more sense as an integer. So the following can work:"
   ]
  },
  {
   "cell_type": "code",
   "execution_count": 9,
   "metadata": {},
   "outputs": [],
   "source": [
    "# Manage string to time object conversion\n",
    "def str_to_time(date_str):\n",
    "    import datetime\n",
    "    return datetime.datetime.strptime(date_str, '%d/%m/%Y %H:%M')\n",
    "\n",
    "# Container with properly converted data\n",
    "DATA = []\n",
    "\n",
    "# Loop over waves and make the proper conversion depending on the feature name\n",
    "for w in data:\n",
    "    wgood = w.copy()\n",
    "    for k in w:\n",
    "        if k == 'index':   # Cast string into an integer\n",
    "            wgood[k] = int(w[k])\n",
    "        elif k == 'date':  # cast string into a datetime object\n",
    "            wgood[k] = str_to_time(w[k])\n",
    "        else:              # cast string into a float\n",
    "            wgood[k] = float(w[k])\n",
    "    DATA.append(wgood)"
   ]
  },
  {
   "cell_type": "markdown",
   "metadata": {},
   "source": [
    "Computing the average height of waves now works, but it gives a quite strange result:"
   ]
  },
  {
   "cell_type": "code",
   "execution_count": 10,
   "metadata": {},
   "outputs": [
    {
     "name": "stdout",
     "output_type": "stream",
     "text": [
      "Averaged waveheight is -3.7 m\n"
     ]
    }
   ],
   "source": [
    "# Compute the average height\n",
    "heights = [w['height'] for w in DATA]\n",
    "average = sum(heights)/len(heights)\n",
    "print('Averaged waveheight is {:.1f} m'.format(average))"
   ]
  },
  {
   "cell_type": "markdown",
   "metadata": {},
   "source": [
    "This is due to the first row, which has all values at -99. Removing it (using indexing techniques) gives a more sensible result:"
   ]
  },
  {
   "cell_type": "code",
   "execution_count": 11,
   "metadata": {},
   "outputs": [
    {
     "name": "stdout",
     "output_type": "stream",
     "text": [
      "Averaged waveheight is 0.7 m\n"
     ]
    }
   ],
   "source": [
    "heights = [w['height'] for w in DATA[1:]]\n",
    "average = sum(heights)/len(heights)\n",
    "print('Averaged waveheight is {:.1f} m'.format(average))"
   ]
  },
  {
   "cell_type": "markdown",
   "metadata": {},
   "source": [
    "## Plotting Data: The Very First Step\n",
    "\n",
    "Graphical representation of data is a key element of data analysis. It allows us to gain intuition and generate ideas or simply perform visual checks. You might encounter the terminology \"Exploratory Data Analysis (EDA)\" in the literature, which corresponds to plotting data in all possible ways to *extract exploitable information* from the data. EDA is an entire field that we will not cover in this lecture. Instead, we will provide some basic examples that will serve as a starting point to expand your knowledge. The standard library to produce plots is `matplotlib`, but there are many other tools that we will not introduce, such as `seaborn`, `bokeh` for browser-interactive plots, `cartopy` for geographic data analysis/plots, etc."
   ]
  },
  {
   "cell_type": "code",
   "execution_count": 12,
   "metadata": {},
   "outputs": [],
   "source": [
    "# Prepare data to plot: wave height v.s. wave energy (removing point with -99 values)\n",
    "height = [w['height'] for w in DATA if w['height']>-99]\n",
    "energy = [w['energy'] for w in DATA if w['energy']>-99]"
   ]
  },
  {
   "cell_type": "code",
   "execution_count": 16,
   "metadata": {
    "scrolled": true
   },
   "outputs": [
    {
     "data": {
      "image/png": "[encoded data removed]",
      "text/plain": [
       "<Figure size 432x288 with 1 Axes>"
      ]
     },
     "metadata": {
      "needs_background": "light"
     },
     "output_type": "display_data"
    }
   ],
   "source": [
    "# Import the key part of the package: pyplot\n",
    "import matplotlib.pyplot as plt\n",
    "\n",
    "# Display matplotlib output in the notebook\n",
    "%matplotlib inline\n",
    "\n",
    "# Call the simplest function to plot x vs y\n",
    "plt.plot(height, energy, linewidth=0, marker='o', label='Wave data')\n",
    "\n",
    "# Set x and y axis axis labels\n",
    "plt.xlabel('Wave Height')\n",
    "plt.ylabel('Wave Energy')\n",
    "\n",
    "# Adding a legend based on label keyword\n",
    "plt.legend();"
   ]
  },
  {
   "cell_type": "markdown",
   "metadata": {},
   "source": [
    "## Object Oriented (OO) programming language and python\n",
    "\n",
    "> *Caution:  this section is by no mean an actual lecture on object oriented progamming language. It aims only to give to the reader some basic concept and their implementation in python. The goal of this section is to make sure students are able to understand and recognize some important features related to OO python in real-life situations (e.g. reading existing codes). It might also give some basic understanding helping people who wants to read more about OO programming.*\n",
    "\n",
    "\n",
    "### What is an Object Oriented (OO) programming language ?\n",
    "\n",
    "**Definition.**\n",
    "In a nutsehll, a OO progamming language allows the user to define dedicated types, or *object*, and then extend the list of native types (like `int`, `list` etc...). Such a new user-defined type is called a *class*. The user can then define *members*, or *attributes* of the class, which are variables associated to the object. Members can be public (accessible from any code) or private (not accessible, and thus only for internal use). The user can also define *methods*, which are fonction applied on the new object (they can modify it, or not depending on the nature of the function). There is one requiered method, called *constructor*, which enable an instantiation of the new type *via* declaration such as `my_object = NewObject(...)`, where `NewObject` stands for the new type and `my_object` stands for one realisation of this new type (like in `a = int(2)`)\n",
    "\n",
    "\n",
    "**Concrete example.** \n",
    "In order to make an easy example, let's assume our new type describes a car. Example of attributes could then be: the brand, the model, the color, the number of doors, the consumtion, the length, the volume of the trunk, the amount of gaz, the position, the speed, etc ... An example of mehtods associated to the car object could be: `drive(dx, dy, dz)` making evolve the position of the car in 3D. We could have a method `paint(color)` to change the color of the car. An example of method which would not modify the object could be `compute_autonomy()` using the amount of gaz and the car consumption.\n",
    "\n",
    "\n",
    "**Operator overloading.**\n",
    "In most of the OO languages, it is possible to define the meaning of operators for the new class. This is called the *operator overloading*. The best example to illustrate this concept might be about a class `vector` for which the sum and the product can be redefined to respect the implemented geometry. Another interesting example is what we call [*dual numbers*](https://en.wikipedia.org/wiki/Dual_number), defined as $a+b\\epsilon$ where $(a, b)$ are real while $\\epsilon$ satisfies $\\epsilon^2=0$ with $\\epsilon \\neq 0$. This is heavily used in *automatic differentiation* using Taylor expensions, and it can programmatically defined as a new type for which mathematical operations are overaloaded (this can be a good exercise!).\n",
    "\n",
    "\n",
    "**Inheritance concept.**\n",
    "In OO programming, inheritance is the mechanism of building an object or a class upon another existing (more generic) class or object. This is probably easier to grasp with a clear example : let's assume we want to write a code dealing with animals. The most basic class would be generic animal (let's call it `animal`), with some methods and attributes associated to it. Now, we want to create dedicated classes for mammal, reptile, insect, etc ... Each of those new classes will inheritate from the generic class `animal`, meaning they will have the same methods and attributes, *but* some more specific methods/attributes to, for instance, `reptile` can be defined on top of the `animal` ones. Thus, the inheritance enable, among other, a very powerful factorization of the code.\n",
    "\n",
    "\n",
    "### Realisation in python\n",
    "\n",
    "In python, one can create a class as follow:"
   ]
  },
  {
   "cell_type": "code",
   "execution_count": 33,
   "metadata": {},
   "outputs": [],
   "source": [
    "class Person: # Name of the new object\n",
    "\n",
    "    # Documention of the the class\n",
    "    '''\n",
    "    Person is class to describe people by name, age (years), size (cm) and weight (kh).\n",
    "    It can be used as follow:\n",
    "        p = Person('Eric', 36, 176, 70)\n",
    "\n",
    "    The addition operator is overloaded: person1+person2 creates a person3 corresponding to \n",
    "    a couple with averaged quatities for age, size and weight.\n",
    "    '''\n",
    "    \n",
    "    # Constructor method - required to create the object\n",
    "    # All class methods must have `self` in argument, to act on their \n",
    "    # own instantiation.\n",
    "    def __init__(self, name, age, size, weight):\n",
    "        self.name = name\n",
    "        self.age = age\n",
    "        self.size = size\n",
    "        self.weight = weight\n",
    "        self.__hasJob__ = False  # In python the __attributes__ means (by convention) \n",
    "                                 # this shouldn't be used in external code \n",
    "                                 # (but in practice, it can) \n",
    "        \n",
    "    # Method to compute the body mass index\n",
    "    def BMI(self):\n",
    "        return self.weight / self.size**2\n",
    "\n",
    "    # Method modify the state of the object\n",
    "    def FoundJob(self):\n",
    "        self.__hasJob__ = True\n",
    "    \n",
    "    # Example of a 'getter', ie a function to get attribute in a safe way \n",
    "    # (not modifying it's original value)\n",
    "    def GetHasJob(self):\n",
    "        return self.__hasJob__\n",
    "    \n",
    "    # Example of a 'setter' ie function that set some attribute, after the \n",
    "    # object was created\n",
    "    def SetAge(self, a):\n",
    "        self.age = a\n",
    "        return\n",
    "    \n",
    "    # Example of overloading python function (print(person) in that cas)\n",
    "    def __str__(self):\n",
    "        return f'{self.name}, {self.age} years old'\n",
    "\n",
    "    # Example of overloading mathematical operation\n",
    "    def __add__(self, other):\n",
    "        add_name = f'{self.name} and {other.name}'\n",
    "        add_age = (self.age + other.age)/2.0\n",
    "        add_size = (self.size + other.size)/2.0\n",
    "        add_weight = (self.weight + other.weight)/2.0\n",
    "        res = Person(add_name, add_age, add_size, add_weight)\n",
    "        if (self.GetHasJob or other.GetHasJob()):\n",
    "            res.FoundJob()    \n",
    "        return res"
   ]
  },
  {
   "cell_type": "code",
   "execution_count": 25,
   "metadata": {},
   "outputs": [],
   "source": [
    "# Definition of two object of type 'person'\n",
    "p1 = Person('John', 36, 180, 87)\n",
    "p2 = Person('Sylvia', 49, 160, 55)"
   ]
  },
  {
   "cell_type": "code",
   "execution_count": 26,
   "metadata": {},
   "outputs": [
    {
     "name": "stdout",
     "output_type": "stream",
     "text": [
      "John, 36 years old\n",
      "Sylvia, 49 years old\n"
     ]
    }
   ],
   "source": [
    "# Print them before anything\n",
    "print(p1)\n",
    "print(p2)"
   ]
  },
  {
   "cell_type": "code",
   "execution_count": 27,
   "metadata": {},
   "outputs": [
    {
     "name": "stdout",
     "output_type": "stream",
     "text": [
      "False\n",
      "True\n"
     ]
    }
   ],
   "source": [
    "# Example of function modifying the state of the person\n",
    "print(p2.GetHasJob())\n",
    "p2.FoundJob()\n",
    "print(p2.GetHasJob())"
   ]
  },
  {
   "cell_type": "code",
   "execution_count": 28,
   "metadata": {},
   "outputs": [
    {
     "name": "stdout",
     "output_type": "stream",
     "text": [
      "John and Sylvia, 42.5 years old\n"
     ]
    }
   ],
   "source": [
    "# Add them and print the result\n",
    "p3 = p1 + p2\n",
    "print(p3)"
   ]
  },
  {
   "cell_type": "code",
   "execution_count": 31,
   "metadata": {},
   "outputs": [
    {
     "name": "stdout",
     "output_type": "stream",
     "text": [
      "BMI=2.69e-03, size=180cm (John)\n",
      "\n",
      "\n"
     ]
    }
   ],
   "source": [
    "# Call a method with () or get an attribute directly, without ()\n",
    "print(f'BMI={p1.BMI():.2e}, size={p1.size:.0f}cm ({p1.name})\\n\\n')"
   ]
  },
  {
   "cell_type": "markdown",
   "metadata": {},
   "source": [
    "**Important comments**\n",
    "\n",
    "  1. a class must contain the `__init__(self, ...)` function : this is the constructor;\n",
    "  1. `self` must be in argument of all methods;\n",
    "  1. all attributes are public in python (the language doesn't allow to have private attributes, like C++);\n",
    "  1. Overloading of sever/al math operators / native python functions is possible;"
   ]
  },
  {
   "cell_type": "markdown",
   "metadata": {},
   "source": [
    "## Pseudo-code and simplified python code\n",
    "\n",
    "**What, why ?**\n",
    "A pseudo-code is way to write an algorithm, *i.e.* several instructions, in a format which is independant from the programming language. This allows to detail/explain/think about the logic of an algorithm without bothering with the details related to the language. Another advantage is that the same pseudo-code can be written in different languages.\n",
    "\n",
    "**For this lecture.**\n",
    "We propose to learn how to write a more python-oriented pseudo-code (so not purely a pseudo-code), to learn how to design a code while practicing python language. This will be called in this lecture **simplified python code**. The idea is to write a code in python without logic error but which might not run due to syntax error, due to some short cuts (either to simplify things in order to make the logic appears more clearly, or because the exact syntax is not know by heart). Let's take an axemple of reading a file, removing all 'e' and writting the result in a new file:\n",
    "\n",
    "```python\n",
    "# Example of simplified python code with the \n",
    "# proper logic, but which would not run\n",
    "fi = open('input.txt', 'readmode')\n",
    "fo = open('output.txt', 'writemode')\n",
    "\n",
    "for l in fi:\n",
    "    l_no_e = l.remove('e')\n",
    "    fo.write(l_no_e)\n",
    "\n",
    "fo.close()\n",
    "fi.close()\n",
    "```\n",
    "\n",
    "Let's give another example of a simplified python code to compute the sum of the first n odd inters, in a function: \n",
    "\n",
    "```python\n",
    "def compute_oddsum(n):\n",
    "    res = 0\n",
    "    for i in [0, n]: # if you know range() by heart, you should use it here\n",
    "        res = res + (2*i + 1)\n",
    "    return res\n",
    "```\n",
    "\n",
    "In summary, here are the rules to write simplified python code:\n",
    "\n",
    " 1. *logic* must be correct\n",
    " 2. *syntax shortcuts* are allowed when needed (either to keep the logic clearer, or because exact syntax is not known)\n",
    " 3. the level of shortcuts applied depends then on the level of knowledge the person has."
   ]
  },
  {
   "cell_type": "markdown",
   "metadata": {},
   "source": []
  }
 ],
 "metadata": {
  "kernelspec": {
   "display_name": "Python 3 (ipykernel)",
   "language": "python",
   "name": "python3"
  },
  "language_info": {
   "codemirror_mode": {
    "name": "ipython",
    "version": 3
   },
   "file_extension": ".py",
   "mimetype": "text/x-python",
   "name": "python",
   "nbconvert_exporter": "python",
   "pygments_lexer": "ipython3",
   "version": "3.10.12"
  }
 },
 "nbformat": 4,
 "nbformat_minor": 4
}
