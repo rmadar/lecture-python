{
 "cells": [
  {
   "cell_type": "markdown",
   "metadata": {},
   "source": [
    "# Python Exam (Master, 13/10/2020): Ising Model"
   ]
  },
  {
   "cell_type": "markdown",
   "metadata": {},
   "source": [
    "> + **Allocated time:** 2h\n",
    "> + **Send your final notebook** at the end of the exam at [romain.madar@cern.ch](mailto:romain.madar@cern.ch)\n",
    "> + **Allowed documents:** documentation of [python](https://docs.python.org/3/), [numpy](https://numpy.org/devdocs/user/index.html), [matplotlib](https://matplotlib.org/contents.html), [pandas](https://pandas.pydata.org/pandas-docs/stable/) and [scipy](https://docs.scipy.org/doc/scipy/reference/) as well as the documentation from the notebook interface using `Shift+tab` keyboard shortcut, `help(module)` or `help(function)`.\n",
    "> \n",
    "> The final mark will be a number between 0 (very bad) and 20 (very good). The evaluation of this exam takes into account mainly the correctness of the answers, but also the clarity of the explanations and the quality of the code. *There is no required knowledge about Ising model to answer the questions asked in this exam.*"
   ]
  },
  {
   "cell_type": "markdown",
   "metadata": {},
   "source": [
    "## General informations\n",
    "\n",
    "### A bit of context ...\n",
    "\n",
    "The Ising model is famous piece of statistical physics, which is originally meant to describe magnetic material made of interacting magnetic dipole moments at given temperature. This problem is *a priori* extremely complex and the Ising model offers a simplified approach to model macroscopic magnetic phenomena, in particular phase transition. In practice, this model describes a system of coupled discrete system, such as spin 1/2, forming a n-dimensional lattice. Interactions are assumed to take place only between closest neighbours, accouting for the short-range nature of magnetic interactions.\n",
    "\n",
    "This exam proposes to implement a simulation of such a system and explore some its dynamical properties. In a first part, a 1 dimension lattice is considered (*i.e.* spins are disposed on a line) and the Metropolis algorithm will be implemented for the thermal evolution. In a second part, a 2 dimension lattice will be investigated using a provided python package."
   ]
  },
  {
   "cell_type": "markdown",
   "metadata": {},
   "source": [
    "### Import packages and plot cosmetics"
   ]
  },
  {
   "cell_type": "code",
   "execution_count": 1,
   "metadata": {},
   "outputs": [],
   "source": [
    "import numpy as np\n",
    "import pandas as pd\n",
    "import matplotlib.pyplot as plt"
   ]
  },
  {
   "cell_type": "code",
   "execution_count": 2,
   "metadata": {},
   "outputs": [],
   "source": [
    "import matplotlib as mpl\n",
    "mpl.rcParams['legend.frameon'] = False\n",
    "mpl.rcParams['legend.fontsize'] = 'xx-large'\n",
    "mpl.rcParams['xtick.labelsize'] = 16\n",
    "mpl.rcParams['ytick.labelsize'] = 16\n",
    "mpl.rcParams['axes.titlesize'] = 18\n",
    "mpl.rcParams['axes.labelsize'] = 18\n",
    "mpl.rcParams['lines.linewidth'] = 2.5\n",
    "mpl.rcParams['figure.figsize'] = (10, 7)"
   ]
  },
  {
   "cell_type": "markdown",
   "metadata": {},
   "source": [
    "## 1. Ising model in one dimension (12pts)"
   ]
  },
  {
   "cell_type": "markdown",
   "metadata": {},
   "source": [
    "**1.1. [1pts]** We want to numerically create a system of N spins in one dimension (spatial positions are determined by one coordinate). Spin can be 'up', *i.e.* with a value $+1$ or 'down', *i.e.* with a value $-1$. Using the numpy function `np.random.randint()`, creates a numpy array corresponding to `N=100` spins in a random state. Create a function `initState(N)` which return a spin system of N spins and print the result."
   ]
  },
  {
   "cell_type": "code",
   "execution_count": 7,
   "metadata": {},
   "outputs": [
    {
     "data": {
      "text/plain": [
       "array([-1,  1,  1,  1,  1,  1,  1,  1,  1, -1,  1,  1,  1,  1, -1,  1,  1,\n",
       "        1,  1, -1,  1,  1, -1, -1,  1, -1,  1, -1, -1, -1, -1, -1,  1, -1,\n",
       "        1,  1,  1, -1, -1, -1, -1,  1,  1, -1,  1,  1,  1, -1, -1,  1,  1,\n",
       "       -1, -1, -1,  1,  1,  1,  1,  1,  1, -1, -1,  1,  1,  1, -1,  1,  1,\n",
       "       -1,  1,  1, -1, -1, -1,  1, -1,  1, -1,  1,  1, -1, -1, -1,  1, -1,\n",
       "        1, -1,  1, -1,  1, -1,  1,  1,  1,  1,  1,  1,  1,  1, -1])"
      ]
     },
     "execution_count": 7,
     "metadata": {},
     "output_type": "execute_result"
    }
   ],
   "source": [
    "spins = np.random.randint(0, 2, size=100)\n",
    "spins[spins == 0] = -1\n",
    "spins"
   ]
  },
  {
   "cell_type": "code",
   "execution_count": 9,
   "metadata": {},
   "outputs": [
    {
     "data": {
      "text/plain": [
       "array([ 1., -1., -1., -1.,  1.,  1., -1.,  1., -1., -1.,  1., -1.,  1.,\n",
       "        1., -1.,  1.,  1.,  1.,  1., -1., -1.,  1., -1., -1., -1., -1.,\n",
       "       -1.,  1.,  1.,  1.,  1.,  1.,  1.,  1.,  1.,  1.,  1., -1., -1.,\n",
       "        1.,  1., -1., -1., -1., -1.,  1.,  1.,  1., -1., -1., -1.,  1.,\n",
       "       -1.,  1., -1.,  1.,  1., -1., -1.,  1.,  1., -1.,  1., -1., -1.,\n",
       "       -1.,  1., -1.,  1.,  1.,  1., -1., -1., -1., -1., -1.,  1., -1.,\n",
       "        1., -1., -1., -1., -1., -1., -1., -1., -1., -1.,  1.,  1., -1.,\n",
       "        1., -1., -1., -1.,  1., -1.,  1., -1.,  1.])"
      ]
     },
     "execution_count": 9,
     "metadata": {},
     "output_type": "execute_result"
    }
   ],
   "source": [
    "# OR...\n",
    "spins = np.random.randint(0, 2, size=100)\n",
    "spins= 2*(spins-0.5)\n",
    "spins"
   ]
  },
  {
   "cell_type": "markdown",
   "metadata": {
    "scrolled": false
   },
   "source": [
    "**1.2 [1pts]** Write a function `magnet(s)` which compute the total normalized magnetization of the system `s`, defined as \n",
    "$$\n",
    "M = \\frac{1}{N} \\sum_{i} s_i\n",
    "$$"
   ]
  },
  {
   "cell_type": "code",
   "execution_count": 15,
   "metadata": {},
   "outputs": [
    {
     "name": "stdout",
     "output_type": "stream",
     "text": [
      "0.06 0.06\n"
     ]
    }
   ],
   "source": [
    "def initState(N):\n",
    "    '''\n",
    "    retruns an array of length N of -è1 qnd +1 values\n",
    "    '''\n",
    "    spins = np.random.randint(0, 2, size=N)\n",
    "    spins[spins == 0] = -1\n",
    "    return spins\n",
    "\n",
    "def magnet(s):\n",
    "    '''\n",
    "    calcumates the total magetisation of the system, basically the mean ...\n",
    "    '''\n",
    "    return np.sum(s)/len(s)\n",
    "\n",
    "s = initState(100)\n",
    "print (magnet(s), np.mean(s))"
   ]
  },
  {
   "cell_type": "code",
   "execution_count": null,
   "metadata": {},
   "outputs": [],
   "source": []
  },
  {
   "cell_type": "markdown",
   "metadata": {},
   "source": [
    "**1.3 [2pts]** Using an explicit `for` loop, create 10000 times a new spin system, compute $M$ for each of them, and plot and histogram of 10000 $M$ values, using a 100 bins between -1 and 1. Repeat this for N=10, 100, 1000. We will keep N=100 after this question, unless specifed otherwise."
   ]
  },
  {
   "cell_type": "code",
   "execution_count": 25,
   "metadata": {},
   "outputs": [
    {
     "data": {
      "image/png": "[encoded data removed]",
      "text/plain": [
       "<Figure size 1000x700 with 1 Axes>"
      ]
     },
     "metadata": {},
     "output_type": "display_data"
    }
   ],
   "source": [
    "def makeMagnetHist(N):\n",
    "    '''\n",
    "    makes q histogram of magnetisation for 10000 random spin states of length N\n",
    "    '''\n",
    "    list_M = []\n",
    "    for i in range(10000):\n",
    "        M =  magnet(initState(N))\n",
    "        list_M.append(M)\n",
    "    \n",
    "    histInfo = plt.hist(list_M, bins=np.linspace(-1,1, 100), alpha=0.5, label=f\"N={N}\")\n",
    "    plt.legend()\n",
    "\n",
    "makeMagnetHist(10)\n",
    "makeMagnetHist(100)\n",
    "makeMagnetHist(1000)\n",
    "makeMagnetHist(10000)"
   ]
  },
  {
   "cell_type": "markdown",
   "metadata": {},
   "source": [
    "**1.4 a) [2pts]** We now consider a case of 100 spins. The goal of this question is to compute the energy of the system. Close-by aligned spins leads to a lower energy, while anti-aligned close-by spins has a energy cost. At the end, we can define the normalized energy of the system as:\n",
    "$$\n",
    "E = -\\frac{1}{2} \\frac{1}{N-2}\\sum^{N-1}_{i=1} ( s_{i}s_{i-1} + s_{i}s_{i+1})\n",
    "$$\n",
    "\n",
    "Write a function `energy(s)` returning the total energy of the system `s`. Since the first (last) spin has not left (right) neighbour, we will simply exclude them from sum in the energy calculation (but we keep them in the normalization factor $N$).\n",
    "\n",
    "**HINT:** the correct approach doens't use explicit for loop. One can start by defining a 'bulk' spin system, exluding the first and the last element. In a next step, one can try to get all left neighbours in one array and all the right ones in another array."
   ]
  },
  {
   "cell_type": "code",
   "execution_count": 42,
   "metadata": {},
   "outputs": [
    {
     "data": {
      "text/plain": [
       "array([ 1, -1,  1, -1, -1, -1, -1, -1, -1,  1, -1,  1, -1, -1, -1,  1,  1,\n",
       "       -1,  1, -1,  1, -1,  1, -1,  1, -1, -1, -1,  1, -1, -1, -1,  1, -1,\n",
       "       -1,  1,  1,  1,  1,  1,  1, -1, -1, -1, -1, -1, -1,  1,  1, -1, -1,\n",
       "        1, -1, -1, -1, -1, -1,  1,  1,  1,  1, -1, -1,  1, -1,  1, -1,  1,\n",
       "        1,  1,  1,  1,  1, -1,  1,  1,  1,  1, -1, -1,  1,  1,  1, -1,  1,\n",
       "        1, -1, -1, -1, -1, -1,  1, -1,  1, -1, -1, -1,  1,  1,  1])"
      ]
     },
     "execution_count": 42,
     "metadata": {},
     "output_type": "execute_result"
    }
   ],
   "source": [
    "N=100\n",
    "\n",
    "def energy(s):\n",
    "    product =0 \n",
    "    for i in range (1, len(s)-1):\n",
    "        product += s[i] * s[i-1]\n",
    "        product += s[i] * s[i+1]\n",
    "    E =  -0.5*(1/(len(s)-2))* product\n",
    "    return E\n",
    "\n",
    "s = initState(N)\n",
    "s"
   ]
  },
  {
   "cell_type": "code",
   "execution_count": 39,
   "metadata": {},
   "outputs": [
    {
     "data": {
      "text/plain": [
       "-0.09"
      ]
     },
     "execution_count": 39,
     "metadata": {},
     "output_type": "execute_result"
    }
   ],
   "source": [
    "energy(s)"
   ]
  },
  {
   "cell_type": "markdown",
   "metadata": {},
   "source": [
    "**1.4 b) [1pts]** Which value of magnetization and energy do you expect for a system with all spins up? Check the result explicitely by generating a state with all spins at 1 and by calucating energy and magnetization."
   ]
  },
  {
   "cell_type": "code",
   "execution_count": 54,
   "metadata": {},
   "outputs": [
    {
     "data": {
      "text/plain": [
       "-0.9999999999999999"
      ]
     },
     "execution_count": 54,
     "metadata": {},
     "output_type": "execute_result"
    }
   ],
   "source": [
    "s = np.ones(N)\n",
    "energy(s)"
   ]
  },
  {
   "cell_type": "markdown",
   "metadata": {},
   "source": [
    "**1.4 c) [1pts]** Repeat the question for a system of spins where they are all anti-aligned (*i.e*, one up, one down, one up, etc ...).\n",
    "\n",
    "**HINT:** It can be useful to remember how to select every two elements in an array."
   ]
  },
  {
   "cell_type": "code",
   "execution_count": 56,
   "metadata": {},
   "outputs": [
    {
     "data": {
      "text/plain": [
       "0.9999999999999999"
      ]
     },
     "execution_count": 56,
     "metadata": {},
     "output_type": "execute_result"
    }
   ],
   "source": [
    "s[0::2]=-1\n",
    "\n",
    "energy(s)"
   ]
  },
  {
   "cell_type": "markdown",
   "metadata": {},
   "source": [
    "**1.5** The goal of this question is to implement a thermal evolution of the spin system, using a Metropolis algorithm, defined by the following steps:\n",
    "  1. flip randomely $n$ spins\n",
    "  2. compute the energy difference $\\Delta E$ due to the flipping step\n",
    "  3. accept the new configuration with a probability 1.0 if $\\Delta E<0$, and with a probability $e^{\\frac{-\\Delta E} {T}}$ if $\\Delta E>0$, where $T$ is a new parameter of the simulation, obviously called temperature. If the new configuration is not accecped, the lattice state is unchanged but the procedure still count as one thermal evolution step."
   ]
  },
  {
   "cell_type": "markdown",
   "metadata": {},
   "source": [
    "**1.5 a) [3pts]** Write a function `thermalEvolution(spins, T, n)` which operate these three steps on a system `spins` and return the evolved lattice state.\n",
    "\n",
    "   + **HINT1:** flipping a spin can be seen by a multiplication by $-1$.\n",
    "   + **HINT2:** to generate $n$ random integers, between $0$ and $N$, one can use `np.random.randint(low=0, high=N, size=n)` command.\n",
    "   + **HINT3:** an acceptation rate following $e^{\\frac{-\\Delta E} {T}}$ can be obtained by accepting if $r<e^{\\frac{-\\Delta E} {T}}$, where $r$ is a random number between $0$ and $1$ (which can be obtained with the function `np.random.rand()`."
   ]
  },
  {
   "cell_type": "code",
   "execution_count": 58,
   "metadata": {},
   "outputs": [],
   "source": [
    "s =  initState(10)"
   ]
  },
  {
   "cell_type": "code",
   "execution_count": 66,
   "metadata": {},
   "outputs": [
    {
     "data": {
      "text/plain": [
       "array([ 1, -1, -1, -1, -1,  1,  1, -1, -1,  1])"
      ]
     },
     "execution_count": 66,
     "metadata": {},
     "output_type": "execute_result"
    }
   ],
   "source": [
    "def thermalEvolution(spins, T, n):\n",
    "    initialConfiguration = np.array(spins)\n",
    "    initialEnergy = energy(initialConfiguration)\n",
    "    randomSpinIndices =  np.random.randint(low=0, high=len(spins), size=n)\n",
    "    newConfiguration = spins\n",
    "    newConfiguration[randomSpinIndices] *= -1\n",
    "    newEnergy = energy(newConfiguration)\n",
    "    dE = newEnergy - initialEnergy\n",
    "    if dE <0 :\n",
    "        return newConfiguration\n",
    "    else:\n",
    "        keepProb = np.exp(-dE/T)\n",
    "        r = np.random.rand()\n",
    "        if r < keepProb :\n",
    "             return newConfiguration\n",
    "        else :\n",
    "            return initialConfiguration\n",
    "    \n",
    "\n",
    "\n",
    "thermalEvolution(s, 1, 3)"
   ]
  },
  {
   "cell_type": "markdown",
   "metadata": {},
   "source": [
    "**1.5 b) [1ps]** Plot the total magnetization as function of time for 5000 thermal evolutions (we will use an explicit `for` loop), where for each thermal evolution, 30 spins are flipped. Compare the evolution of the magnetization with time for three temperature values, 0.02, 0.03 and 0.1 (the spin system has to be initialized for each temperature before starting the \"thermalization\")."
   ]
  },
  {
   "cell_type": "code",
   "execution_count": null,
   "metadata": {},
   "outputs": [],
   "source": []
  },
  {
   "cell_type": "markdown",
   "metadata": {},
   "source": [
    "## 2. Ising model in two dimensions (8pts)\n",
    "\n",
    "Since the 2D simulation is a bit more tricky, a python package is provided for the exam. The main object of this package is a spin lattice, which can be created and vizualized as follow:"
   ]
  },
  {
   "cell_type": "code",
   "execution_count": 3,
   "metadata": {},
   "outputs": [
    {
     "data": {
      "image/png": "[encoded data removed]",
      "text/plain": [
       "<Figure size 720x504 with 1 Axes>"
      ]
     },
     "metadata": {
      "needs_background": "light"
     },
     "output_type": "display_data"
    }
   ],
   "source": [
    "import ising\n",
    "lat = ising.spinLattice(100)\n",
    "lat.plot()"
   ]
  },
  {
   "cell_type": "markdown",
   "metadata": {},
   "source": [
    "Here is a quick description of the main functions availaible in the the `ising` package, which can be called on a `spinLattice` object:\n",
    "\n",
    " + `lat.spins` is directly the 2D numpy array of spin values\n",
    " + `lat.plot()` plots the current state of the lattice\n",
    " + `lat.energy()` computes and returns the total (normalized) energy of the lattice\n",
    " + `lat.magnetization()` computes and returns the total (normalized) magnetization of the lattice \n",
    " + `lat.randomize()` randomizes the state of the lattice (*i.e.* randomely flip all spins)\n",
    " + `lat.align()` aligns all spin of the lattice at +1\n",
    " + `lat.antialign()` anti-aligns all spins of the lattice\n",
    " + `lat.thermalEvolution(T)` performs one single thermal evolution under the temperature T"
   ]
  },
  {
   "cell_type": "markdown",
   "metadata": {},
   "source": [
    "**2.1 [2pts]** Using an explicit `for` loop, vizualize the state of a $100\\times 100$ spins lattice after 0, 100 and 1000 thermal evolution steps, for a temperature of 0.5. One can use the instruction `spins.thermalEvolution(T)` to perform one single thermal evolution at a temperature T. Compare the result of the two following situations:\n",
    " + the lattice is randomized before thermal evolutions\n",
    " + the lattice is aligned before thermal evolutions"
   ]
  },
  {
   "cell_type": "code",
   "execution_count": null,
   "metadata": {},
   "outputs": [],
   "source": []
  },
  {
   "cell_type": "markdown",
   "metadata": {},
   "source": [
    "**2.2 a) [1pts]** Write a function `plotEvolution(T, mode)` which produce the three plots before for a give temperature `T` and a given initialization mode (*i.e.* randomized or aligned). "
   ]
  },
  {
   "cell_type": "code",
   "execution_count": null,
   "metadata": {},
   "outputs": [],
   "source": []
  },
  {
   "cell_type": "markdown",
   "metadata": {},
   "source": [
    "**2.2 b) [1pts]** Compare the evolution of the lattice, when it is aligned at first, for four temperatures, namely 1.0, 1.5, 2.0 and 2.5. What do you notice?"
   ]
  },
  {
   "cell_type": "code",
   "execution_count": null,
   "metadata": {},
   "outputs": [],
   "source": []
  },
  {
   "cell_type": "markdown",
   "metadata": {},
   "source": [
    "**2.3** The goal of this question is to investigate the behaviour of the magnetization with the temperature. \n",
    "\n",
    "**2.3 a) [2pts]** Write a function `magThermalEq(lattice, T)` which aligns the lattice `lattice`, performs 1000 thermal evolutions at a temperature `T` and return the final magnetization at thermal equilibrium."
   ]
  },
  {
   "cell_type": "code",
   "execution_count": null,
   "metadata": {},
   "outputs": [],
   "source": []
  },
  {
   "cell_type": "markdown",
   "metadata": {},
   "source": [
    "**2.3 b) [1pts]** Plot the magnetization after thermalization, as a function of the temperature. One would consider 30 points between 1.5 and 3.0, and an explicit `for` loop over temperatures is allowed."
   ]
  },
  {
   "cell_type": "code",
   "execution_count": null,
   "metadata": {},
   "outputs": [],
   "source": []
  },
  {
   "cell_type": "markdown",
   "metadata": {},
   "source": [
    "**2.3 c) [1pts]** Does this behaviour depends on the lattice size? One could try a couple of smaller sizes."
   ]
  },
  {
   "cell_type": "code",
   "execution_count": null,
   "metadata": {},
   "outputs": [],
   "source": []
  },
  {
   "cell_type": "markdown",
   "metadata": {},
   "source": [
    "**BONUS QUESTION [3pts]** \n",
    "\n",
    "The goal of this question is to use some already-simulated data to investigate the correlation distance between pair of spins in the lattice. This can be done measuring the correlation between pairs of spins as function of the distance separing the two spins. It's not needed to fully understand this concept to answer the following question. At the end, all you need to know is that you have a function of r for different temperatures: $\\mathcal{C}_T(r)$.\n",
    "\n",
    "In order to make the use of these data easier, a dataframe `df` containing values of $r$ and correlations for several temperatures is loaded below. This dataset corresponds to a $30 \\times 30$ spin lattice. Also, the column name of correlations values for each temperature is given via a dictionnary `corrTs`. An example of how to access the information is given below."
   ]
  },
  {
   "cell_type": "code",
   "execution_count": 4,
   "metadata": {},
   "outputs": [],
   "source": [
    "# Simulated temperatures \n",
    "Ts = [0.5, 1., 1.5, 1.75, 2, 2.1, 2.15, 2.175, 2.2, 2.225, 2.25, 2.269, 2.30, 2.35, 2.40, 2.5, 2.6, 2.8, 3, 3.5, 4]\n",
    "\n",
    "# Column name of the correlations data for each temperatures\n",
    "corrTs = {T: 'MeanT'+str(T) for T in Ts}\n",
    "\n",
    "# Full data frame\n",
    "df = pd.read_csv('TwoPointCorr_30x30.csv')"
   ]
  },
  {
   "cell_type": "code",
   "execution_count": 5,
   "metadata": {},
   "outputs": [
    {
     "data": {
      "image/png": "[encoded data removed]",
      "text/plain": [
       "<Figure size 720x504 with 1 Axes>"
      ]
     },
     "metadata": {
      "needs_background": "light"
     },
     "output_type": "display_data"
    }
   ],
   "source": [
    "# Get radius data\n",
    "r = df['r']\n",
    "\n",
    "# Get correlations for T=4\n",
    "c = df[corrTs[4]]\n",
    "\n",
    "# PLot the correlation vs the radius\n",
    "plt.plot(r, c);"
   ]
  },
  {
   "cell_type": "markdown",
   "metadata": {},
   "source": [
    "Using the function `optimize.curve_fit()` from `scipy` module, fit the correlation verus the radius for each temperature, by a decreasing exponential function:\n",
    "$$\n",
    "f(r) = A \\; e^{-\\frac{r-r_0}{\\xi}}\n",
    "$$\n",
    "where $A$, $r_0$ and $\\xi$ are parameters to be fitted. \n",
    "\n",
    "**HINT:** When using `optimize.curve_fit()` function, it can be useful to give initial value of free parameters (argument `p0`), and also to restrict the parameters ranges during the minimization (argument `bounds`). \n",
    "\n",
    "Plot $\\xi$ vesus $T$."
   ]
  },
  {
   "cell_type": "code",
   "execution_count": null,
   "metadata": {},
   "outputs": [],
   "source": []
  }
 ],
 "metadata": {
  "kernelspec": {
   "display_name": "Python 3 (ipykernel)",
   "language": "python",
   "name": "python3"
  },
  "language_info": {
   "codemirror_mode": {
    "name": "ipython",
    "version": 3
   },
   "file_extension": ".py",
   "mimetype": "text/x-python",
   "name": "python",
   "nbconvert_exporter": "python",
   "pygments_lexer": "ipython3",
   "version": "3.10.17"
  }
 },
 "nbformat": 4,
 "nbformat_minor": 4
}
