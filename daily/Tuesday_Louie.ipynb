{
 "cells": [
  {
   "cell_type": "markdown",
   "id": "02fa0a16-fad0-4197-aa4b-dca3354bafe4",
   "metadata": {},
   "source": [
    "# CHALLENGE\n",
    "\n",
    "Parts a) and b): *Open the file* `'LAssommoir_en.txt'` *and count the number of lines in the file *"
   ]
  },
  {
   "cell_type": "code",
   "execution_count": 9,
   "id": "083b05a3-3e3e-4ed1-b769-ec0173e47aeb",
   "metadata": {},
   "outputs": [
    {
     "name": "stdout",
     "output_type": "stream",
     "text": [
      "the file cobtains 1180 lines\n"
     ]
    }
   ],
   "source": [
    "F =open('LAssommoir_en.txt')\n",
    "lines = F.readlines()\n",
    "print(f'the file cobtains {len(lines)} lines')"
   ]
  },
  {
   "cell_type": "markdown",
   "id": "fb80647f-3699-4fe7-b034-7547e8e212c0",
   "metadata": {},
   "source": [
    "alternative solution...\n"
   ]
  },
  {
   "cell_type": "code",
   "execution_count": 11,
   "id": "ec8fd0d4-ff72-4a7d-89bd-7f97e84a117b",
   "metadata": {},
   "outputs": [
    {
     "name": "stdout",
     "output_type": "stream",
     "text": [
      "the file cobtains 1180 lines\n"
     ]
    }
   ],
   "source": [
    "F =open('LAssommoir_en.txt')\n",
    "lineCounter=0\n",
    "for line in F:\n",
    "    lineCounter = lineCounter + 1\n",
    "print(f'the file cobtains {lineCounter} lines')"
   ]
  },
  {
   "cell_type": "markdown",
   "id": "f79c4a64-4599-4999-831e-897f8c601ffe",
   "metadata": {},
   "source": [
    "Part c) *How many words contain the letter* `q` ? "
   ]
  },
  {
   "cell_type": "code",
   "execution_count": 14,
   "id": "44027d76-7478-4140-b044-a61347021889",
   "metadata": {},
   "outputs": [
    {
     "name": "stdout",
     "output_type": "stream",
     "text": [
      "your file has 40 words containing the letter q\n"
     ]
    }
   ],
   "source": [
    "F =open('LAssommoir_en.txt')\n",
    "lines = F.readlines()\n",
    "counter = 0\n",
    "for line in lines:\n",
    "  words = line.split(\" \")\n",
    "  for word in words:\n",
    "    if \"q\" in word :\n",
    "        counter  = counter + 1\n",
    "print (f'your file has {counter} words containing the letter q')"
   ]
  },
  {
   "cell_type": "markdown",
   "id": "72dceadc-51cb-40e5-98dd-6f3c44bae663",
   "metadata": {},
   "source": [
    "Or for fun..."
   ]
  },
  {
   "cell_type": "code",
   "execution_count": 17,
   "id": "12ff2c57-620f-4134-b74f-035b72b46b66",
   "metadata": {},
   "outputs": [],
   "source": [
    "def countLetterInFile( letter, file):\n",
    "    ''' \n",
    "    this function counter the number of times that a given letter occurs in a given file and returns that values\n",
    "    '''\n",
    "    F =open(file)\n",
    "    lines = F.readlines()\n",
    "    counter = 0\n",
    "    for line in lines:\n",
    "      words = line.split(\" \")\n",
    "      for word in words:\n",
    "        if letter in word :\n",
    "          counter  = counter + 1\n",
    "\n",
    "    print(f'file {file} contains the letter {letter} {counter} times.')\n",
    "    return counter\n",
    "    "
   ]
  },
  {
   "cell_type": "code",
   "execution_count": 16,
   "id": "1c734bf3-c440-4789-9534-5aff0e72cbc4",
   "metadata": {},
   "outputs": [
    {
     "name": "stdout",
     "output_type": "stream",
     "text": [
      "file LAssommoir_en.txt contains the letter q 40 times.\n",
      "file LAssommoir_fr.txt contains the letter q 374 times.\n",
      "file LAssommoir_it.txt contains the letter q 206 times.\n",
      "file LAssommoir_es.txt contains the letter q 448 times.\n",
      "file LAssommoir_de.txt contains the letter q 5 times.\n"
     ]
    }
   ],
   "source": [
    "for file in ['LAssommoir_en.txt','LAssommoir_fr.txt','LAssommoir_it.txt','LAssommoir_es.txt','LAssommoir_de.txt']:\n",
    "    countLetterInFile('q', file)"
   ]
  },
  {
   "cell_type": "markdown",
   "id": "6ccb35da-a3c8-4930-859e-aa03f3f95608",
   "metadata": {},
   "source": [
    "Part d *what is the most frequently used letter*"
   ]
  },
  {
   "cell_type": "code",
   "execution_count": 24,
   "id": "e1166df5-bd36-4a69-b092-da99eb7e2c41",
   "metadata": {},
   "outputs": [
    {
     "name": "stdout",
     "output_type": "stream",
     "text": [
      " The most frequent letter to occur is e which was present 6354 times\n"
     ]
    }
   ],
   "source": [
    "F =open('LAssommoir_en.txt')\n",
    "lines = F.readlines()\n",
    "result = {}\n",
    "for line in lines: \n",
    "    for letter in line.lower().replace(' ',''):\n",
    "        if letter in result.keys():\n",
    "            result[letter] += 1 # increment an existing entry\n",
    "        else :\n",
    "            result[letter]=1 #initialise a new key with value 1\n",
    "\n",
    "maxLetter =0\n",
    "maxOccurance =0\n",
    "for letter, occurance in result.items():\n",
    "    if occurance > maxOccurance :\n",
    "        maxLetter = letter\n",
    "        maxOccurance  =occurance\n",
    "print (f' The most frequent letter to occur is {maxLetter} which was present {maxOccurance} times')"
   ]
  },
  {
   "cell_type": "markdown",
   "id": "fca95963-d2b8-41ba-aa8d-99cbf92ecc28",
   "metadata": {},
   "source": [
    "Part e) *Rewrite the text to a new file but re,oving all special characters and numbers*"
   ]
  },
  {
   "cell_type": "code",
   "execution_count": 102,
   "id": "90bb0c04-45eb-4e7b-9e46-bc792f0c1a64",
   "metadata": {},
   "outputs": [],
   "source": [
    "name='LAssommoir_en.txt'\n",
    "f_in = open(name, 'r')\n",
    "f_out = open ('modified_'+name, 'w')\n",
    "\n",
    "for line in f_in:\n",
    "    newline=\"\"\n",
    "    for character in line:\n",
    "        if character.isalpha() :\n",
    "            newline+= character\n",
    "    #newline = str([character for character in line if character.isalpha() ])\n",
    "    f_out.write(newline)\n",
    "f_out.close()\n",
    "        \n",
    "    "
   ]
  },
  {
   "cell_type": "code",
   "execution_count": 98,
   "id": "2e4773e0-de97-48ae-8d99-972f420aba96",
   "metadata": {},
   "outputs": [
    {
     "data": {
      "text/plain": [
       "True"
      ]
     },
     "execution_count": 98,
     "metadata": {},
     "output_type": "execute_result"
    }
   ],
   "source": [
    "a='2'\n",
    "a.isalnum()"
   ]
  },
  {
   "cell_type": "markdown",
   "id": "7101c0be-d6d8-4489-9b67-c77b233f86ce",
   "metadata": {},
   "source": [
    "Part f) *What is the mean number of letter per word ? How does it compare between the french, english, german, italian, spanish, etc... versions ?*"
   ]
  },
  {
   "cell_type": "code",
   "execution_count": 105,
   "id": "3be78ecd-4d3a-4e0d-9976-092251e9ad39",
   "metadata": {},
   "outputs": [],
   "source": [
    "def averageLengthOfWordPerFile(file):\n",
    "    '''\n",
    "    This function splits a file into words and cqlculqte the length of each word before taking the mean\n",
    "    '''\n",
    "    result = []\n",
    "    f = open(file)\n",
    "    for word in f.read().split(\" \"):\n",
    "        newword = [c for c in word if c.isalpha()]\n",
    "        result.append(len(newword))\n",
    "    return sum(result)/len(result)"
   ]
  },
  {
   "cell_type": "code",
   "execution_count": 107,
   "id": "d3c044c3-64b2-4381-9cfc-47eea5cd4f3d",
   "metadata": {},
   "outputs": [
    {
     "name": "stdout",
     "output_type": "stream",
     "text": [
      "The file LAssommoir_en.txt has an average letter per word of 4.78\n",
      "The file LAssommoir_fr.txt has an average letter per word of 4.77\n",
      "The file LAssommoir_it.txt has an average letter per word of 5.48\n",
      "The file LAssommoir_es.txt has an average letter per word of 4.96\n",
      "The file LAssommoir_de.txt has an average letter per word of 5.48\n"
     ]
    }
   ],
   "source": [
    "for file in ['LAssommoir_en.txt','LAssommoir_fr.txt','LAssommoir_it.txt','LAssommoir_es.txt','LAssommoir_de.txt']:\n",
    "   av = averageLengthOfWordPerFile(file)\n",
    "   print(f'The file {file} has an average letter per word of {av:.2f}')"
   ]
  },
  {
   "cell_type": "markdown",
   "id": "e40fef18-c4d7-43de-b089-01ef1598b469",
   "metadata": {},
   "source": [
    "# Numpy exerise\n",
    "\n",
    "- a) Generate an array of three lists of 10 values, which can represent coordinates in $x$, $y$, $z$ of 10 vectors. Use `np.random.randint()`\n",
    "- b) Reorganise the values to be a list of 10 $(x,y,z)$ triplets. *hint: should you reshape or transpose?*\n",
    "- c) Translate all the points by a vector $(-1, -1, -1)$.\n",
    "- d) Calculate the distance of each point to the origin. What is the avergae distance from the origin ? *hint: check out `np.mean()`* \n",
    "- e) BONUS: Using a mask, select only the vectors which are  less than the mean distance away from the origin."
   ]
  },
  {
   "cell_type": "markdown",
   "id": "79945a17-8a9e-42e1-9aaf-c101c7d3e364",
   "metadata": {},
   "source": [
    "## Solution of a)"
   ]
  },
  {
   "cell_type": "code",
   "execution_count": 26,
   "id": "eda631ab-327b-4c85-9455-9a10b8f78a2d",
   "metadata": {},
   "outputs": [],
   "source": [
    "import numpy as np"
   ]
  },
  {
   "cell_type": "code",
   "execution_count": 51,
   "id": "1b5a66bd-e3e5-43c0-8e24-9c6e6c1ec82b",
   "metadata": {},
   "outputs": [],
   "source": [
    "vectors = np.random.randint(-100, 100, (3,10))"
   ]
  },
  {
   "cell_type": "code",
   "execution_count": 52,
   "id": "490b66cc-82fe-465c-ac9d-7cfa750b7878",
   "metadata": {},
   "outputs": [
    {
     "data": {
      "text/plain": [
       "array([[ 52, -76, -13, -85, -75,  25, -52, -98, -86, -88],\n",
       "       [ -9, -72, -63,  93,  82,  62, -44,  83, -91,  22],\n",
       "       [-90, -75, -15,  67,  28,  94, -17,  38, -28, -89]])"
      ]
     },
     "execution_count": 52,
     "metadata": {},
     "output_type": "execute_result"
    }
   ],
   "source": [
    "vectors"
   ]
  },
  {
   "cell_type": "code",
   "execution_count": 53,
   "id": "3c916673-3f35-4752-a3c5-22b6ea44d38a",
   "metadata": {},
   "outputs": [
    {
     "data": {
      "text/plain": [
       "array([-15,  67,  28])"
      ]
     },
     "execution_count": 53,
     "metadata": {},
     "output_type": "execute_result"
    }
   ],
   "source": [
    "vectors [2, 2:5]"
   ]
  },
  {
   "cell_type": "markdown",
   "id": "4ae866d2-2cee-40dd-8155-b5b90493b748",
   "metadata": {},
   "source": [
    "## Solution of b)"
   ]
  },
  {
   "cell_type": "code",
   "execution_count": 54,
   "id": "40c19874-8059-4157-8c59-d9e2d2526b2f",
   "metadata": {},
   "outputs": [
    {
     "data": {
      "text/plain": [
       "array([[ 52, -76, -13],\n",
       "       [-85, -75,  25],\n",
       "       [-52, -98, -86],\n",
       "       [-88,  -9, -72],\n",
       "       [-63,  93,  82],\n",
       "       [ 62, -44,  83],\n",
       "       [-91,  22, -90],\n",
       "       [-75, -15,  67],\n",
       "       [ 28,  94, -17],\n",
       "       [ 38, -28, -89]])"
      ]
     },
     "execution_count": 54,
     "metadata": {},
     "output_type": "execute_result"
    }
   ],
   "source": [
    "vectors.reshape((10,3)) #  be careful, this is taking the first three values of x, then the values 4-6, etc..."
   ]
  },
  {
   "cell_type": "code",
   "execution_count": 55,
   "id": "87d86766-f001-45d7-bb4a-ce8790bc83de",
   "metadata": {},
   "outputs": [
    {
     "data": {
      "text/plain": [
       "array([[ 52,  -9, -90],\n",
       "       [-76, -72, -75],\n",
       "       [-13, -63, -15],\n",
       "       [-85,  93,  67],\n",
       "       [-75,  82,  28],\n",
       "       [ 25,  62,  94],\n",
       "       [-52, -44, -17],\n",
       "       [-98,  83,  38],\n",
       "       [-86, -91, -28],\n",
       "       [-88,  22, -89]])"
      ]
     },
     "execution_count": 55,
     "metadata": {},
     "output_type": "execute_result"
    }
   ],
   "source": [
    "np.transpose(vectors)\n",
    "vectors.T"
   ]
  },
  {
   "cell_type": "markdown",
   "id": "b8a39abd-1da8-43b9-8932-b4f32f65c046",
   "metadata": {},
   "source": [
    "ASIDE: How does it zork for a 3D array (tensor) ?"
   ]
  },
  {
   "cell_type": "code",
   "execution_count": 40,
   "id": "6c057ea9-ce08-4b74-9413-186d085bbf4b",
   "metadata": {},
   "outputs": [],
   "source": [
    "vectors = np.random.randint(-100, 100, (3,10,2))"
   ]
  },
  {
   "cell_type": "code",
   "execution_count": 43,
   "id": "1c3f8b47-43cc-4ed5-9a5e-c8b086a15a3b",
   "metadata": {},
   "outputs": [
    {
     "data": {
      "text/plain": [
       "(3, 10, 2)"
      ]
     },
     "execution_count": 43,
     "metadata": {},
     "output_type": "execute_result"
    }
   ],
   "source": [
    "vectors.shape"
   ]
  },
  {
   "cell_type": "code",
   "execution_count": 44,
   "id": "112d7d95-ecd1-4487-8750-6a706509ade8",
   "metadata": {},
   "outputs": [
    {
     "data": {
      "text/plain": [
       "(2, 10, 3)"
      ]
     },
     "execution_count": 44,
     "metadata": {},
     "output_type": "execute_result"
    }
   ],
   "source": [
    "vectors.T.shape"
   ]
  },
  {
   "cell_type": "code",
   "execution_count": 45,
   "id": "edd9653f-72d7-4c22-b6e8-9fa8a6b754d4",
   "metadata": {},
   "outputs": [
    {
     "data": {
      "text/plain": [
       "(3, 10, 2)"
      ]
     },
     "execution_count": 45,
     "metadata": {},
     "output_type": "execute_result"
    }
   ],
   "source": [
    "vectors.T.T.shape"
   ]
  },
  {
   "cell_type": "code",
   "execution_count": 50,
   "id": "c86d37c4-72af-4bc4-a5c9-cb6f12e9c2e4",
   "metadata": {},
   "outputs": [
    {
     "data": {
      "text/plain": [
       "(10, 3, 2)"
      ]
     },
     "execution_count": 50,
     "metadata": {},
     "output_type": "execute_result"
    }
   ],
   "source": [
    "np.transpose(vectors, axes=(1,0,2)).shape"
   ]
  },
  {
   "cell_type": "markdown",
   "id": "d8b4c8e2-fa36-4f5c-86fe-1aa2aab9daa7",
   "metadata": {},
   "source": [
    "## Part c)"
   ]
  },
  {
   "cell_type": "code",
   "execution_count": 56,
   "id": "af99f5b4-24f1-474b-b581-dd91938bcdf6",
   "metadata": {},
   "outputs": [
    {
     "data": {
      "text/plain": [
       "array([[ 52,  -9, -90],\n",
       "       [-76, -72, -75],\n",
       "       [-13, -63, -15],\n",
       "       [-85,  93,  67],\n",
       "       [-75,  82,  28],\n",
       "       [ 25,  62,  94],\n",
       "       [-52, -44, -17],\n",
       "       [-98,  83,  38],\n",
       "       [-86, -91, -28],\n",
       "       [-88,  22, -89]])"
      ]
     },
     "execution_count": 56,
     "metadata": {},
     "output_type": "execute_result"
    }
   ],
   "source": [
    "vectors.T"
   ]
  },
  {
   "cell_type": "code",
   "execution_count": 63,
   "id": "273f8b57-ba3c-4456-b0b3-4875c87e2f25",
   "metadata": {},
   "outputs": [],
   "source": [
    "v0 = np.array([-1, -1, -1])"
   ]
  },
  {
   "cell_type": "code",
   "execution_count": 64,
   "id": "e10f5f0b-c6c4-4bce-880e-24dbaf6c2109",
   "metadata": {},
   "outputs": [
    {
     "data": {
      "text/plain": [
       "array([[ 51, -10, -91],\n",
       "       [-77, -73, -76],\n",
       "       [-14, -64, -16],\n",
       "       [-86,  92,  66],\n",
       "       [-76,  81,  27],\n",
       "       [ 24,  61,  93],\n",
       "       [-53, -45, -18],\n",
       "       [-99,  82,  37],\n",
       "       [-87, -92, -29],\n",
       "       [-89,  21, -90]])"
      ]
     },
     "execution_count": 64,
     "metadata": {},
     "output_type": "execute_result"
    }
   ],
   "source": [
    "vectors.T + v0"
   ]
  },
  {
   "cell_type": "code",
   "execution_count": 66,
   "id": "32241c48-939b-46f4-9a10-b245ae0a0454",
   "metadata": {},
   "outputs": [
    {
     "data": {
      "text/plain": [
       "array([[ 51, -10, -91],\n",
       "       [-77, -73, -76],\n",
       "       [-14, -64, -16],\n",
       "       [-86,  92,  66],\n",
       "       [-76,  81,  27],\n",
       "       [ 24,  61,  93],\n",
       "       [-53, -45, -18],\n",
       "       [-99,  82,  37],\n",
       "       [-87, -92, -29],\n",
       "       [-89,  21, -90]])"
      ]
     },
     "execution_count": 66,
     "metadata": {},
     "output_type": "execute_result"
    }
   ],
   "source": [
    "vectors.T -1 # also works but only ecause the translationnreauested had -1 for all three components"
   ]
  },
  {
   "cell_type": "markdown",
   "id": "86fe93cc-b2a9-4823-bec5-3b6bb0ed65ba",
   "metadata": {},
   "source": [
    "## Part d)"
   ]
  },
  {
   "cell_type": "code",
   "execution_count": 74,
   "id": "23e1ee9c-dc10-4f4b-b152-5d0fbc2f3062",
   "metadata": {},
   "outputs": [],
   "source": [
    "dist=np.sum(vectors.T**2, axis=1)**0.5"
   ]
  },
  {
   "cell_type": "code",
   "execution_count": 77,
   "id": "994fad34-ef81-4ed0-8f7f-db5b72204682",
   "metadata": {},
   "outputs": [],
   "source": [
    "mean_distance=np.average(dist)"
   ]
  },
  {
   "cell_type": "code",
   "execution_count": 79,
   "id": "8a5e71e3-ae5f-4336-8f2a-9a085e509795",
   "metadata": {},
   "outputs": [
    {
     "data": {
      "text/plain": [
       "113.13276301108922"
      ]
     },
     "execution_count": 79,
     "metadata": {},
     "output_type": "execute_result"
    }
   ],
   "source": [
    "np.mean(dist)"
   ]
  },
  {
   "cell_type": "code",
   "execution_count": 82,
   "id": "609aa337-5af2-4b98-a937-c8ada3bb29c5",
   "metadata": {},
   "outputs": [],
   "source": [
    "mask = dist < mean_distance"
   ]
  },
  {
   "cell_type": "code",
   "execution_count": 88,
   "id": "6556bd95-daca-4513-956a-22281190b6f6",
   "metadata": {},
   "outputs": [
    {
     "data": {
      "text/plain": [
       "array([ True, False,  True, False, False, False,  True, False, False,\n",
       "       False])"
      ]
     },
     "execution_count": 88,
     "metadata": {},
     "output_type": "execute_result"
    }
   ],
   "source": [
    "mask"
   ]
  },
  {
   "cell_type": "code",
   "execution_count": 83,
   "id": "e99ac4df-dc1b-4ef1-b1c0-21f225bb4972",
   "metadata": {},
   "outputs": [
    {
     "data": {
      "text/plain": [
       "(10,)"
      ]
     },
     "execution_count": 83,
     "metadata": {},
     "output_type": "execute_result"
    }
   ],
   "source": [
    "mask.shape"
   ]
  },
  {
   "cell_type": "code",
   "execution_count": 84,
   "id": "41955dc6-3f56-4958-999f-528729569f06",
   "metadata": {},
   "outputs": [
    {
     "data": {
      "text/plain": [
       "(3, 10)"
      ]
     },
     "execution_count": 84,
     "metadata": {},
     "output_type": "execute_result"
    }
   ],
   "source": [
    "vectors.shape"
   ]
  },
  {
   "cell_type": "code",
   "execution_count": 87,
   "id": "f87601a6-e996-40fa-97e0-e3b0f0250b1f",
   "metadata": {},
   "outputs": [
    {
     "data": {
      "text/plain": [
       "(10, 3)"
      ]
     },
     "execution_count": 87,
     "metadata": {},
     "output_type": "execute_result"
    }
   ],
   "source": [
    "vectors.T.shape"
   ]
  },
  {
   "cell_type": "code",
   "execution_count": 86,
   "id": "34459831-6cfa-4f24-ab88-b3e143c470f4",
   "metadata": {},
   "outputs": [
    {
     "data": {
      "text/plain": [
       "array([[ 52,  -9, -90],\n",
       "       [-13, -63, -15],\n",
       "       [-52, -44, -17]])"
      ]
     },
     "execution_count": 86,
     "metadata": {},
     "output_type": "execute_result"
    }
   ],
   "source": [
    "vectors.T[mask]"
   ]
  },
  {
   "cell_type": "code",
   "execution_count": 89,
   "id": "2797b479-117b-421f-bbdc-ba5c11439373",
   "metadata": {},
   "outputs": [
    {
     "data": {
      "text/plain": [
       "array([ True, False,  True, False, False, False,  True, False, False,\n",
       "       False])"
      ]
     },
     "execution_count": 89,
     "metadata": {},
     "output_type": "execute_result"
    }
   ],
   "source": [
    "mask"
   ]
  },
  {
   "cell_type": "code",
   "execution_count": 90,
   "id": "7933adc4-448b-4af6-8b04-9f96d15cc7de",
   "metadata": {},
   "outputs": [
    {
     "data": {
      "text/plain": [
       "array([False,  True, False,  True,  True,  True, False,  True,  True,\n",
       "        True])"
      ]
     },
     "execution_count": 90,
     "metadata": {},
     "output_type": "execute_result"
    }
   ],
   "source": [
    "np.logical_not(mask)"
   ]
  },
  {
   "cell_type": "code",
   "execution_count": 91,
   "id": "a5dd37f2-d967-44bc-8de7-48f59ab04671",
   "metadata": {},
   "outputs": [
    {
     "data": {
      "text/plain": [
       "array([False,  True, False,  True,  True,  True, False,  True,  True,\n",
       "        True])"
      ]
     },
     "execution_count": 91,
     "metadata": {},
     "output_type": "execute_result"
    }
   ],
   "source": [
    "~mask"
   ]
  },
  {
   "cell_type": "code",
   "execution_count": null,
   "id": "e71c71ab-110b-491e-9fa6-6b94ce356e80",
   "metadata": {},
   "outputs": [],
   "source": []
  }
 ],
 "metadata": {
  "kernelspec": {
   "display_name": "Python 3 (ipykernel)",
   "language": "python",
   "name": "python3"
  },
  "language_info": {
   "codemirror_mode": {
    "name": "ipython",
    "version": 3
   },
   "file_extension": ".py",
   "mimetype": "text/x-python",
   "name": "python",
   "nbconvert_exporter": "python",
   "pygments_lexer": "ipython3",
   "version": "3.10.17"
  }
 },
 "nbformat": 4,
 "nbformat_minor": 5
}
