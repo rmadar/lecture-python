{
 "cells": [
  {
   "cell_type": "code",
   "execution_count": 1,
   "id": "96561dfa-6c18-48d8-915b-4e76c6c64c75",
   "metadata": {},
   "outputs": [],
   "source": [
    "import numpy as np"
   ]
  },
  {
   "cell_type": "code",
   "execution_count": 2,
   "id": "58c9b19f-7c06-4e09-9f74-742b7371ef90",
   "metadata": {},
   "outputs": [
    {
     "name": "stdout",
     "output_type": "stream",
     "text": [
      "<class 'numpy.ndarray'> [1 2 3 4]\n"
     ]
    }
   ],
   "source": [
    "a = np.array([1, 2, 3, 4])\n",
    "print(type(a), a)"
   ]
  },
  {
   "cell_type": "code",
   "execution_count": 8,
   "id": "9ba8d031-4789-4120-bd12-a001a41a1f7a",
   "metadata": {},
   "outputs": [
    {
     "name": "stdout",
     "output_type": "stream",
     "text": [
      "[1, 2, 3, 4, 5, 6]\n",
      "[1, 2, 3, 1, 2, 3]\n",
      "[3]\n"
     ]
    }
   ],
   "source": [
    "l1, l2 = [1, 2, 3], [4, 5, 6]\n",
    "print(l1+l2)\n",
    "print(l1*2)\n",
    "print(l1[2:])"
   ]
  },
  {
   "cell_type": "code",
   "execution_count": 9,
   "id": "770dfd25-a824-4c89-aa2e-efd1d8962281",
   "metadata": {},
   "outputs": [
    {
     "name": "stdout",
     "output_type": "stream",
     "text": [
      "[5 7 9]\n",
      "[2 4 6]\n",
      "[3]\n"
     ]
    }
   ],
   "source": [
    "a1, a2 = np.array([1, 2, 3]), np.array([4, 5, 6])\n",
    "print(a1+a2)\n",
    "print(a1*2)\n",
    "print(a1[2:])"
   ]
  },
  {
   "cell_type": "code",
   "execution_count": 12,
   "id": "282a64a0-ac66-46a7-9db3-90d8f31282ae",
   "metadata": {},
   "outputs": [
    {
     "ename": "TypeError",
     "evalue": "list indices must be integers or slices, not list",
     "output_type": "error",
     "traceback": [
      "\u001b[0;31m---------------------------------------------------------------------------\u001b[0m",
      "\u001b[0;31mTypeError\u001b[0m                                 Traceback (most recent call last)",
      "Cell \u001b[0;32mIn[12], line 1\u001b[0m\n\u001b[0;32m----> 1\u001b[0m \u001b[38;5;28mprint\u001b[39m(\u001b[43ml1\u001b[49m\u001b[43m[\u001b[49m\u001b[43m[\u001b[49m\u001b[38;5;241;43m0\u001b[39;49m\u001b[43m,\u001b[49m\u001b[43m \u001b[49m\u001b[38;5;241;43m2\u001b[39;49m\u001b[43m]\u001b[49m\u001b[43m]\u001b[49m)\n",
      "\u001b[0;31mTypeError\u001b[0m: list indices must be integers or slices, not list"
     ]
    }
   ],
   "source": [
    "print(l1[[0, 2]])"
   ]
  },
  {
   "cell_type": "code",
   "execution_count": 13,
   "id": "fb8eb4fe-fcc6-4a96-a01d-aeeba164a399",
   "metadata": {},
   "outputs": [
    {
     "name": "stdout",
     "output_type": "stream",
     "text": [
      "[1 3]\n"
     ]
    }
   ],
   "source": [
    "print(a1[[0, 2]])"
   ]
  },
  {
   "cell_type": "code",
   "execution_count": 14,
   "id": "74ab6826-e757-435f-9660-d38358346a34",
   "metadata": {},
   "outputs": [],
   "source": [
    "idx = [[0, 0],[1, 0], [2, 1]]"
   ]
  },
  {
   "cell_type": "code",
   "execution_count": 15,
   "id": "35f30643-dc58-4fcc-bb85-d86e5a583478",
   "metadata": {},
   "outputs": [
    {
     "name": "stdout",
     "output_type": "stream",
     "text": [
      "[[1 1]\n",
      " [2 1]\n",
      " [3 2]]\n"
     ]
    }
   ],
   "source": [
    "print(a[idx])"
   ]
  },
  {
   "cell_type": "code",
   "execution_count": 16,
   "id": "4d11b936-0fc6-472b-9fd6-ba8efb9751b9",
   "metadata": {},
   "outputs": [
    {
     "name": "stdout",
     "output_type": "stream",
     "text": [
      "[[ 0  1]\n",
      " [ 2  3]\n",
      " [ 4  5]\n",
      " [ 6  7]\n",
      " [ 8  9]\n",
      " [10 11]\n",
      " [12 13]\n",
      " [14 15]\n",
      " [16 17]\n",
      " [18 19]\n",
      " [20 21]\n",
      " [22 23]\n",
      " [24 25]\n",
      " [26 27]\n",
      " [28 29]\n",
      " [30 31]\n",
      " [32 33]\n",
      " [34 35]\n",
      " [36 37]\n",
      " [38 39]\n",
      " [40 41]\n",
      " [42 43]\n",
      " [44 45]\n",
      " [46 47]\n",
      " [48 49]\n",
      " [50 51]\n",
      " [52 53]\n",
      " [54 55]\n",
      " [56 57]\n",
      " [58 59]\n",
      " [60 61]\n",
      " [62 63]\n",
      " [64 65]\n",
      " [66 67]\n",
      " [68 69]\n",
      " [70 71]\n",
      " [72 73]\n",
      " [74 75]\n",
      " [76 77]\n",
      " [78 79]\n",
      " [80 81]\n",
      " [82 83]\n",
      " [84 85]\n",
      " [86 87]\n",
      " [88 89]\n",
      " [90 91]\n",
      " [92 93]\n",
      " [94 95]\n",
      " [96 97]\n",
      " [98 99]]\n"
     ]
    }
   ],
   "source": [
    "idx = np.arange(0, 100).reshape(50, 2)\n",
    "print(idx)"
   ]
  },
  {
   "cell_type": "code",
   "execution_count": 17,
   "id": "2f22fd6b-603e-4c4f-aa21-41278be69c96",
   "metadata": {},
   "outputs": [
    {
     "name": "stdout",
     "output_type": "stream",
     "text": [
      "l1=[1, 10, 3], l2=[1, 10, 3]\n"
     ]
    }
   ],
   "source": [
    "# Create a list\n",
    "l1 = [1, 2, 3]\n",
    "\n",
    "# Getting a copy and modifying it\n",
    "l2 = l1\n",
    "l2[1] = 10\n",
    "\n",
    "# Print the two lists : both are modified\n",
    "print(f'l1={l1}, l2={l2}')"
   ]
  },
  {
   "cell_type": "code",
   "execution_count": 18,
   "id": "1dc95659-d1f4-4270-b0f3-ae554e30893e",
   "metadata": {},
   "outputs": [
    {
     "name": "stdout",
     "output_type": "stream",
     "text": [
      "l1=[1, 2, 3], l2=[1, 10, 3]\n"
     ]
    }
   ],
   "source": [
    "import copy\n",
    "l1 = [1, 2, 3]\n",
    "l2 = copy.copy(l1)\n",
    "l2[1] = 10\n",
    "print(f'l1={l1}, l2={l2}')"
   ]
  },
  {
   "cell_type": "code",
   "execution_count": 19,
   "id": "0508f063-1c8f-468c-8a79-63577d7c1951",
   "metadata": {},
   "outputs": [
    {
     "name": "stdout",
     "output_type": "stream",
     "text": [
      "l1=[[1, 2], [3, 4], [5, 6]], l2=[[1, 2], 3, [5, 6]]\n"
     ]
    }
   ],
   "source": [
    "# This work with a copy\n",
    "l1 = [[1, 2], [3, 4], [5, 6]]\n",
    "l2 = copy.copy(l1)\n",
    "l2[1] = 3\n",
    "print(f'l1={l1}, l2={l2}')"
   ]
  },
  {
   "cell_type": "code",
   "execution_count": 20,
   "id": "fcf8ea39-eb01-4cbd-815c-87c0323991b3",
   "metadata": {},
   "outputs": [
    {
     "name": "stdout",
     "output_type": "stream",
     "text": [
      "l1=[[1, 2], [3, 10], [5, 6]], l2=[[1, 2], [3, 10], [5, 6]]\n"
     ]
    }
   ],
   "source": [
    "l1 = [[1, 2], [3, 4], [5, 6]]\n",
    "l2 = copy.copy(l1)\n",
    "l2[1][1] = 10\n",
    "print(f'l1={l1}, l2={l2}')"
   ]
  },
  {
   "cell_type": "code",
   "execution_count": 21,
   "id": "207f4fb9-3915-415f-a6db-70d67935580c",
   "metadata": {},
   "outputs": [
    {
     "name": "stdout",
     "output_type": "stream",
     "text": [
      "l1=[[1, 2], [3, 4], [5, 6]], l2=[[1, 2], [10, 4], [5, 6]]\n"
     ]
    }
   ],
   "source": [
    "# Using deepcopy() and modifying the most inner list:\n",
    "l1 = [[1, 2], [3, 4], [5, 6]]\n",
    "l2 = copy.deepcopy(l1)\n",
    "l2[1][0] = 10\n",
    "print(f'l1={l1}, l2={l2}')"
   ]
  },
  {
   "cell_type": "code",
   "execution_count": 22,
   "id": "189b6c6d-318f-4ccd-9791-7c47570e9cfe",
   "metadata": {},
   "outputs": [
    {
     "name": "stdout",
     "output_type": "stream",
     "text": [
      "l1=[[1, 2], [3, 4], [5, 6]], l2=[[1, 2], 10, [5, 6]]\n"
     ]
    }
   ],
   "source": [
    "# Using deepcopy() and modifying the most inner list:\n",
    "l1 = [[1, 2], [3, 4], [5, 6]]\n",
    "l2 = copy.deepcopy(l1)\n",
    "l2[1] = 10\n",
    "print(f'l1={l1}, l2={l2}')"
   ]
  },
  {
   "cell_type": "code",
   "execution_count": 23,
   "id": "4b8c9f96-738d-4b1f-a265-cd27cfaa703a",
   "metadata": {},
   "outputs": [
    {
     "name": "stdout",
     "output_type": "stream",
     "text": [
      "a.dtype = int64\n",
      "a.shape = (2, 3)\n",
      "a.size  = 6\n",
      "a.ndim  = 2\n"
     ]
    }
   ],
   "source": [
    "points = np.array([[ 0,  1, 2],\n",
    "                   [ 3,  4, 5]])\n",
    "\n",
    "print('a.dtype = {}'.format(points.dtype))\n",
    "print('a.shape = {}'.format(points.shape))\n",
    "print('a.size  = {}'.format(points.size))\n",
    "print('a.ndim  = {}'.format(points.ndim))"
   ]
  },
  {
   "cell_type": "code",
   "execution_count": 24,
   "id": "66e25785-a9ac-4f1b-ade3-269d41191be9",
   "metadata": {},
   "outputs": [],
   "source": [
    "a = np.random.randint(low=1, high=100, size=100000)\n",
    "\n",
    "def explicit_loop_for_inverse(array):\n",
    "    res = []\n",
    "    for a in array:\n",
    "        res.append(1./a)\n",
    "    return np.array(res)"
   ]
  },
  {
   "cell_type": "code",
   "execution_count": 25,
   "id": "8169c521-8a98-49e3-a6d7-dc363a007c99",
   "metadata": {},
   "outputs": [
    {
     "name": "stdout",
     "output_type": "stream",
     "text": [
      "62.2 ms ± 115 μs per loop (mean ± std. dev. of 7 runs, 10 loops each)\n"
     ]
    }
   ],
   "source": [
    "%timeit explicit_loop_for_inverse(a)"
   ]
  },
  {
   "cell_type": "code",
   "execution_count": 26,
   "id": "06e9519e-e560-4cc7-b989-bd3c1043b7df",
   "metadata": {},
   "outputs": [
    {
     "name": "stdout",
     "output_type": "stream",
     "text": [
      "61.8 μs ± 376 ns per loop (mean ± std. dev. of 7 runs, 10,000 loops each)\n"
     ]
    }
   ],
   "source": [
    "%timeit 1/a"
   ]
  },
  {
   "cell_type": "code",
   "execution_count": 27,
   "id": "ac4781c0-f29e-4aab-b33c-22cb32f77715",
   "metadata": {},
   "outputs": [
    {
     "name": "stdout",
     "output_type": "stream",
     "text": [
      "56.5 ms ± 224 μs per loop (mean ± std. dev. of 7 runs, 10 loops each)\n"
     ]
    }
   ],
   "source": [
    "# Using list comprehension\n",
    "%timeit [1./x for x in a]"
   ]
  },
  {
   "cell_type": "code",
   "execution_count": 28,
   "id": "c05ac732-0f12-4e9a-a204-1f53c58bb70d",
   "metadata": {},
   "outputs": [
    {
     "name": "stdout",
     "output_type": "stream",
     "text": [
      "a        : [75 78 20]\n",
      "a^2      : [5625 6084  400]\n",
      "a/(1-a^a): [-3.07938233e-17  7.80000000e+01  9.51729109e-18]\n",
      "cos(a)   : [ 0.92175127 -0.85780309  0.40808206]\n",
      "exp(a)   : [3.73324200e+32 7.49841700e+33 4.85165195e+08]\n"
     ]
    }
   ],
   "source": [
    "a = np.random.randint(low=1, high=100, size=3)\n",
    "print('a        : {}'.format(a))\n",
    "print('a^2      : {}'.format(a**2))\n",
    "print('a/(1-a^a): {}'.format(a/(1-a**a)))\n",
    "print('cos(a)   : {}'.format(np.cos(a)))\n",
    "print('exp(a)   : {}'.format(np.exp(a)))"
   ]
  },
  {
   "cell_type": "code",
   "execution_count": 29,
   "id": "65c1b616-77d9-44f8-8425-d8032545fcac",
   "metadata": {},
   "outputs": [],
   "source": [
    "a = np.random.randint(low=1, high=100, size=100000)"
   ]
  },
  {
   "cell_type": "code",
   "execution_count": 30,
   "id": "25ba4f39-c705-4b4e-91db-2886e45e0939",
   "metadata": {},
   "outputs": [
    {
     "name": "stdout",
     "output_type": "stream",
     "text": [
      "3.04 ms ± 30.5 μs per loop (mean ± std. dev. of 7 runs, 100 loops each)\n"
     ]
    }
   ],
   "source": [
    "%timeit sum(a)"
   ]
  },
  {
   "cell_type": "code",
   "execution_count": 31,
   "id": "caff3233-51a6-4c0b-8f17-6366775b1581",
   "metadata": {},
   "outputs": [
    {
     "name": "stdout",
     "output_type": "stream",
     "text": [
      "10 μs ± 140 ns per loop (mean ± std. dev. of 7 runs, 100,000 loops each)\n"
     ]
    }
   ],
   "source": [
    "%timeit np.sum(a)"
   ]
  },
  {
   "cell_type": "code",
   "execution_count": 32,
   "id": "2e8ef777-86ea-4d4b-8102-d67fed0d0a95",
   "metadata": {},
   "outputs": [
    {
     "name": "stdout",
     "output_type": "stream",
     "text": [
      "[[60 28 31]\n",
      " [90 13 74]\n",
      " [73 47  2]\n",
      " [24 39 27]\n",
      " [80  3  7]]\n"
     ]
    }
   ],
   "source": [
    "# Generate 5 vectors (x,y,z)\n",
    "positions = np.random.randint(low=1, high=100, size=(5, 3))\n",
    "\n",
    "print(positions)"
   ]
  },
  {
   "cell_type": "code",
   "execution_count": 34,
   "id": "ade10c79-2414-49de-b1c9-02ca9de20fff",
   "metadata": {},
   "outputs": [
    {
     "name": "stdout",
     "output_type": "stream",
     "text": [
      "[ 73.10950691 117.23907199  86.84468896  53.16013544  80.36168241]\n"
     ]
    }
   ],
   "source": [
    "distances = np.sum(positions**2, axis=1)**0.5\n",
    "print(distances)"
   ]
  },
  {
   "cell_type": "code",
   "execution_count": 35,
   "id": "aa6925a6-189b-429c-a758-c851d8de5dfb",
   "metadata": {},
   "outputs": [
    {
     "name": "stdout",
     "output_type": "stream",
     "text": [
      "a = [82 12 60 86 42 93 81 74 21 74]\n",
      "a[2] = 60\n",
      "a[-1] = 74\n",
      "a[[1, 2, 5]] = [12 60 93]\n"
     ]
    }
   ],
   "source": [
    "a = np.random.randint(low=1, high=100, size=10)\n",
    "print('a = {}'.format(a))\n",
    "print('a[2] = {}'.format(a[2]))\n",
    "print('a[-1] = {}'.format(a[-1]))\n",
    "print('a[[1, 2, 5]] = {}'.format(a[[1, 2, 5]]))"
   ]
  },
  {
   "cell_type": "code",
   "execution_count": 36,
   "id": "212f7bc3-15ad-4c25-99ac-bca66f77530b",
   "metadata": {},
   "outputs": [
    {
     "name": "stdout",
     "output_type": "stream",
     "text": [
      "indices =\n",
      " [[0 1]\n",
      " [2 3]\n",
      " [4 5]]\n",
      "a[indices] =\n",
      " [[82 12]\n",
      " [60 86]\n",
      " [42 93]]\n"
     ]
    }
   ],
   "source": [
    "# Small n-dimensional indices array: 3 arrays of 2 elements\n",
    "indices = np.arange(6).reshape(3,2)\n",
    "print('indices =\\n {}'.format(indices))\n",
    "print('a[indices] =\\n {}'.format(a[indices]))"
   ]
  },
  {
   "cell_type": "code",
   "execution_count": 37,
   "id": "b4159cc6-4a81-458a-9181-0535711b8bbb",
   "metadata": {},
   "outputs": [
    {
     "name": "stdout",
     "output_type": "stream",
     "text": [
      "a = \n",
      "[[[27 68 81]\n",
      "  [43 14 12]]\n",
      "\n",
      " [[52 76 25]\n",
      "  [98 51 96]]\n",
      "\n",
      " [[96 32 76]\n",
      "  [14 18 90]]\n",
      "\n",
      " [[41 73 86]\n",
      "  [54 38 50]]\n",
      "\n",
      " [[75 46 68]\n",
      "  [21 22 43]]]\n"
     ]
    }
   ],
   "source": [
    "a = np.random.randint(low=0, high=100, size=(5, 2, 3))\n",
    "print('a = \\n{}'.format(a))"
   ]
  },
  {
   "cell_type": "code",
   "execution_count": 39,
   "id": "d88bb999-44d0-414b-a7eb-2bf4cf988cd9",
   "metadata": {},
   "outputs": [
    {
     "name": "stdout",
     "output_type": "stream",
     "text": [
      "(5, 3)\n"
     ]
    }
   ],
   "source": [
    "# Option 1: simple case w/ same masses\n",
    "b = 1/2 * np.sum(a, axis=1)\n",
    "print(b.shape)"
   ]
  },
  {
   "cell_type": "code",
   "execution_count": 42,
   "id": "561a36cb-89de-4af1-a318-c76035cbeb25",
   "metadata": {},
   "outputs": [
    {
     "ename": "ValueError",
     "evalue": "operands could not be broadcast together with shapes (5,2,3) (2,) ",
     "output_type": "error",
     "traceback": [
      "\u001b[0;31m---------------------------------------------------------------------------\u001b[0m",
      "\u001b[0;31mValueError\u001b[0m                                Traceback (most recent call last)",
      "Cell \u001b[0;32mIn[42], line 5\u001b[0m\n\u001b[1;32m      1\u001b[0m \u001b[38;5;66;03m# Option 2: general case w/ different masses\u001b[39;00m\n\u001b[1;32m      2\u001b[0m \u001b[38;5;66;03m# The generated error will be solved after \u001b[39;00m\n\u001b[1;32m      3\u001b[0m \u001b[38;5;66;03m# discussing broadcasting\u001b[39;00m\n\u001b[1;32m      4\u001b[0m ms \u001b[38;5;241m=\u001b[39m np\u001b[38;5;241m.\u001b[39marray([\u001b[38;5;241m10\u001b[39m, \u001b[38;5;241m2\u001b[39m])\n\u001b[0;32m----> 5\u001b[0m b \u001b[38;5;241m=\u001b[39m \u001b[38;5;241m1\u001b[39m\u001b[38;5;241m/\u001b[39mms\u001b[38;5;241m.\u001b[39msum() \u001b[38;5;241m*\u001b[39m np\u001b[38;5;241m.\u001b[39msum(\u001b[43ma\u001b[49m\u001b[38;5;241;43m*\u001b[39;49m\u001b[43mms\u001b[49m, axis\u001b[38;5;241m=\u001b[39m\u001b[38;5;241m1\u001b[39m)\n\u001b[1;32m      6\u001b[0m \u001b[38;5;28mprint\u001b[39m(b\u001b[38;5;241m.\u001b[39mshape)\n",
      "\u001b[0;31mValueError\u001b[0m: operands could not be broadcast together with shapes (5,2,3) (2,) "
     ]
    }
   ],
   "source": [
    "# Option 2: general case w/ different masses\n",
    "# The generated error will be solved after \n",
    "# discussing broadcasting\n",
    "ms = np.array([10, 2])\n",
    "b = 1/ms.sum() * np.sum(a*ms, axis=1)\n",
    "print(b.shape)"
   ]
  },
  {
   "cell_type": "code",
   "execution_count": 45,
   "id": "6e32a264-946b-47a8-8350-e1d8af5e19e8",
   "metadata": {},
   "outputs": [
    {
     "name": "stdout",
     "output_type": "stream",
     "text": [
      "[[29.66666667 59.         69.5       ]\n",
      " [59.66666667 71.83333333 36.83333333]\n",
      " [82.33333333 29.66666667 78.33333333]\n",
      " [43.16666667 67.16666667 80.        ]\n",
      " [66.         42.         63.83333333]]\n"
     ]
    }
   ],
   "source": [
    "# Option 2: general case w/ different masses\n",
    "# without broadcasting\n",
    "m1, m2 = 10, 2\n",
    "b = (m1*a[:, 0, :] + m2*a[:, 1, :]) / (m1+m2)\n",
    "print(b)"
   ]
  },
  {
   "cell_type": "code",
   "execution_count": 44,
   "id": "aebe8c08-2f31-4bd8-90db-283afbfe26d3",
   "metadata": {},
   "outputs": [
    {
     "name": "stdout",
     "output_type": "stream",
     "text": [
      "[89.06739022 88.21564487 84.35638684 51.86520992 64.16385275]\n"
     ]
    }
   ],
   "source": [
    "# Relative distance between objects\n",
    "distances = np.sum( (a[:, 0, :] - a[:, 1, :])**2, axis=1 )**0.5\n",
    "print(distances)"
   ]
  },
  {
   "cell_type": "code",
   "execution_count": 46,
   "id": "53875310-e41f-4297-85be-e0f8c188896c",
   "metadata": {},
   "outputs": [
    {
     "name": "stdout",
     "output_type": "stream",
     "text": [
      "[[[75 46 68]\n",
      "  [21 22 43]]\n",
      "\n",
      " [[41 73 86]\n",
      "  [54 38 50]]\n",
      "\n",
      " [[96 32 76]\n",
      "  [14 18 90]]\n",
      "\n",
      " [[52 76 25]\n",
      "  [98 51 96]]\n",
      "\n",
      " [[27 68 81]\n",
      "  [43 14 12]]]\n"
     ]
    }
   ],
   "source": [
    "# Reverse in time the data\n",
    "a_rev = a[::-1]\n",
    "print(a_rev)"
   ]
  },
  {
   "cell_type": "code",
   "execution_count": 53,
   "id": "88cdfef2-d1e1-4314-a20f-39216b620233",
   "metadata": {},
   "outputs": [
    {
     "name": "stdout",
     "output_type": "stream",
     "text": [
      "(4, 2, 3)\n"
     ]
    }
   ],
   "source": [
    "# Seed of each system: v1= dr1/dt and same for system 2,\n",
    "# assuming dt between two obs is 1ms\n",
    "# NO EXTERNAL tools allowed - just use numpy\n",
    "velocities = (a[1:, ...] - a[:-1, ...]) / 1e-3\n",
    "print(velocities.shape)"
   ]
  },
  {
   "cell_type": "code",
   "execution_count": 52,
   "id": "5c9058a5-87c9-40c3-a7af-84fc9e4141d3",
   "metadata": {},
   "outputs": [
    {
     "name": "stdout",
     "output_type": "stream",
     "text": [
      "[[27 43]\n",
      " [52 98]\n",
      " [96 14]\n",
      " [41 54]\n",
      " [75 21]]\n"
     ]
    }
   ],
   "source": [
    "print(a[..., 0])"
   ]
  },
  {
   "cell_type": "code",
   "execution_count": 54,
   "id": "9c7e3c01-407b-4047-89fc-0cfba2f8fd79",
   "metadata": {},
   "outputs": [
    {
     "name": "stdout",
     "output_type": "stream",
     "text": [
      "a = \n",
      "[[ -6   8  78]\n",
      " [-50 -58 -40]\n",
      " [-14 -52 -59]\n",
      " [-95  94 -80]\n",
      " [ 21 -84   3]]\n",
      "\n",
      "mask = \n",
      " [[False  True  True]\n",
      " [False False False]\n",
      " [False False False]\n",
      " [False  True False]\n",
      " [ True False  True]]\n"
     ]
    }
   ],
   "source": [
    "a = np.random.randint(low=-100, high=100, size=(5, 3))\n",
    "mask = a>0\n",
    "print('a = \\n{}'.format(a))\n",
    "print('\\nmask = \\n {}'.format(mask))"
   ]
  },
  {
   "cell_type": "code",
   "execution_count": 55,
   "id": "110146d7-9fe4-4ca1-9b72-08fa0960c455",
   "metadata": {},
   "outputs": [
    {
     "name": "stdout",
     "output_type": "stream",
     "text": [
      "[[  -6   64 6084]\n",
      " [ -50  -58  -40]\n",
      " [ -14  -52  -59]\n",
      " [ -95 8836  -80]\n",
      " [ 441  -84    9]]\n"
     ]
    }
   ],
   "source": [
    "a[mask] = a[mask]**2\n",
    "print(a)"
   ]
  },
  {
   "cell_type": "code",
   "execution_count": 57,
   "id": "b29ba582-0623-4813-a5b3-a2da14685f4f",
   "metadata": {},
   "outputs": [
    {
     "data": {
      "text/plain": [
       "array([  64, 6084, 8836,  441,    9])"
      ]
     },
     "execution_count": 57,
     "metadata": {},
     "output_type": "execute_result"
    }
   ],
   "source": [
    "a[mask]"
   ]
  },
  {
   "cell_type": "code",
   "execution_count": 58,
   "id": "04c38984-d346-4c99-b9b6-f899d058e07f",
   "metadata": {},
   "outputs": [
    {
     "data": {
      "text/plain": [
       "array([[   0,   64, 6084],\n",
       "       [   0,    0,    0],\n",
       "       [   0,    0,    0],\n",
       "       [   0, 8836,    0],\n",
       "       [ 441,    0,    9]])"
      ]
     },
     "execution_count": 58,
     "metadata": {},
     "output_type": "execute_result"
    }
   ],
   "source": [
    "a*mask"
   ]
  },
  {
   "cell_type": "code",
   "execution_count": 59,
   "id": "be5e42d7-4531-4827-8e8e-3620d172f917",
   "metadata": {},
   "outputs": [
    {
     "data": {
      "text/plain": [
       "array([[ True, False, False],\n",
       "       [ True,  True,  True],\n",
       "       [ True,  True,  True],\n",
       "       [ True, False,  True],\n",
       "       [False,  True, False]])"
      ]
     },
     "execution_count": 59,
     "metadata": {},
     "output_type": "execute_result"
    }
   ],
   "source": [
    "~mask"
   ]
  },
  {
   "cell_type": "code",
   "execution_count": 60,
   "id": "4e0a8bd8-6340-4bae-b6d2-18f4047ac552",
   "metadata": {},
   "outputs": [
    {
     "name": "stdout",
     "output_type": "stream",
     "text": [
      "points:\n",
      " [[-0.66056538  0.33515651]\n",
      " [ 2.24836945 -1.75934133]\n",
      " [-0.42711169  0.03474087]]\n",
      "\n",
      "points+d0:\n",
      " [[0.33943462 4.33515651]\n",
      " [3.24836945 2.24065867]\n",
      " [0.57288831 4.03474087]]\n"
     ]
    }
   ],
   "source": [
    "# Translating 3 2D vectors by d0=(1,4)\n",
    "points = np.random.normal(size=(3, 2))\n",
    "d0 = np.array([1, 4])\n",
    "print('points:\\n {}\\n'.format(points))\n",
    "print('points+d0:\\n {}'.format(points+d0))"
   ]
  },
  {
   "cell_type": "code",
   "execution_count": 62,
   "id": "eb0b7e99-f903-48ea-ac96-4eaeae440239",
   "metadata": {},
   "outputs": [
    {
     "ename": "ValueError",
     "evalue": "operands could not be broadcast together with shapes (2,5) (2,) ",
     "output_type": "error",
     "traceback": [
      "\u001b[0;31m---------------------------------------------------------------------------\u001b[0m",
      "\u001b[0;31mValueError\u001b[0m                                Traceback (most recent call last)",
      "Cell \u001b[0;32mIn[62], line 3\u001b[0m\n\u001b[1;32m      1\u001b[0m a \u001b[38;5;241m=\u001b[39m np\u001b[38;5;241m.\u001b[39marange(\u001b[38;5;241m10\u001b[39m)\u001b[38;5;241m.\u001b[39mreshape(\u001b[38;5;241m2\u001b[39m,\u001b[38;5;241m5\u001b[39m)\n\u001b[1;32m      2\u001b[0m b \u001b[38;5;241m=\u001b[39m np\u001b[38;5;241m.\u001b[39marray([\u001b[38;5;241m10\u001b[39m, \u001b[38;5;241m20\u001b[39m])\n\u001b[0;32m----> 3\u001b[0m \u001b[43ma\u001b[49m\u001b[38;5;241;43m+\u001b[39;49m\u001b[43mb\u001b[49m\n",
      "\u001b[0;31mValueError\u001b[0m: operands could not be broadcast together with shapes (2,5) (2,) "
     ]
    }
   ],
   "source": [
    "a = np.arange(10).reshape(2,5)\n",
    "b = np.array([10, 20])\n",
    "a+b"
   ]
  },
  {
   "cell_type": "code",
   "execution_count": 66,
   "id": "bfd03955-0b45-4a62-ab4e-8e7d6bcad6a5",
   "metadata": {},
   "outputs": [
    {
     "name": "stdout",
     "output_type": "stream",
     "text": [
      "(2, 1)\n",
      "(2,)\n"
     ]
    }
   ],
   "source": [
    "print(b[:,np.newaxis].shape)\n",
    "print(b.shape)"
   ]
  },
  {
   "cell_type": "code",
   "execution_count": 67,
   "id": "fa7abd85-8077-48f7-982a-10c18cfbfbff",
   "metadata": {},
   "outputs": [
    {
     "data": {
      "text/plain": [
       "array([[10, 11, 12, 13, 14],\n",
       "       [25, 26, 27, 28, 29]])"
      ]
     },
     "execution_count": 67,
     "metadata": {},
     "output_type": "execute_result"
    }
   ],
   "source": [
    "a+b[:,np.newaxis]"
   ]
  },
  {
   "cell_type": "code",
   "execution_count": 68,
   "id": "239d00bf-8dba-4bf4-a635-1d2d869c43bc",
   "metadata": {},
   "outputs": [
    {
     "name": "stdout",
     "output_type": "stream",
     "text": [
      "[[10]\n",
      " [20]]\n"
     ]
    }
   ],
   "source": [
    "print(b[:,np.newaxis])"
   ]
  },
  {
   "cell_type": "code",
   "execution_count": 70,
   "id": "df941d0d-c571-496e-ba1b-f4198bc56116",
   "metadata": {},
   "outputs": [
    {
     "ename": "ValueError",
     "evalue": "operands could not be broadcast together with shapes (5,2,3) (2,) ",
     "output_type": "error",
     "traceback": [
      "\u001b[0;31m---------------------------------------------------------------------------\u001b[0m",
      "\u001b[0;31mValueError\u001b[0m                                Traceback (most recent call last)",
      "Cell \u001b[0;32mIn[70], line 3\u001b[0m\n\u001b[1;32m      1\u001b[0m a \u001b[38;5;241m=\u001b[39m np\u001b[38;5;241m.\u001b[39mrandom\u001b[38;5;241m.\u001b[39mrandint(low\u001b[38;5;241m=\u001b[39m\u001b[38;5;241m0\u001b[39m, high\u001b[38;5;241m=\u001b[39m\u001b[38;5;241m100\u001b[39m, size\u001b[38;5;241m=\u001b[39m(\u001b[38;5;241m5\u001b[39m, \u001b[38;5;241m2\u001b[39m, \u001b[38;5;241m3\u001b[39m))\n\u001b[1;32m      2\u001b[0m ms \u001b[38;5;241m=\u001b[39m np\u001b[38;5;241m.\u001b[39marray([\u001b[38;5;241m10\u001b[39m, \u001b[38;5;241m2\u001b[39m])\n\u001b[0;32m----> 3\u001b[0m b \u001b[38;5;241m=\u001b[39m \u001b[38;5;241m1\u001b[39m\u001b[38;5;241m/\u001b[39mms\u001b[38;5;241m.\u001b[39msum() \u001b[38;5;241m*\u001b[39m np\u001b[38;5;241m.\u001b[39msum(\u001b[43ma\u001b[49m\u001b[38;5;241;43m*\u001b[39;49m\u001b[43mms\u001b[49m, axis\u001b[38;5;241m=\u001b[39m\u001b[38;5;241m1\u001b[39m)\n\u001b[1;32m      4\u001b[0m \u001b[38;5;28mprint\u001b[39m(b\u001b[38;5;241m.\u001b[39mshape)\n",
      "\u001b[0;31mValueError\u001b[0m: operands could not be broadcast together with shapes (5,2,3) (2,) "
     ]
    }
   ],
   "source": [
    "a = np.random.randint(low=0, high=100, size=(5, 2, 3))\n",
    "ms = np.array([10, 2])\n",
    "b = 1/ms.sum() * np.sum(a*ms, axis=1)\n",
    "print(b.shape)"
   ]
  },
  {
   "cell_type": "code",
   "execution_count": 75,
   "id": "9ae8ff69-2834-46d6-abad-43bd693d82f1",
   "metadata": {},
   "outputs": [
    {
     "name": "stdout",
     "output_type": "stream",
     "text": [
      "(5, 3) (5, 3)\n"
     ]
    }
   ],
   "source": [
    "ms = np.array([10, 2])\n",
    "ms1 = ms[np.newaxis, :, np.newaxis ]\n",
    "ms2 = ms[:, np.newaxis ]\n",
    "b1 = 1/ms1.sum() * np.sum(a*ms1, axis=1)\n",
    "b2 = 1/ms2.sum() * np.sum(a*ms2, axis=1)\n",
    "print(b1.shape, b2.shape)"
   ]
  },
  {
   "cell_type": "code",
   "execution_count": null,
   "id": "57749b9c-b785-49ea-b45a-404dd0ce6a50",
   "metadata": {},
   "outputs": [],
   "source": []
  },
  {
   "cell_type": "code",
   "execution_count": null,
   "id": "3d70ebdf-067b-45db-afb3-05532209e1cf",
   "metadata": {},
   "outputs": [],
   "source": []
  },
  {
   "cell_type": "code",
   "execution_count": null,
   "id": "cdfced55-4fae-4d67-bd10-f15a01bacdfd",
   "metadata": {},
   "outputs": [],
   "source": []
  }
 ],
 "metadata": {
  "kernelspec": {
   "display_name": "Python 3 (ipykernel)",
   "language": "python",
   "name": "python3"
  },
  "language_info": {
   "codemirror_mode": {
    "name": "ipython",
    "version": 3
   },
   "file_extension": ".py",
   "mimetype": "text/x-python",
   "name": "python",
   "nbconvert_exporter": "python",
   "pygments_lexer": "ipython3",
   "version": "3.10.17"
  }
 },
 "nbformat": 4,
 "nbformat_minor": 5
}
