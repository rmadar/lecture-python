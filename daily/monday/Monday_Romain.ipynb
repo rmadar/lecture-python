{
 "cells": [
  {
   "cell_type": "code",
   "execution_count": 1,
   "id": "fcdbc0ff-bf3b-4213-85b2-bcc481082745",
   "metadata": {},
   "outputs": [
    {
     "name": "stdout",
     "output_type": "stream",
     "text": [
      "(-1+0j)\n"
     ]
    }
   ],
   "source": [
    "a = 3\n",
    "b = 3.2\n",
    "c = 1j\n",
    "print(c**2)"
   ]
  },
  {
   "cell_type": "code",
   "execution_count": 2,
   "id": "9f1a35d7-ada3-4c0f-b953-5b57ba64b56e",
   "metadata": {},
   "outputs": [],
   "source": [
    "word = 'hello'"
   ]
  },
  {
   "cell_type": "code",
   "execution_count": 3,
   "id": "128257d4-1651-44cb-a7bc-4dce7ad08f84",
   "metadata": {},
   "outputs": [
    {
     "name": "stdout",
     "output_type": "stream",
     "text": [
      "l\n",
      "Jello\n"
     ]
    }
   ],
   "source": [
    "print(word[2]), \n",
    "w2 = word.replace('h', 'J')\n",
    "print(w2)"
   ]
  },
  {
   "cell_type": "code",
   "execution_count": 4,
   "id": "c6a6f1a5-2011-4bdd-8b80-483b6de74f07",
   "metadata": {},
   "outputs": [
    {
     "name": "stdout",
     "output_type": "stream",
     "text": [
      "Jello World\n"
     ]
    }
   ],
   "source": [
    "w3 = ' '\n",
    "w4 = 'World'\n",
    "print(w2+w3+w4)"
   ]
  },
  {
   "cell_type": "code",
   "execution_count": 5,
   "id": "fe36a972-b03a-4f74-9970-e300707cadc3",
   "metadata": {},
   "outputs": [
    {
     "name": "stdout",
     "output_type": "stream",
     "text": [
      "['It', 'is', 'rainy', 'today']\n"
     ]
    }
   ],
   "source": [
    "# Get a list of words from a sentence (cf. below for list objects)\n",
    "s = 'It is rainy today'\n",
    "list_words = s.split(' ')\n",
    "print(list_words)"
   ]
  },
  {
   "cell_type": "code",
   "execution_count": 6,
   "id": "23abf820-c293-4322-a322-d43efcdc9905",
   "metadata": {},
   "outputs": [
    {
     "data": {
      "text/plain": [
       "4"
      ]
     },
     "execution_count": 6,
     "metadata": {},
     "output_type": "execute_result"
    }
   ],
   "source": [
    "len(list_words)"
   ]
  },
  {
   "cell_type": "code",
   "execution_count": 7,
   "id": "5607d01b-ed53-4e43-b1d7-8f10a0bccfca",
   "metadata": {},
   "outputs": [
    {
     "data": {
      "text/plain": [
       "17"
      ]
     },
     "execution_count": 7,
     "metadata": {},
     "output_type": "execute_result"
    }
   ],
   "source": [
    "len(s)"
   ]
  },
  {
   "cell_type": "code",
   "execution_count": 8,
   "id": "e2c6c91a-570b-4764-8704-98874f76eb23",
   "metadata": {
    "scrolled": true
   },
   "outputs": [
    {
     "name": "stdout",
     "output_type": "stream",
     "text": [
      "I\n",
      "t\n",
      " \n",
      "i\n",
      "s\n",
      " \n",
      "r\n",
      "a\n",
      "i\n",
      "n\n",
      "y\n",
      " \n",
      "t\n",
      "o\n",
      "d\n",
      "a\n",
      "y\n"
     ]
    }
   ],
   "source": [
    "for letter in s:\n",
    "    print(letter)"
   ]
  },
  {
   "cell_type": "code",
   "execution_count": 9,
   "id": "629a618a-45ce-4c4a-9735-79760e9030a1",
   "metadata": {},
   "outputs": [
    {
     "name": "stdout",
     "output_type": "stream",
     "text": [
      "True\n"
     ]
    }
   ],
   "source": [
    "s = 'It is rainy today'\n",
    "check = 'a' in s\n",
    "print(check)"
   ]
  },
  {
   "cell_type": "code",
   "execution_count": 10,
   "id": "28e87c83-f44e-4a2f-b234-70dd5c3b02dc",
   "metadata": {},
   "outputs": [
    {
     "name": "stdout",
     "output_type": "stream",
     "text": [
      "Second element is 3\n",
      "Number of elements: 4\n",
      "Is 'banana' in the list? True\n",
      "[1, 3, 4, 'banana', 'string', (1+3j), [100, 1000]]\n"
     ]
    }
   ],
   "source": [
    "# Defining a list and access basic information\n",
    "my_list1 = [1, 3, 4, 'banana']\n",
    "print('Second element is {}'.format(my_list1[1]))\n",
    "print('Number of elements: {}'.format(len(my_list1)))\n",
    "print('Is \\'banana\\' in the list? {}'.format('banana' in my_list1))\n",
    "\n",
    "# Sum of two lists\n",
    "my_list2 = ['string', 1+3j, [100, 1000]]\n",
    "my_list = my_list1 + my_list2\n",
    "print(my_list)"
   ]
  },
  {
   "cell_type": "code",
   "execution_count": 11,
   "id": "1c972ce4-af2b-4f2c-88b7-cdbd261763d2",
   "metadata": {},
   "outputs": [
    {
     "ename": "TypeError",
     "evalue": "can't multiply sequence by non-int of type 'list'",
     "output_type": "error",
     "traceback": [
      "\u001b[0;31m---------------------------------------------------------------------------\u001b[0m",
      "\u001b[0;31mTypeError\u001b[0m                                 Traceback (most recent call last)",
      "Cell \u001b[0;32mIn[11], line 1\u001b[0m\n\u001b[0;32m----> 1\u001b[0m my_list \u001b[38;5;241m=\u001b[39m \u001b[43mmy_list1\u001b[49m\u001b[43m \u001b[49m\u001b[38;5;241;43m*\u001b[39;49m\u001b[43m \u001b[49m\u001b[43mmy_list2\u001b[49m\n",
      "\u001b[0;31mTypeError\u001b[0m: can't multiply sequence by non-int of type 'list'"
     ]
    }
   ],
   "source": [
    "my_list = my_list1 * my_list2"
   ]
  },
  {
   "cell_type": "code",
   "execution_count": 12,
   "id": "93e20fae-ea64-4e4a-97be-96a871178a73",
   "metadata": {},
   "outputs": [
    {
     "name": "stdout",
     "output_type": "stream",
     "text": [
      "(1, 3, 7)\n",
      "7\n",
      "Impossible to change the value of a tuple\n"
     ]
    }
   ],
   "source": [
    "# Tuple\n",
    "t = (1, 3, 7)\n",
    "print(t)\n",
    "\n",
    "# Access the third element\n",
    "print(t[2])\n",
    "\n",
    "# Try to modify the second element - using the 'try - except' synthax\n",
    "try: \n",
    "    t[1] = 'hello'\n",
    "except TypeError:\n",
    "    print('Impossible to change the value of a tuple')\n"
   ]
  },
  {
   "cell_type": "code",
   "execution_count": 13,
   "id": "41967e0e-dff7-4080-bf34-b03f8af3231c",
   "metadata": {},
   "outputs": [
    {
     "name": "stdout",
     "output_type": "stream",
     "text": [
      "{'banana', 'orange', 'apple'}\n",
      "{'banana', 'orange', 'apple', 'pineapple'}\n",
      "{'prune', 'pear', 'apple', 'banana', 'pineapple', 'orange'}\n"
     ]
    }
   ],
   "source": [
    "# Set\n",
    "s = {'apple', 'banana', 'orange'}\n",
    "print(s)\n",
    "\n",
    "# Add one element\n",
    "s.add('pineapple')\n",
    "print(s)\n",
    "\n",
    "# Add a list\n",
    "s.update(['pear', 'prune'])\n",
    "print(s)"
   ]
  },
  {
   "cell_type": "code",
   "execution_count": 14,
   "id": "d437d27b-34f7-4ff8-acbc-cb596b4313aa",
   "metadata": {},
   "outputs": [
    {
     "name": "stdout",
     "output_type": "stream",
     "text": [
      "{'name': 'Charles', 'age': 78, 'size': 173, 'gender': 'M'}\n"
     ]
    }
   ],
   "source": [
    "# dictionary\n",
    "person = {'name': 'Charles', 'age': 78, 'size': 173, 'gender': 'M'}\n",
    "print(person)"
   ]
  },
  {
   "cell_type": "code",
   "execution_count": 15,
   "id": "44edb885-7b1c-43f8-885d-9f4a9b7ce632",
   "metadata": {},
   "outputs": [
    {
     "ename": "KeyError",
     "evalue": "1",
     "output_type": "error",
     "traceback": [
      "\u001b[0;31m---------------------------------------------------------------------------\u001b[0m",
      "\u001b[0;31mKeyError\u001b[0m                                  Traceback (most recent call last)",
      "Cell \u001b[0;32mIn[15], line 1\u001b[0m\n\u001b[0;32m----> 1\u001b[0m \u001b[43mperson\u001b[49m\u001b[43m[\u001b[49m\u001b[38;5;241;43m1\u001b[39;49m\u001b[43m]\u001b[49m\n",
      "\u001b[0;31mKeyError\u001b[0m: 1"
     ]
    }
   ],
   "source": [
    "person[1]"
   ]
  },
  {
   "cell_type": "code",
   "execution_count": 16,
   "id": "f446cf8b-40a6-4719-b7b0-4533301fe9e0",
   "metadata": {},
   "outputs": [
    {
     "data": {
      "text/plain": [
       "'Charles'"
      ]
     },
     "execution_count": 16,
     "metadata": {},
     "output_type": "execute_result"
    }
   ],
   "source": [
    "person['name']"
   ]
  },
  {
   "cell_type": "code",
   "execution_count": 17,
   "id": "2fc16732-aecb-488d-a9c8-0b6350d7d733",
   "metadata": {},
   "outputs": [
    {
     "name": "stdout",
     "output_type": "stream",
     "text": [
      "4\n"
     ]
    }
   ],
   "source": [
    " print(len(person))"
   ]
  },
  {
   "cell_type": "code",
   "execution_count": 18,
   "id": "3fe644d5-9b23-4f72-bcdd-d764eea4f603",
   "metadata": {},
   "outputs": [
    {
     "name": "stdout",
     "output_type": "stream",
     "text": [
      "name Charles\n",
      "age 78\n",
      "size 173\n",
      "gender M\n"
     ]
    }
   ],
   "source": [
    "for k, v in person.items():\n",
    "    print(k, v)"
   ]
  },
  {
   "cell_type": "code",
   "execution_count": 19,
   "id": "44e3ef8f-2c26-433e-9e17-89ec5ea80aea",
   "metadata": {},
   "outputs": [
    {
     "name": "stdout",
     "output_type": "stream",
     "text": [
      "name Charles\n",
      "age 78\n",
      "size 173\n",
      "gender M\n"
     ]
    }
   ],
   "source": [
    "for k in person.keys():\n",
    "    print(k, person[k])"
   ]
  },
  {
   "cell_type": "code",
   "execution_count": 20,
   "id": "e92a88e1-81f1-45c0-ae92-c46d2c2d9f1c",
   "metadata": {},
   "outputs": [
    {
     "name": "stdout",
     "output_type": "stream",
     "text": [
      "['apple', 'banana']\n",
      "['apple']\n",
      "[]\n"
     ]
    }
   ],
   "source": [
    "s = ('apple', 'banana', 'orange')\n",
    "\n",
    "# Cast (ie change type) the set s into a list\n",
    "my_list = list(s)\n",
    "#my_list = s\n",
    "\n",
    "# Remove item one by one until there are no items left.\n",
    "while len(my_list)>0:\n",
    "    my_list.pop()\n",
    "    print(my_list)"
   ]
  },
  {
   "cell_type": "code",
   "execution_count": 21,
   "id": "216b7c98-a6fc-4cec-84df-14bca1ecec74",
   "metadata": {},
   "outputs": [
    {
     "name": "stdout",
     "output_type": "stream",
     "text": [
      "[1, 4, 9, 16, 25, 36, 49, 64, 81]\n",
      "{1: 1, 4: 16, 9: 81, 16: 256, 25: 625}\n"
     ]
    }
   ],
   "source": [
    "# List\n",
    "list_squares = [i**2 for i in range(1, 10)]\n",
    "print(list_squares)\n",
    "\n",
    "# dictionary\n",
    "dict_squares = {i:i**2 for i in list_squares[0:5]}\n",
    "print(dict_squares)"
   ]
  },
  {
   "cell_type": "code",
   "execution_count": 22,
   "id": "f20cab2f-1fcd-4015-97e9-061becef8ba6",
   "metadata": {},
   "outputs": [
    {
     "name": "stdout",
     "output_type": "stream",
     "text": [
      "[4, 16, 36, 64]\n"
     ]
    }
   ],
   "source": [
    "list_square_even = [i**2 for i in range(1, 10) if i**2%2==0]\n",
    "print(list_square_even)"
   ]
  },
  {
   "cell_type": "code",
   "execution_count": 23,
   "id": "2c4df9f6-75f1-40fe-8c1b-934446eb0264",
   "metadata": {},
   "outputs": [
    {
     "name": "stdout",
     "output_type": "stream",
     "text": [
      "[(1+0j), (1+1j), (1+2j), (1+3j), (1+4j), (4+0j), (4+1j), (4+2j), (4+3j), (4+4j), (9+0j), (9+1j), (9+2j), (9+3j), (9+4j), (16+0j), (16+1j), (16+2j), (16+3j), (16+4j), (25+0j), (25+1j), (25+2j), (25+3j), (25+4j), (36+0j), (36+1j), (36+2j), (36+3j), (36+4j), (49+0j), (49+1j), (49+2j), (49+3j), (49+4j), (64+0j), (64+1j), (64+2j), (64+3j), (64+4j), (81+0j), (81+1j), (81+2j), (81+3j), (81+4j)]\n"
     ]
    }
   ],
   "source": [
    "list_square_ij = [i**2+l*1j for i in range(1, 10) for l in range(0, 5)]\n",
    "print(list_square_ij)"
   ]
  },
  {
   "cell_type": "code",
   "execution_count": 24,
   "id": "80775378-70cc-4840-9f63-7c3eae6252c4",
   "metadata": {},
   "outputs": [
    {
     "name": "stdout",
     "output_type": "stream",
     "text": [
      "0 20 30\n",
      "1 21 31\n",
      "2 22 32\n",
      "3 23 33\n",
      "4 24 34\n",
      "5 25 35\n",
      "6 26 36\n",
      "7 27 37\n",
      "8 28 38\n",
      "9 29 39\n"
     ]
    }
   ],
   "source": [
    "l1, l2, l3 = range(0, 10), range(20, 30), range(30, 50)\n",
    "\n",
    "for a, b, c in zip(l1, l2, l3):\n",
    "    print(a, b, c)"
   ]
  },
  {
   "cell_type": "code",
   "execution_count": 25,
   "id": "95322959-aacd-4ac6-b7a3-11685971ecad",
   "metadata": {},
   "outputs": [
    {
     "name": "stdout",
     "output_type": "stream",
     "text": [
      "0 30\n",
      "1 31\n",
      "2 32\n",
      "3 33\n",
      "4 34\n",
      "5 35\n",
      "6 36\n",
      "7 37\n",
      "8 38\n",
      "9 39\n",
      "10 40\n",
      "11 41\n",
      "12 42\n",
      "13 43\n",
      "14 44\n",
      "15 45\n",
      "16 46\n",
      "17 47\n",
      "18 48\n",
      "19 49\n"
     ]
    }
   ],
   "source": [
    "for i, l in enumerate(l3):\n",
    "    print(i, l)"
   ]
  },
  {
   "cell_type": "code",
   "execution_count": 26,
   "id": "240f3258-8fc8-48ee-838e-a76d12f91299",
   "metadata": {},
   "outputs": [
    {
     "name": "stdout",
     "output_type": "stream",
     "text": [
      "0 20 30\n",
      "1 21 31\n",
      "2 22 32\n",
      "3 23 33\n",
      "4 24 34\n",
      "5 25 35\n",
      "6 26 36\n",
      "7 27 37\n",
      "8 28 38\n",
      "9 29 39\n"
     ]
    }
   ],
   "source": [
    "for i, (a, b) in enumerate(zip(l2, l3)):\n",
    "    print(i, a, b)"
   ]
  },
  {
   "cell_type": "code",
   "execution_count": 27,
   "id": "2467fc1c-cc59-43c5-974c-32636b060940",
   "metadata": {},
   "outputs": [
    {
     "name": "stdout",
     "output_type": "stream",
     "text": [
      "11\n"
     ]
    }
   ],
   "source": [
    "def FunctionName(x, y):\n",
    "    res = x+y**x\n",
    "    return res\n",
    "\n",
    "print(FunctionName(2, 3))"
   ]
  },
  {
   "cell_type": "code",
   "execution_count": 28,
   "id": "99616828-0849-4a7a-b519-2503353635ea",
   "metadata": {},
   "outputs": [
    {
     "data": {
      "text/plain": [
       "function"
      ]
     },
     "execution_count": 28,
     "metadata": {},
     "output_type": "execute_result"
    }
   ],
   "source": [
    "type(FunctionName)"
   ]
  },
  {
   "cell_type": "code",
   "execution_count": 29,
   "id": "ca473326-6764-4e87-a6cd-2131df1207a8",
   "metadata": {},
   "outputs": [
    {
     "data": {
      "text/plain": [
       "int"
      ]
     },
     "execution_count": 29,
     "metadata": {},
     "output_type": "execute_result"
    }
   ],
   "source": [
    "type(FunctionName(2, 3))"
   ]
  },
  {
   "cell_type": "code",
   "execution_count": 30,
   "id": "8434891b-3088-4bdd-bb09-d5c6c36095e1",
   "metadata": {},
   "outputs": [
    {
     "name": "stdout",
     "output_type": "stream",
     "text": [
      "{'name': 'Charles', 'age': 78, 'size': 173, 'gender': 'M'}\n"
     ]
    }
   ],
   "source": [
    "def grow_old(p):\n",
    "    p['age'] += 1\n",
    "    return\n",
    "print(person)"
   ]
  },
  {
   "cell_type": "code",
   "execution_count": 31,
   "id": "b1daa72e-c032-47eb-a6a7-ae54ef38b53a",
   "metadata": {},
   "outputs": [
    {
     "name": "stdout",
     "output_type": "stream",
     "text": [
      "{'name': 'Charles', 'age': 79, 'size': 173, 'gender': 'M'}\n"
     ]
    }
   ],
   "source": [
    "grow_old(person)\n",
    "print(person)"
   ]
  },
  {
   "cell_type": "code",
   "execution_count": 32,
   "id": "d7983d0e-c111-4efc-8075-1539722dfa2e",
   "metadata": {},
   "outputs": [
    {
     "data": {
      "text/plain": [
       "function"
      ]
     },
     "execution_count": 32,
     "metadata": {},
     "output_type": "execute_result"
    }
   ],
   "source": [
    "type(grow_old)"
   ]
  },
  {
   "cell_type": "code",
   "execution_count": 33,
   "id": "e2b53b5c-1a43-4f9a-b851-9056ade05fc2",
   "metadata": {},
   "outputs": [
    {
     "data": {
      "text/plain": [
       "NoneType"
      ]
     },
     "execution_count": 33,
     "metadata": {},
     "output_type": "execute_result"
    }
   ],
   "source": [
    "type(grow_old(person))"
   ]
  },
  {
   "cell_type": "code",
   "execution_count": 34,
   "id": "4ed962ec-6bf5-4e88-b402-b6401686820f",
   "metadata": {},
   "outputs": [],
   "source": [
    "def apply_f(f, Xs):\n",
    "    return [f(x) for x in Xs]\n",
    "\n",
    "Xs = [1, 2, 3, 4, 5]\n",
    "Fs = [\n",
    "    lambda x: x**2,\n",
    "    lambda x: x+3,\n",
    "    lambda x: x/(3+x)\n",
    "]\n",
    "\n",
    "Results = [apply_f(f, Xs) for f in Fs]"
   ]
  },
  {
   "cell_type": "code",
   "execution_count": 35,
   "id": "a6adafe6-5bda-4c5e-9276-bf530813aeed",
   "metadata": {},
   "outputs": [
    {
     "name": "stdout",
     "output_type": "stream",
     "text": [
      "[[1, 4, 9, 16, 25], [4, 5, 6, 7, 8], [0.25, 0.4, 0.5, 0.5714285714285714, 0.625]]\n"
     ]
    }
   ],
   "source": [
    "print(Results)"
   ]
  },
  {
   "cell_type": "code",
   "execution_count": 36,
   "id": "7c112f6e-ca98-419f-af15-351a1eb402a7",
   "metadata": {},
   "outputs": [
    {
     "name": "stdout",
     "output_type": "stream",
     "text": [
      "1 2 3\n"
     ]
    }
   ],
   "source": [
    "l = [1, 2, 3]\n",
    "a, b, c = l\n",
    "print(a, b, c)"
   ]
  },
  {
   "cell_type": "code",
   "execution_count": 37,
   "id": "320d960a-543a-4686-a6e4-a4e6e48a1f0f",
   "metadata": {},
   "outputs": [
    {
     "data": {
      "text/plain": [
       "6"
      ]
     },
     "execution_count": 37,
     "metadata": {},
     "output_type": "execute_result"
    }
   ],
   "source": [
    "def func_sum(x, y, z):\n",
    "    return x+y+z\n",
    "\n",
    "func_sum(a, b, c)"
   ]
  },
  {
   "cell_type": "code",
   "execution_count": 38,
   "id": "4f298b7b-1439-4859-babd-817c36219c6a",
   "metadata": {},
   "outputs": [
    {
     "data": {
      "text/plain": [
       "6"
      ]
     },
     "execution_count": 38,
     "metadata": {},
     "output_type": "execute_result"
    }
   ],
   "source": [
    "func_sum(*l)"
   ]
  },
  {
   "cell_type": "code",
   "execution_count": 39,
   "id": "c0da962a-d28a-4e5b-a85f-40627defcb90",
   "metadata": {},
   "outputs": [
    {
     "data": {
      "text/plain": [
       "6"
      ]
     },
     "execution_count": 39,
     "metadata": {},
     "output_type": "execute_result"
    }
   ],
   "source": [
    "def func_sum_2(*arg):\n",
    "    res = 0\n",
    "    for a in arg:\n",
    "        res += a\n",
    "    return res\n",
    "\n",
    "func_sum_2(*l)"
   ]
  },
  {
   "cell_type": "code",
   "execution_count": 40,
   "id": "5c510e68-5df7-45ab-8132-c4036352ffbb",
   "metadata": {},
   "outputs": [
    {
     "data": {
      "text/plain": [
       "45"
      ]
     },
     "execution_count": 40,
     "metadata": {},
     "output_type": "execute_result"
    }
   ],
   "source": [
    "l2 = list(range(0, 10))\n",
    "func_sum_2(*l2)"
   ]
  },
  {
   "cell_type": "code",
   "execution_count": 41,
   "id": "8a93ce49-d5ff-4bbd-9a5a-d0af3f7c9f11",
   "metadata": {},
   "outputs": [
    {
     "name": "stdout",
     "output_type": "stream",
     "text": [
      "argument name with value Charles\n",
      "argument age with value 80\n",
      "argument size with value 173\n",
      "argument gender with value M\n"
     ]
    }
   ],
   "source": [
    "def func_kwarg(**kwarg):\n",
    "    for k, v in kwarg.items():\n",
    "        print(f'argument {k} with value {v}')\n",
    "\n",
    "func_kwarg(**person)"
   ]
  },
  {
   "cell_type": "code",
   "execution_count": 42,
   "id": "a4c74087-1135-423b-a3c5-171257bb416e",
   "metadata": {},
   "outputs": [
    {
     "name": "stdout",
     "output_type": "stream",
     "text": [
      "argument a with value hoho\n",
      "argument N with value 3\n",
      "argument shopping with value [1, 'banana']\n",
      "argument feeling with value {'mood': 'happy', 'state': 'holidays'}\n"
     ]
    }
   ],
   "source": [
    "# Pack all keyword arguments in a dictionary first\n",
    "my_args = {\n",
    "           'a': 'hoho', \n",
    "           'N': 3, \n",
    "           'shopping': [1,'banana'], \n",
    "           'feeling': {'mood': 'happy', 'state': 'holidays'}\n",
    "          }\n",
    "\n",
    "# Then call the function\n",
    "func_kwarg(**my_args)"
   ]
  },
  {
   "cell_type": "code",
   "execution_count": 58,
   "id": "16019d20-499d-4d9e-80d3-3a8d369c7e7b",
   "metadata": {},
   "outputs": [],
   "source": [
    "# Text to be written (can be one line string 'my text' or multiple lines string - docstring)\n",
    "text = '''Gervaise avait attendu Lantier jusqua deux heures du matin. Puis,\n",
    "toute frissonnante detre restee en camisole a lair vif de la fenetre,\n",
    "elle setait assoupie, jetee en travers du lit, fievreuse, les joues\n",
    "trempees de larmes.\n",
    "'''\n",
    "\n",
    "# Open in write mode\n",
    "f = open('test.txt', 'w')\n",
    "\n",
    "# Write string\n",
    "f.write(text)\n",
    "\n",
    "# Close\n",
    "f.close()"
   ]
  },
  {
   "cell_type": "code",
   "execution_count": 59,
   "id": "a0a88c67-7884-407b-871b-c5bcfd3f40e2",
   "metadata": {},
   "outputs": [],
   "source": [
    "# ex1: remove all the 't' of the text \n",
    "# and write the result in a new file\n",
    "\n",
    "# ex2: compute the percentage of occurence \n",
    "# of each letter\n",
    "\n",
    "# ex3: write the text reversed (first letter \n",
    "# become the last one, last one become the first one)"
   ]
  },
  {
   "cell_type": "code",
   "execution_count": 60,
   "id": "d63a8c8a-1b06-4768-bf01-eb83a983ff89",
   "metadata": {},
   "outputs": [],
   "source": [
    "# Ex1\n",
    "finput = open('test.txt', 'r', encoding='utf-8')\n",
    "foutput = open('test_no_t.txt', 'w')\n",
    "for l in finput:\n",
    "    foutput.write(l.replace('t', ''))\n",
    "foutput.close()\n",
    "finput.close()"
   ]
  },
  {
   "cell_type": "code",
   "execution_count": 61,
   "id": "7d8b632e-2034-4eba-8ea1-fb3bae5f2734",
   "metadata": {},
   "outputs": [
    {
     "name": "stdout",
     "output_type": "stream",
     "text": [
      "[4, 3, 2, 1]\n",
      "4\n"
     ]
    }
   ],
   "source": [
    "l = [1, 2, 3, 4]\n",
    "\n",
    "# Slicing: l[start:stop:step]\n",
    "\n",
    "# Print list reverted\n",
    "print(l[::-1])\n",
    "\n",
    "# Print the last element\n",
    "print(l[-1])"
   ]
  },
  {
   "cell_type": "code",
   "execution_count": 62,
   "id": "b66c0d51-bc1a-401a-bd1a-1800bb715c31",
   "metadata": {},
   "outputs": [],
   "source": [
    "# Ex3\n",
    "finput = open('test.txt', 'r', encoding='utf-8')\n",
    "full_list = []\n",
    "for l in finput:\n",
    "    full_list += l\n",
    "# print(full_list)\n",
    "# print(full_list[::-1])\n",
    "\n",
    "# Write the backward version in a new file\n",
    "foutput = open('test_rev.txt', 'w')\n",
    "for letter in full_list[::-1]:\n",
    "    foutput.write(letter)\n",
    "foutput.close()\n",
    "finput.close()"
   ]
  },
  {
   "cell_type": "code",
   "execution_count": 63,
   "id": "7f9b4e5d-07b5-4e0b-96ef-35b54266b75d",
   "metadata": {},
   "outputs": [
    {
     "name": "stdout",
     "output_type": "stream",
     "text": [
      "G 0.4464285714285714\n",
      "e 17.410714285714285\n",
      "r 5.803571428571429\n",
      "v 2.232142857142857\n",
      "a 7.142857142857142\n",
      "i 5.803571428571429\n",
      "s 7.5892857142857135\n",
      "  14.285714285714285\n",
      "t 7.5892857142857135\n",
      "n 4.017857142857143\n",
      "d 3.125\n",
      "u 5.357142857142857\n",
      "L 0.4464285714285714\n",
      "j 1.3392857142857142\n",
      "q 0.4464285714285714\n",
      "x 0.4464285714285714\n",
      "h 0.4464285714285714\n",
      "m 1.7857142857142856\n",
      ". 0.8928571428571428\n",
      "P 0.4464285714285714\n",
      ", 2.232142857142857\n",
      "\n",
      " 1.7857142857142856\n",
      "o 2.232142857142857\n",
      "f 1.7857142857142856\n",
      "c 0.4464285714285714\n",
      "l 3.571428571428571\n",
      "p 0.8928571428571428\n"
     ]
    }
   ],
   "source": [
    "# ex2: compute the percentage of occurence \n",
    "# of each letter\n",
    "finput = open('test.txt', 'r', encoding='utf-8')\n",
    "count_letter = {}\n",
    "Ntot = 0\n",
    "for line in finput:\n",
    "    Ntot += len(line)\n",
    "    for letter in line:\n",
    "        if letter in count_letter:\n",
    "            count_letter[letter] += 1\n",
    "        else: count_letter[letter] = 1\n",
    "\n",
    "# Normalizing\n",
    "fraction_letter = {k: v/Ntot*100 for k, v in count_letter.items()}\n",
    "\n",
    "for k, v in fraction_letter.items():\n",
    "    print(k, v)"
   ]
  },
  {
   "cell_type": "code",
   "execution_count": 64,
   "id": "fdd3d8cf-c82f-4018-b926-098e3ee46ab1",
   "metadata": {},
   "outputs": [],
   "source": [
    "# Data taken from kaggle: https://www.kaggle.com/jolasa/waves-measuring-buoys-data-mooloolaba\n",
    "data_csv_format = '''index,date,height,heightMax,period,energy,direction,temperature\n",
    "1,01/01/2017 00:00,-99.9,-99.9,-99.9,-99.9,-99.9,-99.9\n",
    "2,01/01/2017 00:30,0.875,1.39,4.421,4.506,-99.9,-99.9\n",
    "3,01/01/2017 01:00,0.763,1.15,4.52,5.513,49,25.65\n",
    "4,01/01/2017 01:30,0.77,1.41,4.582,5.647,75,25.5\n",
    "5,01/01/2017 02:00,0.747,1.16,4.515,5.083,91,25.45\n",
    "6,01/01/2017 02:30,0.718,1.61,4.614,6.181,68,25.45\n",
    "7,01/01/2017 03:00,0.707,1.34,4.568,4.705,73,25.5\n",
    "8,01/01/2017 03:30,0.729,1.21,4.786,4.484,63,25.5\n",
    "9,01/01/2017 04:00,0.733,1.2,4.897,5.042,68,25.5\n",
    "10,01/01/2017 04:30,0.711,1.29,5.019,8.439,66,25.5\n",
    "11,01/01/2017 05:00,0.698,1.11,4.867,4.584,64,25.55\n",
    "12,01/01/2017 05:30,0.686,1.14,4.755,5.211,56,25.55\n",
    "13,01/01/2017 06:00,0.721,1.12,4.843,5.813,67,25.5\n",
    "14,01/01/2017 06:30,0.679,1.22,4.948,4.71,81,25.45\n",
    "15,01/01/2017 07:00,0.66,1.08,5.068,5.353,90,25.45\n",
    "16,01/01/2017 07:30,0.662,1.18,5.263,7.436,67,25.4\n",
    "17,01/01/2017 08:00,0.653,1.21,5.007,6.001,90,25.45\n",
    "18,01/01/2017 08:30,0.665,1.17,4.952,6.414,90,25.55\n",
    "19,01/01/2017 09:00,0.684,1.55,5.022,6.691,88,25.6\n",
    "20,01/01/2017 09:30,0.679,1.09,4.926,6.804,88,25.65\n",
    "21,01/01/2017 10:00,0.667,1.12,4.928,6.641,122,25.75\n",
    "22,01/01/2017 10:30,0.688,1.13,4.808,5.958,91,25.7\n",
    "23,01/01/2017 11:00,0.644,0.99,4.559,6.691,92,25.9\n",
    "'''\n",
    "\n",
    "# Create csv file using these data\n",
    "f = open('wave_data.csv', 'w')\n",
    "f.write(data_csv_format)\n",
    "f.close()"
   ]
  },
  {
   "cell_type": "code",
   "execution_count": 87,
   "id": "a3938946-24a3-4758-92fd-c498f94b93b6",
   "metadata": {},
   "outputs": [
    {
     "name": "stdout",
     "output_type": "stream",
     "text": [
      "['index', 'date', 'height', 'heightMax', 'period', 'energy', 'direction', 'temperature\\n']\n",
      "['1', '01/01/2017 00:00', '-99.9', '-99.9', '-99.9', '-99.9', '-99.9', '-99.9\\n']\n",
      "['2', '01/01/2017 00:30', '0.875', '1.39', '4.421', '4.506', '-99.9', '-99.9\\n']\n",
      "['3', '01/01/2017 01:00', '0.763', '1.15', '4.52', '5.513', '49', '25.65\\n']\n",
      "['4', '01/01/2017 01:30', '0.77', '1.41', '4.582', '5.647', '75', '25.5\\n']\n",
      "['5', '01/01/2017 02:00', '0.747', '1.16', '4.515', '5.083', '91', '25.45\\n']\n",
      "['6', '01/01/2017 02:30', '0.718', '1.61', '4.614', '6.181', '68', '25.45\\n']\n",
      "['7', '01/01/2017 03:00', '0.707', '1.34', '4.568', '4.705', '73', '25.5\\n']\n",
      "['8', '01/01/2017 03:30', '0.729', '1.21', '4.786', '4.484', '63', '25.5\\n']\n",
      "['9', '01/01/2017 04:00', '0.733', '1.2', '4.897', '5.042', '68', '25.5\\n']\n",
      "['10', '01/01/2017 04:30', '0.711', '1.29', '5.019', '8.439', '66', '25.5\\n']\n",
      "['11', '01/01/2017 05:00', '0.698', '1.11', '4.867', '4.584', '64', '25.55\\n']\n",
      "['12', '01/01/2017 05:30', '0.686', '1.14', '4.755', '5.211', '56', '25.55\\n']\n",
      "['13', '01/01/2017 06:00', '0.721', '1.12', '4.843', '5.813', '67', '25.5\\n']\n",
      "['14', '01/01/2017 06:30', '0.679', '1.22', '4.948', '4.71', '81', '25.45\\n']\n",
      "['15', '01/01/2017 07:00', '0.66', '1.08', '5.068', '5.353', '90', '25.45\\n']\n",
      "['16', '01/01/2017 07:30', '0.662', '1.18', '5.263', '7.436', '67', '25.4\\n']\n",
      "['17', '01/01/2017 08:00', '0.653', '1.21', '5.007', '6.001', '90', '25.45\\n']\n",
      "['18', '01/01/2017 08:30', '0.665', '1.17', '4.952', '6.414', '90', '25.55\\n']\n",
      "['19', '01/01/2017 09:00', '0.684', '1.55', '5.022', '6.691', '88', '25.6\\n']\n",
      "['20', '01/01/2017 09:30', '0.679', '1.09', '4.926', '6.804', '88', '25.65\\n']\n",
      "['21', '01/01/2017 10:00', '0.667', '1.12', '4.928', '6.641', '122', '25.75\\n']\n",
      "['22', '01/01/2017 10:30', '0.688', '1.13', '4.808', '5.958', '91', '25.7\\n']\n",
      "['23', '01/01/2017 11:00', '0.644', '0.99', '4.559', '6.691', '92', '25.9\\n']\n"
     ]
    }
   ],
   "source": [
    "# Ex1: loop over the csv file and organize the \n",
    "# data of the waves.\n",
    "raw_data = []\n",
    "for l in open('wave_data.csv', 'r'):\n",
    "    raw_data.append(l.split(','))\n",
    "\n",
    "for w in raw_data:\n",
    "    print(w)"
   ]
  },
  {
   "cell_type": "code",
   "execution_count": 102,
   "id": "c405f8cc-22df-488e-a81b-218d37a38177",
   "metadata": {},
   "outputs": [
    {
     "name": "stdout",
     "output_type": "stream",
     "text": [
      "height [-99.9, 0.875, 0.763, 0.77, 0.747, 0.718, 0.707, 0.729, 0.733, 0.711, 0.698, 0.686, 0.721, 0.679, 0.66, 0.662, 0.653, 0.665, 0.684, 0.679, 0.667, 0.688, 0.644]\n",
      "heightMax [-99.9, 1.39, 1.15, 1.41, 1.16, 1.61, 1.34, 1.21, 1.2, 1.29, 1.11, 1.14, 1.12, 1.22, 1.08, 1.18, 1.21, 1.17, 1.55, 1.09, 1.12, 1.13, 0.99]\n",
      "period [-99.9, 4.421, 4.52, 4.582, 4.515, 4.614, 4.568, 4.786, 4.897, 5.019, 4.867, 4.755, 4.843, 4.948, 5.068, 5.263, 5.007, 4.952, 5.022, 4.926, 4.928, 4.808, 4.559]\n",
      "energy [-99.9, 4.506, 5.513, 5.647, 5.083, 6.181, 4.705, 4.484, 5.042, 8.439, 4.584, 5.211, 5.813, 4.71, 5.353, 7.436, 6.001, 6.414, 6.691, 6.804, 6.641, 5.958, 6.691]\n",
      "direction [-99.9, -99.9, 49.0, 75.0, 91.0, 68.0, 73.0, 63.0, 68.0, 66.0, 64.0, 56.0, 67.0, 81.0, 90.0, 67.0, 90.0, 90.0, 88.0, 88.0, 122.0, 91.0, 92.0]\n",
      "temperature\n",
      " [-99.9, -99.9, 25.65, 25.5, 25.45, 25.45, 25.5, 25.5, 25.5, 25.5, 25.55, 25.55, 25.5, 25.45, 25.45, 25.4, 25.45, 25.55, 25.6, 25.65, 25.75, 25.7, 25.9]\n"
     ]
    }
   ],
   "source": [
    "# Organisation of feature vs data\n",
    "features = raw_data[0]\n",
    "data = raw_data[1:]\n",
    "\n",
    "# Set the proper type\n",
    "data_row = [ [float(x) for x in w[2:]] for w in data ]\n",
    "\n",
    "# Store by row\n",
    "data_col = {}\n",
    "for f in features[2:]:\n",
    "    data_col[f] = []\n",
    "#print(data_col)\n",
    "\n",
    "for w in data_row:\n",
    "    for i, f in enumerate(data_col.keys()):\n",
    "        data_col[f].append(w[i])\n",
    "\n",
    "#for f, v in data_col.items():\n",
    "#    print(f, v)"
   ]
  },
  {
   "cell_type": "code",
   "execution_count": 105,
   "id": "c9c3c5b8-318d-40ef-af2d-3cbdded32fd4",
   "metadata": {},
   "outputs": [
    {
     "name": "stdout",
     "output_type": "stream",
     "text": [
      "<height> = -3.67\n",
      "<heightMax> = -3.18\n",
      "<period> = 0.26\n",
      "<energy> = 1.22\n",
      "<direction> = 62.57\n",
      "<temperature\n",
      "> = 14.64\n"
     ]
    }
   ],
   "source": [
    "# Ex2: compute the average over the waves, for every feature.\n",
    "def average(l):\n",
    "    res = 0\n",
    "    for i in l:\n",
    "        res += i\n",
    "    return res/len(l)\n",
    "\n",
    "for f,Xs in data_col.items():\n",
    "    print(f'<{f}> = {average(Xs):.2f}')"
   ]
  },
  {
   "cell_type": "code",
   "execution_count": 110,
   "id": "89e86e33-cc31-4242-b7b2-a2153bd79d25",
   "metadata": {},
   "outputs": [
    {
     "data": {
      "text/plain": [
       "(0.0, 150.0)"
      ]
     },
     "execution_count": 110,
     "metadata": {},
     "output_type": "execute_result"
    },
    {
     "data": {
      "image/png": "[encoded data removed]",
      "text/plain": [
       "<Figure size 640x480 with 1 Axes>"
      ]
     },
     "metadata": {},
     "output_type": "display_data"
    }
   ],
   "source": [
    "import matplotlib.pyplot as plt\n",
    "plt.plot(data_col['energy'], data_col['direction'], 'o')\n",
    "plt.xlim(0, 10)\n",
    "plt.ylim(0, 150)"
   ]
  },
  {
   "cell_type": "code",
   "execution_count": null,
   "id": "805d6860-489d-4515-a862-da4fb1d07656",
   "metadata": {},
   "outputs": [],
   "source": []
  }
 ],
 "metadata": {
  "kernelspec": {
   "display_name": "Python 3 (ipykernel)",
   "language": "python",
   "name": "python3"
  },
  "language_info": {
   "codemirror_mode": {
    "name": "ipython",
    "version": 3
   },
   "file_extension": ".py",
   "mimetype": "text/x-python",
   "name": "python",
   "nbconvert_exporter": "python",
   "pygments_lexer": "ipython3",
   "version": "3.10.17"
  }
 },
 "nbformat": 4,
 "nbformat_minor": 5
}
