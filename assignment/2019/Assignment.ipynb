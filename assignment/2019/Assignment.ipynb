{
 "cells": [
  {
   "cell_type": "markdown",
   "metadata": {},
   "source": [
    "# Assignment to be handed in to romain.madar@cern.ch **and** lennart.rustige@cern.ch by 29/09/2019 23:59:59 CEST"
   ]
  },
  {
   "cell_type": "markdown",
   "metadata": {},
   "source": [
    "### Import and plots settings"
   ]
  },
  {
   "cell_type": "code",
   "execution_count": 2,
   "metadata": {},
   "outputs": [],
   "source": [
    "import numpy as np\n",
    "import matplotlib.pyplot as plt\n",
    "%matplotlib inline"
   ]
  },
  {
   "cell_type": "code",
   "execution_count": 1,
   "metadata": {},
   "outputs": [],
   "source": [
    "import matplotlib as mpl\n",
    "mpl.rcParams['legend.frameon'] = False\n",
    "mpl.rcParams['legend.fontsize'] = 'xx-large'\n",
    "mpl.rcParams['xtick.labelsize'] = 16\n",
    "mpl.rcParams['ytick.labelsize'] = 16\n",
    "mpl.rcParams['axes.titlesize'] = 18\n",
    "mpl.rcParams['axes.labelsize'] = 18\n",
    "mpl.rcParams['lines.linewidth'] = 2.5\n",
    "mpl.rcParams['figure.figsize'] = (10, 7)"
   ]
  },
  {
   "cell_type": "markdown",
   "metadata": {},
   "source": [
    "# Getting the data\n",
    "\n",
    "You can execute the first cell below, which will create a data set `data_set.npy` (you need **first** to download the file `DataGeneration.py` in your working directory). You can then load the data (stored in a binary format) into a numpy ndarray by setting the variable `file_name` to point to the file you have downloaded."
   ]
  },
  {
   "cell_type": "code",
   "execution_count": 4,
   "metadata": {},
   "outputs": [],
   "source": [
    "# Creating the dataset\n",
    "import DataGeneration as dg \n",
    "data = dg.generate_data(N=1000000)\n",
    "np.save('data_set.npy', data)"
   ]
  },
  {
   "cell_type": "code",
   "execution_count": 5,
   "metadata": {},
   "outputs": [],
   "source": [
    "# Loading the data\n",
    "file_name = 'data_set.npy'\n",
    "data = np.load(file_name)"
   ]
  },
  {
   "cell_type": "markdown",
   "metadata": {},
   "source": [
    "**a**. Familiarise yourself with the data set.\n",
    "- what is the dimensionality\n",
    "- how many entries are there\n",
    "- how can you access certain elements "
   ]
  },
  {
   "cell_type": "code",
   "execution_count": null,
   "metadata": {},
   "outputs": [],
   "source": []
  },
  {
   "cell_type": "markdown",
   "metadata": {},
   "source": [
    "The data set should contain 1,000,000 observations (blocks) of 9 3D spatial positions (points), i.e. $r_i = (x,y,z)_i$, which are simply obtained from independent normal distributions with $(\\mu_i,\\sigma_i) = (\\mu_x,\\mu_y,\\mu_z,\\sigma_x,\\sigma_y,\\sigma_z)_i$. For this dataset, we set $\\sigma_x=\\sigma_y=\\sigma_z=\\sigma=1$ for all normal distributions. The mean however is different for each of the normal distributions corresponding to one of the 9 points, so that the points are centered on the 8 corners of a cube with a side length of $2d=10$ and the base at $(0,0)$.\n",
    "\n",
    "If you did not fully understand this (and also otherwise), play around with the data and visualise it to get a better feeling of the structure."
   ]
  },
  {
   "cell_type": "markdown",
   "metadata": {},
   "source": [
    "**b**. Plot the 500 first observations in the $(x,y,z)$ space for all positions inclusively (with the same color), and then with one color for each of the 9 positions. "
   ]
  },
  {
   "cell_type": "code",
   "execution_count": null,
   "metadata": {},
   "outputs": [],
   "source": []
  },
  {
   "cell_type": "markdown",
   "metadata": {},
   "source": [
    "### Counting position within a circle of radius $R$\n",
    "\n",
    "**a**. Select the $r_i$ which are inside a sphere centered around the origin with a radius $R=10$, and the ones which are outside of it. Plot each $r_i$ in space for the first 500 observations (different colour for whether they are inside or outside the sphere)."
   ]
  },
  {
   "cell_type": "code",
   "execution_count": null,
   "metadata": {},
   "outputs": [],
   "source": []
  },
  {
   "cell_type": "markdown",
   "metadata": {},
   "source": [
    "b. Count the number of points **per observation** which are within the sphere, and plot the distribution of the number over the 1000000 observations."
   ]
  },
  {
   "cell_type": "code",
   "execution_count": null,
   "metadata": {},
   "outputs": [],
   "source": []
  },
  {
   "cell_type": "markdown",
   "metadata": {},
   "source": [
    "**c**. Numerically compute the radius $R_{95\\%}$ for a sphere that contains $95\\%$ of all the points."
   ]
  },
  {
   "cell_type": "markdown",
   "metadata": {},
   "source": [
    "# Impact of $\\sigma$"
   ]
  },
  {
   "cell_type": "markdown",
   "metadata": {},
   "source": [
    "You can study the effect of different variances on $R_{95\\%}$ as computed above by creating your own datasets and redo the calculation.\n",
    "\n",
    "We prepared a function to generate the data with different parameters in a `.py` file in this folder. You could import the content of that file into this notebook by using `import DataGeneration as dg`. \n",
    "\n",
    "Use the function defined in `DataGeneration` to create different data sets.\n",
    "\n",
    "- what is the dependence of $R_{95\\%}$ on the value of $\\sigma$ that you choose?\n",
    "- we are using randomn numbers for our simulation which change with each execution of the code. Statistically speaking, how stable is your computation of $R_{95\\%}$? How does that change if you vary the number of simulated observations?\n",
    "- how many observations do you nead at least to draw a meaningful conclusion about $R_{95\\%}$? This is meant to be answered in a very general fashion. Is it 1? 10? 100? 1,000,000?"
   ]
  },
  {
   "cell_type": "code",
   "execution_count": null,
   "metadata": {},
   "outputs": [],
   "source": []
  }
 ],
 "metadata": {
  "kernelspec": {
   "display_name": "Python 3 (ipykernel)",
   "language": "python",
   "name": "python3"
  },
  "language_info": {
   "codemirror_mode": {
    "name": "ipython",
    "version": 3
   },
   "file_extension": ".py",
   "mimetype": "text/x-python",
   "name": "python",
   "nbconvert_exporter": "python",
   "pygments_lexer": "ipython3",
   "version": "3.10.12"
  }
 },
 "nbformat": 4,
 "nbformat_minor": 4
}
