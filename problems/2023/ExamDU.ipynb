{
 "cells": [
  {
   "cell_type": "markdown",
   "id": "d1978f31",
   "metadata": {},
   "source": [
    "# Examen de Python (DU, 2023): Étude de polynômes\n",
    "\n",
    "> + **Durée:** 2h\n",
    "> + **Notebook final à envoyer** à la fin de l'examen à [romain.madar@cern.ch](mailto:romain.madar@cern.ch) et [louie.corpe@cern.ch](mailto:romain.madar@cern.ch)\n",
    "> + **Documents permis:** documentation de [python](https://docs.python.org/3/), [numpy](https://numpy.org/devdocs/user/index.html), [matplotlib](https://matplotlib.org/contents.html), [pandas](https://pandas.pydata.org/pandas-docs/stable/) et [scipy](https://docs.scipy.org/doc/scipy/reference/) avec également la documentation de l'interface du notebook en utlisant le raccourcis clavier `Shift+tab`, `help(module)` ou encore `help(function)`.\n",
    "> \n",
    "> La note finale sera un nombre entre 0 (mauvaise note) et 20 (bonne note). L'évaluation de cet examen prend en compte l'exactitude des réponses mais aussi la clareté des explications fournies et la qualité du code. *Aucune connaissance sur les polynômes n'est nécessaire pour répondre aux questions de cet examen.*"
   ]
  },
  {
   "cell_type": "markdown",
   "id": "86cb50df",
   "metadata": {},
   "source": [
    "## Informations générales\n",
    "\n",
    "### Contexte\n",
    "\n",
    "Les polynômes forment une classe de fonctions mathématiques utilisées (entres autres) en analyse de données pour différent aspects, comme par exemple des modélisations assez simples de certains phénomènes, ou encore des transformations des données à analyser afin d'extraire plus efficacement de l'information utile (*pre-processing*). Ce sujet propose une étude numérique de quelques polynômes.\n",
    "\n",
    "\n",
    "### Organisation de l'examen\n",
    "\n",
    "L'examen est séparé en deux parties, avec une troisième partie bonus. Dans la première partie, un polynôme de degré deux est étudié et dans la deuxième partie, des calculs numériques de dérivée et d'intégrale sont proposés. Enfin, la troisième partie - bonus- porte sur les polynômes de Lagrange, qui permettent d'interpoler facilement entre des points connus.\n",
    "\n",
    "\n",
    "### Importation des packages et style par défaut des graphiques"
   ]
  },
  {
   "cell_type": "code",
   "execution_count": 1,
   "id": "a163db48",
   "metadata": {},
   "outputs": [],
   "source": [
    "import random\n",
    "import numpy as np\n",
    "import pandas as pd\n",
    "import matplotlib.pyplot as plt"
   ]
  },
  {
   "cell_type": "code",
   "execution_count": 2,
   "id": "11892b76",
   "metadata": {},
   "outputs": [],
   "source": [
    "import matplotlib as mpl\n",
    "mpl.rcParams['legend.frameon'] = False\n",
    "mpl.rcParams['legend.fontsize'] = 'xx-large'\n",
    "mpl.rcParams['xtick.labelsize'] = 16\n",
    "mpl.rcParams['ytick.labelsize'] = 16\n",
    "mpl.rcParams['axes.titlesize'] = 18\n",
    "mpl.rcParams['axes.labelsize'] = 18\n",
    "mpl.rcParams['lines.linewidth'] = 2.5\n",
    "mpl.rcParams['figure.figsize'] = (10, 7)"
   ]
  },
  {
   "cell_type": "markdown",
   "id": "1da0520f",
   "metadata": {},
   "source": [
    "## 1. [7 pts] Autour d'un polynôme de degré 2"
   ]
  },
  {
   "cell_type": "markdown",
   "id": "fbbbf81a",
   "metadata": {},
   "source": [
    "Dans cette section, nous commençons par un polynôme de degré 2 passant par 3 points $(x_0, y_0)=(1, 1)$ et $(x_1, y_1)=(2, 1)$, $(x_2, y_2)=(3, 5)$ : \n",
    "\n",
    "$$\n",
    "P_2(x) \\;=\\; \\frac{1}{2}(x-2)(x-3) \\;-\\; (x-1)(x-3) \\;+\\; \\frac{5}{2}(x-1)(x-2)\n",
    "$$"
   ]
  },
  {
   "cell_type": "markdown",
   "id": "e3d29401",
   "metadata": {},
   "source": [
    "**1.1 [1.5 pts]** Écrire une fonction python `P2(x)` qui prend en argument une valeur (ou une liste de valeurs) `x` et renvoie la (ou les) valeur(s) de $P_2(x)$. Vérifier que $P_2(x=1) = 1$, $P_2(x=2) = 1$ et $P_2(x=3) = 5$."
   ]
  },
  {
   "cell_type": "code",
   "execution_count": 3,
   "id": "4fdebcde",
   "metadata": {},
   "outputs": [],
   "source": []
  },
  {
   "cell_type": "markdown",
   "id": "ed84122f",
   "metadata": {},
   "source": [
    "**1.2 [1.5 pts]** Tracer le graphique du polynome $P_2(x)$ en fonction $x$ pour $x$ compris entre $0$ et $4$."
   ]
  },
  {
   "cell_type": "code",
   "execution_count": null,
   "id": "87ede2bf",
   "metadata": {},
   "outputs": [],
   "source": []
  },
  {
   "cell_type": "markdown",
   "id": "4974c329",
   "metadata": {},
   "source": [
    "**1.3 [1.5 pts]** Ajouter à ce graphique les trois points $(x_0, y_0)=(1, 1)$ et $(x_1, y_1)=(2, 1)$, $(x_2, y_2)=(3, 5)$, avec une légende pour le polynôme $P_2(x)$ et pour les 3 points."
   ]
  },
  {
   "cell_type": "code",
   "execution_count": null,
   "id": "9aace4a1",
   "metadata": {},
   "outputs": [],
   "source": []
  },
  {
   "cell_type": "markdown",
   "id": "c1ea768d",
   "metadata": {},
   "source": [
    "**1.4 [2.5 pts]** Tracer sur ce même graphique chaque terme du polynôme $P_2(x)$, soit :\n",
    " + $a_1(x)=\\frac{1}{2}(x-2)(x-3)$, \n",
    " + $a_2(x)=-(x-1)(x-3)$,\n",
    " + $a_3(x) = \\frac{5}{2}(x-1)(x-2)$ \n",
    "\n",
    "tel que $P_2(x) = a_1(x) + a_2(x) + a_3(x)$. Comment se comportent $a_2(x)$ et $a_3(x)$ au niveau du premier point $(1, 1)$ ?"
   ]
  },
  {
   "cell_type": "code",
   "execution_count": null,
   "id": "5747b4e7",
   "metadata": {},
   "outputs": [],
   "source": []
  },
  {
   "cell_type": "markdown",
   "id": "0e6d6261",
   "metadata": {},
   "source": [
    "## 2. [13 pts] Dérivation et intégration numérique"
   ]
  },
  {
   "cell_type": "markdown",
   "id": "2ea62fab",
   "metadata": {},
   "source": [
    "**2.1 [2.5 pts]** Ecrire une fonction `derive(Xs, Ys)` qui calcule numériquement la dérivée $\\Delta_i$ d'une fonction mathématique $f(x)$ à partir des $n$ valeurs discrètes $(x_i, y_i=f(x_i))$. Les formules suivantes indiquent l'expression de la dérivée :\n",
    "\n",
    "$$\n",
    "\\Delta_0 \\; = \\; \\frac{y_{1} - y_{0}}{x_{1} - x_{0}} ~~,~~ \\Delta_1 \\; = \\; \\frac{y_{2} - y_{1}}{x_{2} - x_{1}} ~~ ...~~ \\Delta_i \\; = \\; \\frac{y_{i+1} - y_{i}}{x_{i+1} - x_{i}} ~~...\n",
    "$$"
   ]
  },
  {
   "cell_type": "code",
   "execution_count": null,
   "id": "10fa3fb8",
   "metadata": {},
   "outputs": [],
   "source": []
  },
  {
   "cell_type": "markdown",
   "id": "c4660af3",
   "metadata": {},
   "source": [
    "**2.2 [1 pts]** Tester cette fonction avec les listes de nombres `Xs`et `Ys` utilisées pour faire le graphique de la question *1.2* ou *1.3* (si ces questions n'ont pas été traitées, on pourra utiliser d'autres listes de nombres, basées sur une fonction de son choix). Combien de valeurs contient la liste des derivées ?"
   ]
  },
  {
   "cell_type": "code",
   "execution_count": null,
   "id": "5012df70",
   "metadata": {},
   "outputs": [],
   "source": []
  },
  {
   "cell_type": "markdown",
   "id": "353e5571",
   "metadata": {},
   "source": [
    "**2.3 [1 pts]** Afin de tracer la derivée en fonction de $x$, il faut retravailler la liste de valeurs de $x$ pour que les deux aient la même dimension. On pourra considérer que la dérivée calculée $\\Delta_i$ correspond à la valeur de la derivée en $\\bar{x} = \\frac{x_{i} \\, + \\, x_{i-1}}{2}$. Calculer la liste des $\\bar{x}$ et tracer la dérivée en fonction de $\\bar{x}$."
   ]
  },
  {
   "cell_type": "code",
   "execution_count": null,
   "id": "c8dc1dc9",
   "metadata": {},
   "outputs": [],
   "source": []
  },
  {
   "cell_type": "markdown",
   "id": "3c63fcd8",
   "metadata": {},
   "source": [
    "**2.4 [2.5 pts]** Nous allons maintenant calculer numériquement l'intégrale d'une fonction mathématique $f(x)$, à partir des liste des $n$ valeurs discrètes $(x_i, y_i=f(x_i))$ : \n",
    "\n",
    "$$\n",
    "\\int^{x_n}_{x_0} f(x)dx \\approx f(x_0) (x_1-x_0) + f(x_1) (x_2-x_1) + ... + f(x_{n-1}) (x_n-x_{n-1})\n",
    "$$\n",
    "\n",
    "Écrire une fonction python `integrale(xs, ys)` qui renvoie le résultat de l'intégrale (*i.e.* un nombre). On pourra procéder en 3 étapes : (1) écrire la liste des $f(x_i)$ s'arrêtant à $n-1$ (2) écrire la liste des $(x_{i}-x_{i-1})$, ou $i$ s'arrête à $n$, (3) effectuer la somme finale indiquée par l'équation ci-dessus.\n",
    "\n",
    "Montrez alors que $\\int^{4}_{0} P_2(x) dx = 14.65$."
   ]
  },
  {
   "cell_type": "code",
   "execution_count": null,
   "id": "b093fe79",
   "metadata": {},
   "outputs": [],
   "source": []
  },
  {
   "cell_type": "markdown",
   "id": "2779242f",
   "metadata": {},
   "source": [
    "**2.3 [6 pts]** Le but de cette question est d'estimer la précision du calcul numérique de la dérivée en fonction du nombre de valeurs discrètes utilisées $n$ (échantillonage), et ce sur quatre fonctions différentes. Pour ce faire, un jeu de données est fourni sous forme d'un fichier `csv` appelé `derivative_data.csv` et qui contient 8 colonnes : la valeur de la dérivée exacte en un certain point pour chacune des 4 fonctions, ainsi que les estimations numériques en ce même point pour chacune des 4 fonctions. Toutes ces valeurs sont données pour plusieurs valeurs de $n$.\n",
    "\n",
    "  + **a. [1 pts]** Charger le fichier sous la forme d'un `dataframe` et déterminer combien de valeurs de $n$ ont été considérées dans cette étude ? Donner la plus petite et la plus grande valeur de $n$ du jeu de données fourni.\n",
    "  \n",
    "  + **b. [1.5 pts]** Ajouter une colonne par fonction au dataframe contenant la différence relative, exprimée en %, entre les prédictions et les résultats exacts : `(prediction-exact)/exact * 100`\n",
    "  \n",
    "  + **c. [1.5 pts]** Tracer sur un même graphique l'évolution du logarithme de la différence relative en fonction de $n$ pour chaque fonction.\n",
    "  \n",
    "  + **d. [2 pts]** Pour chacune des 4 fonctions, déterminer la valeur de $n$ à partir de laquelle la précision est meilleure que $0.01\\%$."
   ]
  },
  {
   "cell_type": "code",
   "execution_count": null,
   "id": "5bed3ea3",
   "metadata": {},
   "outputs": [],
   "source": []
  },
  {
   "cell_type": "markdown",
   "id": "9981c0fa",
   "metadata": {},
   "source": [
    "## 3. [Bonus 6 pts] Polynômes de Lagrange\n",
    "\n",
    "\n",
    "Le polynôme de la partie 1. fait parti d'une classe de polynômes, appelée polynômes de Lagrange qui permettent de définir une fonction polynômiale qui interpole entre plusieurs points connus. Il se trouve que le polynôme $P_2(x)$ étudié dans la partie 1 peut également s'écrire:\n",
    "\n",
    "$$\n",
    "P_2(x) \\;=\\; y_0 \\left(\\frac{x-x_1}{x_0-x_1}\\right)\\left(\\frac{x-x_2}{x_0-x_2}\\right) \\;+\\; y_1 \\left(\\frac{x-x_0}{x_1-x_0}\\right)\\left(\\frac{x-x_2}{x_1-x_2}\\right) \\;+\\; y_2 \\left(\\frac{x-x_0}{x_2-x_0}\\right)\\left(\\frac{x-x_1}{x_2-x_1}\\right)\n",
    "$$\n",
    "\n",
    "Cette forme permet alors d'être facilement généralisable à un degré quelconque. En effet, le polynôme de Lagrange de degré $n$ est une fonction polynômiale passant par $n$ points fixés $(x_i, y_i)$, et peut s'écrire de la manière suivante:\n",
    "\n",
    "$$\n",
    "P_{n}(x) = \\sum^{n-1}_{i=0} y_i \\times \\mathcal{L}_i(x)\n",
    "$$\n",
    "\n",
    "avec $\\mathcal{L}_i(x)$ est une fonction qui vaut $1$ en $x_i$ et $0$ partout ailleurs :\n",
    "\n",
    "$$\n",
    "\\mathcal{L}_i(x) = \\prod_{j \\neq i} \\frac{x-x_j}{x_i-x_j}\n",
    "$$\n",
    "\n",
    "**3.1 [2 pts]** Écrire une fonction python `PolynomeLagrange(points, x)` qui prend en argument une liste de $n$ points $(x_i, y_i)$ et une valeur $x$, et qui renvoie la valeur du polynôme qui passe par les $n$ points, évalué en $x$."
   ]
  },
  {
   "cell_type": "code",
   "execution_count": null,
   "id": "3bcefdb5",
   "metadata": {},
   "outputs": [],
   "source": []
  },
  {
   "cell_type": "markdown",
   "id": "4ee96061",
   "metadata": {},
   "source": [
    "**3.2 [1 pts]** Tester cette fonction avec les points $(x_i, y_i)$ de la première partie, en tracant $P_2(x)$ en fonction de $x$, obtenu à partir de `PolynomeLagrange(points, x)`."
   ]
  },
  {
   "cell_type": "code",
   "execution_count": 16,
   "id": "08216a7f",
   "metadata": {},
   "outputs": [
    {
     "name": "stdout",
     "output_type": "stream",
     "text": [
      "Lagrange(1) = 1.0\n",
      "Lagrange(2) = 1.0\n",
      "Lagrange(3) = 5.0\n"
     ]
    }
   ],
   "source": [
    "# Definition of the points\n",
    "xys = [ [1, 1], [2, 1], [3, 5] ]\n",
    "\n",
    "# Printing the fixed values\n",
    "for x in [1, 2, 3]:\n",
    "    print(f'Lagrange({x}) = {PolynomeLagrange(xys, x)}')"
   ]
  },
  {
   "cell_type": "code",
   "execution_count": null,
   "id": "7440eeb1",
   "metadata": {},
   "outputs": [],
   "source": []
  },
  {
   "cell_type": "markdown",
   "id": "a6537a25",
   "metadata": {},
   "source": [
    "**3.3 [3 pts]** Nous allons maintenant utiliser cette fonction générique pour déterminer une interpolation entre des points de mesure, c'est-à-dire une fonction mathématique qui relie en ensemble de points connus, entres eux. Voici les 20 points que nous allons considérer:"
   ]
  },
  {
   "cell_type": "code",
   "execution_count": null,
   "id": "95943488",
   "metadata": {},
   "outputs": [],
   "source": [
    "xdata = np.linspace(-5, 3.0, 20)\n",
    "ydata = 2*(np.sin(x/2)**2 + np.random.random(20)*0.3)"
   ]
  },
  {
   "cell_type": "markdown",
   "id": "64f7bd64",
   "metadata": {},
   "source": [
    "  + **a. [1 pts]** Tracer les points sur un graphique.\n",
    "  + **b. [1 pts]** Tracer le polynôme de Lagrange passant par ces 20 points\n",
    "  + **c. [1 pts]** Pensez-vous que c'est une interpolation satisfaisante ?"
   ]
  },
  {
   "cell_type": "code",
   "execution_count": null,
   "id": "e8551acc",
   "metadata": {},
   "outputs": [],
   "source": []
  }
 ],
 "metadata": {
  "kernelspec": {
   "display_name": "Python 3 (ipykernel)",
   "language": "python",
   "name": "python3"
  },
  "language_info": {
   "codemirror_mode": {
    "name": "ipython",
    "version": 3
   },
   "file_extension": ".py",
   "mimetype": "text/x-python",
   "name": "python",
   "nbconvert_exporter": "python",
   "pygments_lexer": "ipython3",
   "version": "3.9.12"
  }
 },
 "nbformat": 4,
 "nbformat_minor": 5
}
