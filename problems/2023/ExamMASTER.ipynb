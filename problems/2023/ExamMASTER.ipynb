{
 "cells": [
  {
   "cell_type": "markdown",
   "id": "dd9bc12d",
   "metadata": {},
   "source": [
    "# Python Exam (Master, 2023): Least action principle\n",
    "\n",
    "> + **Allocated time:** 1.5h\n",
    "> + **Drop your final notebook** *renamed with your family name* at the end of the exam on this [page](https://cernbox.cern.ch/s/bI1GIkPeJqpBvQE)\n",
    "> + **Allowed documents:** documentation of [python](https://docs.python.org/3/), [numpy](https://numpy.org/devdocs/user/index.html), [matplotlib](https://matplotlib.org/contents.html), [pandas](https://pandas.pydata.org/pandas-docs/stable/) and [scipy](https://docs.scipy.org/doc/scipy/reference/) as well as the documentation from the notebook interface using `Shift+tab` keyboard shortcut, `help(module)` or `help(function)`.\n",
    "> \n",
    "> The final mark will be a number between 0 (very bad) and 20 (very good). The evaluation of this exam takes into account mainly the correctness of the answers, but also the clarity of the explanations and the quality of the code. *There is no required knowledge about least action principle to answer the questions asked in this exam.*"
   ]
  },
  {
   "cell_type": "markdown",
   "id": "6fb5ab62",
   "metadata": {},
   "source": [
    "## General informations\n",
    "\n",
    "### A bit of context ...\n",
    "\n",
    "Least action principle is a formalism which offers an alternative way to describe laws of mechanics, namely the fundamental principle of dynamics, as known as Newtow second's law. The basic idea is a classical system will evolve such that the trajectory $\\vec{r}(t)$ minimizes a certain quantity, called *action*. In addition, the quantum mechanics can naturally be derived from the least action principle, assuming that *all trajectories are explored by the system*. If, after the exam, you want to read a bit more about this, you can read [the Feynman lectures on this topic](https://www.feynmanlectures.caltech.edu/II_19.html).\n",
    "\n",
    "\n",
    "### Exam organisation\n",
    "\n",
    "The first section of the exam is an introduction to the the notion of 'trajectory', which is the path followed by the system in space-time $(t, \\vec{x})$. The second section proposes to develop a numerical method to compute integrals and quantify the precision of the numerical result. A third *bonus* section presents the computation the action for an actual physical problem.\n",
    "\n",
    "\n",
    "### Import packages and plot cosmetics"
   ]
  },
  {
   "cell_type": "code",
   "execution_count": 1,
   "id": "aab04107",
   "metadata": {},
   "outputs": [],
   "source": [
    "import random\n",
    "import numpy as np\n",
    "import pandas as pd\n",
    "import matplotlib.pyplot as plt"
   ]
  },
  {
   "cell_type": "code",
   "execution_count": 2,
   "id": "71bc0b1c",
   "metadata": {},
   "outputs": [],
   "source": [
    "import matplotlib as mpl\n",
    "mpl.rcParams['legend.frameon']  = False\n",
    "mpl.rcParams['legend.fontsize'] = 'xx-large'\n",
    "mpl.rcParams['xtick.labelsize'] = 16\n",
    "mpl.rcParams['ytick.labelsize'] = 16\n",
    "mpl.rcParams['axes.titlesize']  = 18\n",
    "mpl.rcParams['axes.labelsize']  = 18\n",
    "mpl.rcParams['lines.linewidth'] = 2.5\n",
    "mpl.rcParams['figure.figsize']  = (10, 7)"
   ]
  },
  {
   "cell_type": "markdown",
   "id": "fcab8cf6",
   "metadata": {},
   "source": [
    "## 1. [8 pts] Working with a trajectory\n",
    "\n",
    "A trajectory is defined as being the evolution of variable describing a system (*e.g.* a spatial position) with time. We will consider a 1D system for this problem, having in mind a falling ball described by its height which varies with time $z(t)$. We will consider the following boundary conditions : the initial coordinate is $z_i=1$ at $t_i=0$ and the final one is $z_f=0$ at $t_f=1$.\n",
    "\n",
    "**1.1 [1 pts]** Produce a graphic with these two points (no line in between)."
   ]
  },
  {
   "cell_type": "code",
   "execution_count": null,
   "id": "416c6cee",
   "metadata": {},
   "outputs": [],
   "source": []
  },
  {
   "cell_type": "markdown",
   "id": "9a87474e",
   "metadata": {},
   "source": [
    "**2. [2 pts]** We will now consider sets of functions that pass by these two points. We start with $f_p(t) = (1-t)^p$, where $p$ will later vary. Write a python function calculating to $f_p(t)$ for any $t$ and $p$ values. On the same figure, overlay curves corresponding to the points $(t, f_p(t))$ for 5 different $p$ values, from 0.1 to 10."
   ]
  },
  {
   "cell_type": "code",
   "execution_count": null,
   "id": "a77fa3a4",
   "metadata": {},
   "outputs": [],
   "source": []
  },
  {
   "cell_type": "markdown",
   "id": "1d82afc8",
   "metadata": {},
   "source": [
    "**3. [2 pts]** Create a discrete path, *i.e.* a set of $N$ points $(x_i, t_i)$ satisfying $x_i = f(t_i)$, with $N=1000$ and $p=5$. Compute numerically the derivative of this trajectory $\\frac{\\Delta x}{\\Delta t}$, defined as below. Note that in this definition, the obtained derivative is actually the one evaluated on $\\frac{t_{i+1}+t_{i}}{2}$. \n",
    "$$\n",
    "\\frac{\\Delta x}{\\Delta t} \\equiv \\frac{x_{i+1} - x_{i}}{t_{i+1} - t_{i}}\n",
    "$$"
   ]
  },
  {
   "cell_type": "code",
   "execution_count": null,
   "id": "2bff375d",
   "metadata": {},
   "outputs": [],
   "source": []
  },
  {
   "cell_type": "markdown",
   "id": "72d03039",
   "metadata": {},
   "source": [
    "**4. [3 pts]** Now, we want to plot the discrete derivative and path as function of time, on the same plot :\n",
    "\n",
    " - **a** this is not possible with the previously obtained array of the derivative, why ?\n",
    " - **b** fix it by redefining $x_i$ and $t_i$ values. Produce the plot."
   ]
  },
  {
   "cell_type": "code",
   "execution_count": null,
   "id": "88820b43",
   "metadata": {},
   "outputs": [],
   "source": []
  },
  {
   "cell_type": "markdown",
   "id": "6ef945a7",
   "metadata": {},
   "source": [
    "## 2. [12 pts] Numerical integral\n",
    "\n",
    "The goal of this section is to write a python function that compute the discrete integral of a mathematical function $L(t)$ on $[0, 1]$, defined as:\n",
    "$$\n",
    "\\int^1_0 L(t)\\, dt \\; \\approx \\; \\sum^{N-2}_{i=0} \\: L(t_i) \\, \\Delta t_i\n",
    "$$\n",
    "where $N$ is the number of points used for the discretisation ($t_0=0$, $t_{N-1}=1$) and $\\Delta t_i \\equiv t_{i+1} - t_{i}$. This method is also known as the rectangle method. Pay attention that the last point is left out from the sum : $i$ stops at $N-2$.\n",
    "\n",
    "**2.1 [3 pts]** Write a function taking in argument a mathematical function $L$ and $N$, which:\n",
    "   1. creates a discrete set of $N$ points $(x_i, t_i)$ from a mathematical equation $L$ (we'll take $N=1000$ by default)\n",
    "   2. compute the array of $\\Delta t_i$\n",
    "   3. compute and return the discrete integral"
   ]
  },
  {
   "cell_type": "code",
   "execution_count": null,
   "id": "a6775d02",
   "metadata": {},
   "outputs": [],
   "source": []
  },
  {
   "cell_type": "markdown",
   "id": "bc45b31d",
   "metadata": {},
   "source": [
    "**2.2 [1 pts]** Show that the result of the obtained function applied on $L(t)=(1-t)^3$ is $0.2505$"
   ]
  },
  {
   "cell_type": "code",
   "execution_count": null,
   "id": "510518b0",
   "metadata": {},
   "outputs": [],
   "source": []
  },
  {
   "cell_type": "markdown",
   "id": "26023ada",
   "metadata": {},
   "source": [
    "**2.3 [8 pts] Convergence test using existing data.** For $L(t) = (1-t)^p$, the exact integral can be easily computed and is:\n",
    "$$\n",
    "I_{exact} \\; \\equiv \\; \\int^1_0 L(t) \\, dt \\;=\\; \\frac{1}{p+1}\n",
    "$$\n",
    "\n",
    "The goal of this question is to find what is the minium number of discrete points to obtain a precision better than 0.01% on the integral. For this, a dataset `integral_data.csv` is provided and contains the value of the numerical integral for different $N$ values, and this for 7 different values of $p$: `[3, 5, 10, 15, 20, 25, 30]`.\n",
    "\n",
    "\n",
    "**2.3.1 [1 pts]** Load the `csv` as a dataframe. How many N values are included in the dataset ?"
   ]
  },
  {
   "cell_type": "code",
   "execution_count": null,
   "id": "0fd557eb",
   "metadata": {},
   "outputs": [],
   "source": []
  },
  {
   "cell_type": "markdown",
   "id": "3471b22e",
   "metadata": {},
   "source": [
    "**2.3.2 [2 pts]** For each p value, add a new column corresponding to the relative error of the computed integral:\n",
    "$$\n",
    "\\sigma = \\frac{I - I_{exact}}{I_{exact}}\n",
    "$$"
   ]
  },
  {
   "cell_type": "code",
   "execution_count": null,
   "id": "7e50e784",
   "metadata": {},
   "outputs": [],
   "source": []
  },
  {
   "cell_type": "markdown",
   "id": "8ce175ea",
   "metadata": {},
   "source": [
    "**2.3.3 [2 pts]** Plot the logarithm of the relative error versus N, for all p values on the same figure."
   ]
  },
  {
   "cell_type": "code",
   "execution_count": null,
   "id": "798bc3d3",
   "metadata": {},
   "outputs": [],
   "source": []
  },
  {
   "cell_type": "markdown",
   "id": "140b9403",
   "metadata": {},
   "source": [
    "**2.3.4 [3 pts]** For each value of $p$, find the first value of N for which $\\sigma<10^{-4}$. Which reason could explain the trend with p ?"
   ]
  },
  {
   "cell_type": "code",
   "execution_count": null,
   "id": "c031de20",
   "metadata": {},
   "outputs": [],
   "source": []
  },
  {
   "cell_type": "markdown",
   "id": "89f9335b",
   "metadata": {},
   "source": [
    "**2.4 [Bonus 2 pts] Convergence test computing data.** Considering p values of `[3, 5, 10, 20]`, compute the value of $N$ for which the numerical integral is accurate at $0.01\\%$, by performing yourself all integral computations. One can scan N values from 1000 to 15000 using a step of 500."
   ]
  },
  {
   "cell_type": "code",
   "execution_count": null,
   "id": "8634f19d",
   "metadata": {},
   "outputs": [],
   "source": []
  },
  {
   "cell_type": "markdown",
   "id": "529c4481",
   "metadata": {},
   "source": [
    "## 3. [Bonus 6 pts] Computing the action of a system\n",
    "\n",
    "We now have everything in hand to compute a path integral. For this, we define the *lagrangien* of the system as being $\\mathcal{L} = K - V$, where $K$ is the kinetic energy $K=\\frac{1}{2} m \\left(\\frac{\\Delta x}{\\Delta t}\\right)^2$ and $U$ is the potential energy (*e.g.* for a free falling problem, $V(x) = -mgx$). The lagrangien is a function of time, through the trajectory $x(t)$ and an integral over time can be performed : it defines the *action* $\\mathcal{S} = \\int \\mathcal{L}(t) dt$. Note that the lagrangian can be seen as a 'function of function', since it depends on $t$ only *via* a function $x(t)$.\n",
    "\n",
    "**3.1 [1 pts]** Define a python function `lagrangian_terms(f, N)` which takes in argument a function `f(x)` and $N$, being the number of discret points, and returns four arrays:\n",
    " + `T`: $(t_i+t_{i+1})/2$ values, \n",
    " + `dT`: $(t_i-t_{i+1})$ values, \n",
    " + `K` and `V` such as $\\mathcal{L} = K-V$.\n",
    " \n",
    "We consider the case of a free falling system with $m=1$kg and $g=1$m.s$^{-2}$ : \n",
    "\n",
    "$$\n",
    "K=\\frac{1}{2} m \\left(\\frac{\\Delta x}{\\Delta t}\\right)^2\n",
    "$$\n",
    "\n",
    "$$\n",
    "V = -x(t)\n",
    "$$\n"
   ]
  },
  {
   "cell_type": "code",
   "execution_count": null,
   "id": "a1e17ad6",
   "metadata": {},
   "outputs": [],
   "source": []
  },
  {
   "cell_type": "markdown",
   "id": "efa25cc0",
   "metadata": {},
   "source": [
    "**3.2 [1 pts]** Overlay on the same figure the kinetic energy, the potential energy and the lagrangien as function of time for $x(t) = (1-t)^3$. If you want (not mandatory), you can encapsulate this into a function `plot_lagrangian(traj, N)` which takes in argument a mathematical function `traj`, the number of discrete points `N`, and and does all the steps up to the plotting."
   ]
  },
  {
   "cell_type": "code",
   "execution_count": null,
   "id": "21115f67",
   "metadata": {},
   "outputs": [],
   "source": []
  },
  {
   "cell_type": "markdown",
   "id": "31df8f65",
   "metadata": {},
   "source": [
    "**3.3 [2 pts]** The goal of this function is to write and test a function that computes the action for a given mathematical function $x(t)$. The arguments would be the lagrangien function `lag` (as defined in question 3.1 for the free falling problem), the trajectory function describing $x(t)$ `traj` and the number of discrete points $N$.\n",
    "\n",
    " a. Write the function."
   ]
  },
  {
   "cell_type": "code",
   "execution_count": null,
   "id": "2bb31386",
   "metadata": {},
   "outputs": [],
   "source": []
  },
  {
   "cell_type": "markdown",
   "id": "f0c32662",
   "metadata": {},
   "source": [
    " b. Show that the action for the free falling problem with a trajectory $x(t)=(1-t)^3$, discretized with $N=1000$ points, is $\\mathcal{S}=1.15$ J.s"
   ]
  },
  {
   "cell_type": "code",
   "execution_count": null,
   "id": "8f5a4d85",
   "metadata": {},
   "outputs": [],
   "source": []
  },
  {
   "cell_type": "markdown",
   "id": "fcfba8ff",
   "metadata": {},
   "source": [
    "**3.4 [1 pts]** For which value $p_{min}$, the action is minimal assuming a trajectory $x(t)=(1-t)^p$ ? We would consider to scan the value of $p$ from 0.5 to 4, with $200$ values. What is the value of the minimized action ?"
   ]
  },
  {
   "cell_type": "code",
   "execution_count": null,
   "id": "f1cdb06d",
   "metadata": {},
   "outputs": [],
   "source": []
  },
  {
   "cell_type": "markdown",
   "id": "4258a0f8",
   "metadata": {},
   "source": [
    "**3.5 [1 pts]** Plot each term of the lagrangian and the lagrangian for $p=1$, $p=p_{min}$ and $p=3$. On a third plot, overlay the three trajectories $x(t)=(1-t)$, $x(t)=(1-t)^{p_{min}}$ and $x(t)=(1-t)^3$."
   ]
  },
  {
   "cell_type": "code",
   "execution_count": null,
   "id": "da94a5db",
   "metadata": {},
   "outputs": [],
   "source": []
  }
 ],
 "metadata": {
  "kernelspec": {
   "display_name": "Python 3 (ipykernel)",
   "language": "python",
   "name": "python3"
  },
  "language_info": {
   "codemirror_mode": {
    "name": "ipython",
    "version": 3
   },
   "file_extension": ".py",
   "mimetype": "text/x-python",
   "name": "python",
   "nbconvert_exporter": "python",
   "pygments_lexer": "ipython3",
   "version": "3.9.12"
  }
 },
 "nbformat": 4,
 "nbformat_minor": 5
}
