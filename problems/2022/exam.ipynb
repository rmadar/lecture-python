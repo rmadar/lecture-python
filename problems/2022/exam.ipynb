{
 "cells": [
  {
   "cell_type": "markdown",
   "id": "1332ad7d",
   "metadata": {},
   "source": [
    "# Python Exam (Master, 08/11/2022): Random walk\n",
    "\n",
    "> + **Allocated time:** 1.5h\n",
    "> + **Send your final notebook** at the end of the exam at [romain.madar@cern.ch](mailto:romain.madar@cern.ch)\n",
    "> + **Allowed documents:** documentation of [python](https://docs.python.org/3/), [numpy](https://numpy.org/devdocs/user/index.html), [matplotlib](https://matplotlib.org/contents.html), [pandas](https://pandas.pydata.org/pandas-docs/stable/) and [scipy](https://docs.scipy.org/doc/scipy/reference/) as well as the documentation from the notebook interface using `Shift+tab` keyboard shortcut, `help(module)` or `help(function)`.\n",
    "> \n",
    "> The final mark will be a number between 0 (very bad) and 20 (very good). The evaluation of this exam takes into account mainly the correctness of the answers, but also the clarity of the explanations and the quality of the code. *There is no required knowledge about random walks to answer the questions asked in this exam.*"
   ]
  },
  {
   "cell_type": "markdown",
   "id": "80de0eef",
   "metadata": {},
   "source": [
    "## General informations\n",
    "\n",
    "### A bit of context ...\n",
    "\n",
    "A random walk (or \"drunk man walk\") describes the motion of an object in space, as a serie of steps where each step is done randomely. This type of random process appears in many physical systems (*e.g.* brownian motion) and have some universal properties which can be studied. In this exam, we propose to simulate a random walk in two dimensions and numerically study some of their properties. To better understand, you can imagine a random walk at one dimension : at each iteration of the walk (a step), the stystem randomely moves to the right (forward, step of $+1$) or to the left (backward, step of $-1$).\n",
    "\n",
    "\n",
    "### Exam organisation\n",
    "\n",
    "The exam is organized in three parts, starting beforehand with two short questions on the lecture itself. The goal of the first part is to implement the simulation of a 2D random walk, in pure python first and then exploiting numpy. The second part and third parts are devoted to the study of individual and collective properties of random walks. Finally, there is a bonus part related to a modified random walk (to be not that random).\n",
    "\n",
    "\n",
    "### Import packages and plot cosmetics"
   ]
  },
  {
   "cell_type": "code",
   "execution_count": 31,
   "id": "448c8b96",
   "metadata": {},
   "outputs": [],
   "source": [
    "import random\n",
    "import numpy as np\n",
    "import pandas as pd\n",
    "import matplotlib.pyplot as plt"
   ]
  },
  {
   "cell_type": "code",
   "execution_count": 32,
   "id": "7cd32449",
   "metadata": {},
   "outputs": [],
   "source": [
    "import matplotlib as mpl\n",
    "mpl.rcParams['legend.frameon'] = False\n",
    "mpl.rcParams['legend.fontsize'] = 'xx-large'\n",
    "mpl.rcParams['xtick.labelsize'] = 16\n",
    "mpl.rcParams['ytick.labelsize'] = 16\n",
    "mpl.rcParams['axes.titlesize'] = 18\n",
    "mpl.rcParams['axes.labelsize'] = 18\n",
    "mpl.rcParams['lines.linewidth'] = 2.5\n",
    "mpl.rcParams['figure.figsize'] = (10, 7)"
   ]
  },
  {
   "cell_type": "markdown",
   "id": "e5170803",
   "metadata": {},
   "source": [
    "## 0. Questions on the lecture [2 pts]"
   ]
  },
  {
   "cell_type": "markdown",
   "id": "194a705c",
   "metadata": {},
   "source": [
    "**0.1 [1pts]** Explain in one sentence what the *vectorization* in numpy"
   ]
  },
  {
   "cell_type": "code",
   "execution_count": null,
   "id": "e11a7fcd",
   "metadata": {},
   "outputs": [],
   "source": []
  },
  {
   "cell_type": "markdown",
   "id": "c449ca17",
   "metadata": {},
   "source": [
    "**0.2 [1pts]** Give two examples of different behaviour of numpy array and python list"
   ]
  },
  {
   "cell_type": "code",
   "execution_count": null,
   "id": "63d6d95e",
   "metadata": {},
   "outputs": [],
   "source": []
  },
  {
   "cell_type": "markdown",
   "id": "2dea24f6",
   "metadata": {},
   "source": [
    "## 1. Python *versus* numpy implementation [6 pts]\n",
    "\n",
    "The equation which describes one single step of the random walk is $\\vec{r}_{i+1} = \\vec{r}_{i} + \\vec{\\Delta}_{i}$, where $\\vec{r}_i$ is the position before the step, $\\vec{r}_{i+1}$ is position after the step and $\\vec{\\Delta}_{i}$ is a *random vector*. Each coordinate of $\\vec{\\Delta}_{i}$ can take the value $-1$ or $1$ only, with a flat probablity $p=0.5$.\n",
    "\n",
    "**1.1 [2 pts]** Using only native python functions, write a python function called `random_walk_py()` that takes in argument a number of steps `n` and return all the positions of the random walk, choosing a starting point of $\\vec{r}_{0} \\equiv (0, 0)$. More specifically, this function will return two arrays of length $n$ each, $\\{x_i\\}$ and $\\{y_i\\}$, such as each position is defined by $\\vec{r}_{i} = (x_i, y_i)$. At this stage, we will use the function `random.randint()` from python (not the one from numpy) to handle random numbers, and you must write an explicit python `for` loop.\n",
    "\n",
    "*hint:* to get a random number which is either -1 or 1, one could use a random number being 0 or 1, multiply by 2 and subtracting 1.\n"
   ]
  },
  {
   "cell_type": "code",
   "execution_count": null,
   "id": "1383c14b",
   "metadata": {},
   "outputs": [],
   "source": []
  },
  {
   "cell_type": "markdown",
   "id": "435fbbbc",
   "metadata": {},
   "source": [
    "**1.2 [1 pts]** Generate a random walk of 10000 steps and plot the trajectory using `plt.scatter()` function. One would represent the time (or the step index) using the color of the markers. \n",
    "\n",
    "*hint:* one can display the color scale bar using `plt.colorbar()` command."
   ]
  },
  {
   "cell_type": "code",
   "execution_count": null,
   "id": "78455fff",
   "metadata": {},
   "outputs": [],
   "source": []
  },
  {
   "cell_type": "markdown",
   "id": "1bcdea56",
   "metadata": {},
   "source": [
    "**1.3 [2 pts]** In this question, we want to write a new function `random_walk_np()` exploiting the power of numpy, especially without explicit `for` loops. Once the function is written, generate one random walk and plot it as done in *question 1.2*\n",
    "\n",
    "*hint:* the function to generate random integers in numpy is `np.ramdom.randint()`"
   ]
  },
  {
   "cell_type": "code",
   "execution_count": null,
   "id": "f7f78c15",
   "metadata": {},
   "outputs": [],
   "source": []
  },
  {
   "cell_type": "markdown",
   "id": "683196b8",
   "metadata": {},
   "source": [
    "**1.4 [1 pts]** Compare the rapidity of the two function using the command `%timeit my_func()`, and conclude."
   ]
  },
  {
   "cell_type": "code",
   "execution_count": null,
   "id": "d7e71723",
   "metadata": {},
   "outputs": [],
   "source": []
  },
  {
   "cell_type": "markdown",
   "id": "3ee1b3cb",
   "metadata": {},
   "source": [
    "## 2. Individual properties of random walks [6 pts]\n",
    "\n",
    "The goal of this section is perform some computation related to a single random walk, while the next section will be devoted to the anlaysis of the statistical behaviour of random walks.\n",
    " \n",
    "**2.1 [1 pts]** Plot the distance from the origin, as function of time (or step index), in other words $|\\vec{r}_i|$ as function of $i$."
   ]
  },
  {
   "cell_type": "code",
   "execution_count": null,
   "id": "03173611",
   "metadata": {},
   "outputs": [],
   "source": []
  },
  {
   "cell_type": "markdown",
   "id": "5dd378aa",
   "metadata": {},
   "source": [
    "**2.2 [1 pts]** Plot the distribution of the $x$'s and $y$'s values overlaid on the same plot."
   ]
  },
  {
   "cell_type": "code",
   "execution_count": null,
   "id": "1d8332fa",
   "metadata": {},
   "outputs": [],
   "source": []
  },
  {
   "cell_type": "markdown",
   "id": "651fe2f1",
   "metadata": {},
   "source": [
    "**2.3 [1 pts]** Compute and print the asymmetry $A_x$ ($A_y$) of the sample of points with respect to 0 along the $x$-axis ($y$-axis), defined as $A_i = \\frac{N(i>0) - N(i<0)}{N(i>0) + N(i<0)}$ where $N(cond)$ is the number of points satisfying a given condition."
   ]
  },
  {
   "cell_type": "code",
   "execution_count": null,
   "id": "3b209ee5",
   "metadata": {},
   "outputs": [],
   "source": []
  },
  {
   "cell_type": "markdown",
   "id": "0a8f8254",
   "metadata": {},
   "source": [
    "**2.4 [2 pts]** Compute the distance of each step, namely $|\\vec{\\Delta_i}|$, using the arrays $\\{x_i\\}$ and $\\{y_i\\}$. Plot this distance as function of time (or step index). Can you comment the result?"
   ]
  },
  {
   "cell_type": "code",
   "execution_count": null,
   "id": "557949b5",
   "metadata": {},
   "outputs": [],
   "source": []
  },
  {
   "cell_type": "markdown",
   "id": "62e62b1c",
   "metadata": {},
   "source": [
    "**2.5 [1 pts]** Compare the evolution of the distance $|\\vec{r}_i|$ with time for 5 different random walks. Could you comment?"
   ]
  },
  {
   "cell_type": "code",
   "execution_count": null,
   "id": "459fa3b5",
   "metadata": {},
   "outputs": [],
   "source": []
  },
  {
   "cell_type": "markdown",
   "id": "7e06bf04",
   "metadata": {},
   "source": [
    "## 3. Statistical properties of random walks [6 pts]\n",
    "\n",
    "The goal of this last section is analyse the statistical properties of random walks, and find in particular typical time dependence of the diffusion processes $d \\sim \\sqrt{t}$. \n",
    "\n",
    "**3.1 [1 pts]** Using an explicit for loops, simulate 10000 random walks of 10000 steps each, and plot the distribution of the final 10000th $x$ and $y$ values of each random walk. Compute and print the RMS of the two distributions."
   ]
  },
  {
   "cell_type": "code",
   "execution_count": null,
   "id": "497b68ac",
   "metadata": {},
   "outputs": [],
   "source": []
  },
  {
   "cell_type": "markdown",
   "id": "a063cb3b",
   "metadata": {},
   "source": [
    "**3.2 [3 pts]** By considering now all the positions of the 10k random walks (and not only the final position), investigate the evolution of the RMS of the $\\{x_i\\}$ and $\\{y_i\\}$ positions distribution over the 10k walks, with time (or the step index)."
   ]
  },
  {
   "cell_type": "code",
   "execution_count": null,
   "id": "20d9876e",
   "metadata": {},
   "outputs": [],
   "source": []
  },
  {
   "cell_type": "markdown",
   "id": "796c6dfb",
   "metadata": {},
   "source": [
    "**3.3 [2 pts]** Plot the distribution of the asymmetry over the 10k random walks."
   ]
  },
  {
   "cell_type": "code",
   "execution_count": null,
   "id": "e02166e9",
   "metadata": {},
   "outputs": [],
   "source": []
  },
  {
   "cell_type": "markdown",
   "id": "584cbb0a",
   "metadata": {},
   "source": [
    "## 4. Bonus question [3 pts]\n",
    "\n",
    "We will now consider a modified random walk, for which one direction will be favoured. We will assume that there is a force along the $x$-axis direction, modifying the probability of doing forward and backward steps. In practice, you will need to re-write the function `random_walk_np()` with two arguments, the number of steps and the asymmetry $p$ along the x-axis, such as the probablity of the steps $+1$ and $-1$ along the $x$-axis will be $0.5+p$ and $0.5-p$ respectively, where $p \\in [0, 0.5]$. This new function can be called `random_walk_np_asym()`.\n",
    "\n",
    "**4.1 [1 pts]** Write the function `random_walk_np_asym()`.\n",
    "\n",
    "*hint:* one can use the function `np.random.choice()` to randomly choose between two values, possibly with some associated probabilities."
   ]
  },
  {
   "cell_type": "code",
   "execution_count": null,
   "id": "61ce8ebd",
   "metadata": {},
   "outputs": [],
   "source": []
  },
  {
   "cell_type": "markdown",
   "id": "bdd1d17b",
   "metadata": {},
   "source": [
    "**4.2 [2 pts]** Plot the mean and the RMS of the $x$ coordinate of the last position for 10000 random walks of 10000 steps, as function of $p$. Interpret the results."
   ]
  },
  {
   "cell_type": "code",
   "execution_count": null,
   "id": "17bdbc47",
   "metadata": {},
   "outputs": [],
   "source": []
  }
 ],
 "metadata": {
  "kernelspec": {
   "display_name": "Python 3 (ipykernel)",
   "language": "python",
   "name": "python3"
  },
  "language_info": {
   "codemirror_mode": {
    "name": "ipython",
    "version": 3
   },
   "file_extension": ".py",
   "mimetype": "text/x-python",
   "name": "python",
   "nbconvert_exporter": "python",
   "pygments_lexer": "ipython3",
   "version": "3.9.12"
  }
 },
 "nbformat": 4,
 "nbformat_minor": 5
}
