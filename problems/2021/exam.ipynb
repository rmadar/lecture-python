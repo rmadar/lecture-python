{
 "cells": [
  {
   "cell_type": "markdown",
   "metadata": {},
   "source": [
    "# Python Exam (Master, 09/11/2021): Coupled harmonic oscillators\n",
    "\n",
    "> + **Allocated time:** 1.5h\n",
    "> + **Send your final notebook** at the end of the exam at [romain.madar@cern.ch](mailto:romain.madar@cern.ch) and [louis.vaslin@cern.ch](mailto:louis.vaslin@cern.ch)\n",
    "> + **Allowed documents:** documentation of [python](https://docs.python.org/3/), [numpy](https://numpy.org/devdocs/user/index.html), [matplotlib](https://matplotlib.org/contents.html), [pandas](https://pandas.pydata.org/pandas-docs/stable/) and [scipy](https://docs.scipy.org/doc/scipy/reference/) as well as the documentation from the notebook interface using `Shift+tab` keyboard shortcut, `help(module)` or `help(function)`.\n",
    "> \n",
    "> The final mark will be a number between 0 (very bad) and 20 (very good). The evaluation of this exam takes into account mainly the correctness of the answers, but also the clarity of the explanations and the quality of the code. *There is no required knowledge about coupled oscillators to answer the questions asked in this exam.*"
   ]
  },
  {
   "cell_type": "markdown",
   "metadata": {},
   "source": [
    "## General informations\n",
    "\n",
    "### A bit of context ...\n",
    "\n",
    "The dynamic of harmonic oscillators is almost everywhere in physics, from the simple pendulum to wave propagation, including quantum field theory describing elementary particles and their interactions. The only needed information about an oscillator is that it is described by a single variable varying with time (one can think about an angle of a pendulum or the height of hanging mass to a spring). In the following this coordinate will be written $r_i(t)$ for the $i^{th}$ oscillator and $v_i(t)$ is defined as the velocity of the oscillator: $v_i(t) \\equiv \\mathrm{d}r_i/\\mathrm{d}t$.\n",
    "\n",
    "### Data format\n",
    "\n",
    "For N oscillators described for $n$ times values, the data to be analyzed are provided in the `csv` format with $2N+1$ columns and $n$ lines. The first column is the value of the time in second, the second column is the position of the first oscillator $r_1$, the third column is the velocity of the first oscillator $v_1$, etc ...\n",
    "\n",
    "### Exam organisation\n",
    "\n",
    "This exam proposes few studies of harmonic oscillators, organized into two parts. The first part is dedicated to a system of two coupled oscillators while the second part focuses on a vibrating string dynamic. But before these two part, some questions on the lectures are proposed. A bonus question can be done at the end if time allows.\n",
    "\n",
    "\n",
    "### Import packages and plot cosmetics"
   ]
  },
  {
   "cell_type": "code",
   "execution_count": 1,
   "metadata": {},
   "outputs": [],
   "source": [
    "import numpy as np\n",
    "import pandas as pd\n",
    "import matplotlib.pyplot as plt"
   ]
  },
  {
   "cell_type": "code",
   "execution_count": 2,
   "metadata": {},
   "outputs": [],
   "source": [
    "import matplotlib as mpl\n",
    "mpl.rcParams['legend.frameon'] = False\n",
    "mpl.rcParams['legend.fontsize'] = 'xx-large'\n",
    "mpl.rcParams['xtick.labelsize'] = 16\n",
    "mpl.rcParams['ytick.labelsize'] = 16\n",
    "mpl.rcParams['axes.titlesize'] = 18\n",
    "mpl.rcParams['axes.labelsize'] = 18\n",
    "mpl.rcParams['lines.linewidth'] = 2.5\n",
    "mpl.rcParams['figure.figsize'] = (10, 7)"
   ]
  },
  {
   "cell_type": "markdown",
   "metadata": {},
   "source": [
    "## 0. Questions on the lecture [3pts]\n",
    "\n",
    "**0.1 [1pts]** Give three caracteristics of a numpy array"
   ]
  },
  {
   "cell_type": "code",
   "execution_count": null,
   "metadata": {},
   "outputs": [],
   "source": []
  },
  {
   "cell_type": "markdown",
   "metadata": {},
   "source": [
    "**0.2 [1pts]** Explain in one sentence what the *vectorization* in numpy"
   ]
  },
  {
   "cell_type": "code",
   "execution_count": null,
   "metadata": {},
   "outputs": [],
   "source": []
  },
  {
   "cell_type": "markdown",
   "metadata": {},
   "source": [
    "**0.3 [1pts]** Give two examples of different behaviour of numpy array and python list"
   ]
  },
  {
   "cell_type": "code",
   "execution_count": null,
   "metadata": {},
   "outputs": [],
   "source": []
  },
  {
   "cell_type": "markdown",
   "metadata": {},
   "source": [
    "## 1. Two coupled oscillators (12pts)\n",
    "\n",
    "**1.1. [1pts]** Load the `csv` file `two_oscillators.csv` as panda dataframe and print the position of the two oscillators for the 5 first time values."
   ]
  },
  {
   "cell_type": "code",
   "execution_count": null,
   "metadata": {},
   "outputs": [],
   "source": []
  },
  {
   "cell_type": "markdown",
   "metadata": {},
   "source": [
    "**1.2. [2pts]** What is the initial condition of the system? Plot the evolution of $r_1(t)$ and $r_2(t)$ with time on the same figure. What is roughly the period of the oscillations (one can adujst the x-axis scale to make the plot more readable)?"
   ]
  },
  {
   "cell_type": "code",
   "execution_count": null,
   "metadata": {},
   "outputs": [],
   "source": []
  },
  {
   "cell_type": "markdown",
   "metadata": {},
   "source": [
    "**1.3 [3pts]** Compute the velocity of the first oscillator *from its position only*. As a reminder the *numerical derivative* of a quantity $x$ known for discrete time values is defined as \n",
    "$$\n",
    "\\frac{\\mathrm{d}x}{\\mathrm{d}t} = \\frac{x(t_j) - x(t_{j-1})}{t_{j} - t_{j-1}}\n",
    "$$\n",
    "(this corresponds to the estimation of the derivated at $t = (t_{j} + t_{j-1}) / 2$\n",
    "\n",
    "Is the size of the obtained array the same as the columns of the dataframe (and why)?\n",
    "\n",
    "**Important**: for this question you must manipulate directly numpy array (and not dataframe column). To do so, you can use the following syntax: `array_myVar = df.myVar.values`, where `myVar` is the name of a dataframe column"
   ]
  },
  {
   "cell_type": "code",
   "execution_count": null,
   "metadata": {},
   "outputs": [],
   "source": []
  },
  {
   "cell_type": "markdown",
   "metadata": {},
   "source": [
    "**1.4 [2pts]** Plot on the same figure the obtained velocity versus time, and the provided velocity versus time. Pay attention to the time values you use for each case."
   ]
  },
  {
   "cell_type": "code",
   "execution_count": null,
   "metadata": {},
   "outputs": [],
   "source": []
  },
  {
   "cell_type": "markdown",
   "metadata": {},
   "source": [
    "**1.5 [2 pts]** In this question, we want to check whether the motion of each oscillator is symetric with respect to its rest position $r_i=0$. By defining four masks (first/second oscillator being on the positive/negative side), compute the four corresponding position means. In the same way, compute the average velocities for the four cases."
   ]
  },
  {
   "cell_type": "code",
   "execution_count": null,
   "metadata": {},
   "outputs": [],
   "source": []
  },
  {
   "cell_type": "markdown",
   "metadata": {},
   "source": [
    "**1.6 [2 pts]** Plot the distribution of the position of each oscillator when the velocity is below and above 50% of the maximum velocity (in absolute value)? One can plot one figure per oscillator, and overlay position distributions for fast and slow motions on each figure."
   ]
  },
  {
   "cell_type": "code",
   "execution_count": null,
   "metadata": {},
   "outputs": [],
   "source": []
  },
  {
   "cell_type": "markdown",
   "metadata": {},
   "source": [
    "## 2. Vibrating string [5pts]\n",
    "\n",
    "We assuming now that each oscillator moves along the y direction, *i.e* $r_i(t) = y_i(t)$, but has a fixed position along the x direction. To simplify, we choose the x value of the $i^{th}$ oscillator to be $x_i = i$. This system describes then an horizontal string vibrating in one dimension."
   ]
  },
  {
   "cell_type": "markdown",
   "metadata": {},
   "source": [
    "**2.1. [1pts]** Load the `csv` file `n_oscillators.csv` as panda dataframe and check how many oscillators are in the system, and how many time values are considered, and for which time interval."
   ]
  },
  {
   "cell_type": "code",
   "execution_count": null,
   "metadata": {},
   "outputs": [],
   "source": []
  },
  {
   "cell_type": "markdown",
   "metadata": {},
   "source": [
    "**2.2 [2pts]** Compute the average and standard deviation of the y-position for each oscillator. Plot both the average and the standard deviation (on separated plots) as function of the position of the oscillator along the x-axis. An explicit `for` loop over the oscillators is allowed. Where does the string vibrate the most?"
   ]
  },
  {
   "cell_type": "code",
   "execution_count": null,
   "metadata": {},
   "outputs": [],
   "source": []
  },
  {
   "cell_type": "markdown",
   "metadata": {},
   "source": [
    "**2.3 [2pts]** Plot the string (*i.e.* $y(t)$ as function of $x$) for few time values, namely every 200 seconds approximately. Does this confirm your previous answer?"
   ]
  },
  {
   "cell_type": "code",
   "execution_count": null,
   "metadata": {},
   "outputs": [],
   "source": []
  },
  {
   "cell_type": "markdown",
   "metadata": {},
   "source": [
    "## 3. Bonus question [3pts]\n",
    "\n",
    "Using the data of the two coupled oscillators motion, plot the \"phase diagram\", *i.e.*, the velocity *versus* the position. It is also useful to display somehow the time values, in order to have an idea of the motion within the sphase space."
   ]
  },
  {
   "cell_type": "code",
   "execution_count": null,
   "metadata": {},
   "outputs": [],
   "source": []
  }
 ],
 "metadata": {
  "kernelspec": {
   "display_name": "Python 3 (ipykernel)",
   "language": "python",
   "name": "python3"
  },
  "language_info": {
   "codemirror_mode": {
    "name": "ipython",
    "version": 3
   },
   "file_extension": ".py",
   "mimetype": "text/x-python",
   "name": "python",
   "nbconvert_exporter": "python",
   "pygments_lexer": "ipython3",
   "version": "3.9.12"
  }
 },
 "nbformat": 4,
 "nbformat_minor": 4
}
